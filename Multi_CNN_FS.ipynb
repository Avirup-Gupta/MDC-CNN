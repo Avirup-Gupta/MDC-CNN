{
  "nbformat": 4,
  "nbformat_minor": 0,
  "metadata": {
    "colab": {
      "name": "Multi_CNN_FS.ipynb",
      "provenance": [],
      "collapsed_sections": [],
      "mount_file_id": "1wK9TLDYTeLOg9OAldeQJB2keqCykpXpM",
      "authorship_tag": "ABX9TyNcOkAeHRry+5qMEJlXBy0E",
      "include_colab_link": true
    },
    "kernelspec": {
      "display_name": "Python 3",
      "name": "python3"
    }
  },
  "cells": [
    {
      "cell_type": "markdown",
      "metadata": {
        "id": "view-in-github",
        "colab_type": "text"
      },
      "source": [
        "<a href=\"https://colab.research.google.com/github/avirupg8708/MDC-CNN/blob/main/Multi_CNN_FS.ipynb\" target=\"_parent\"><img src=\"https://colab.research.google.com/assets/colab-badge.svg\" alt=\"Open In Colab\"/></a>"
      ]
    },
    {
      "cell_type": "markdown",
      "metadata": {
        "id": "BRKPrvPjrtXA"
      },
      "source": [
        "Some cells are marked as #CHECK, ar for checking purposes. Some marked as #NOT TO BE EXECUTED should be avoided if not absolutely required "
      ]
    },
    {
      "cell_type": "code",
      "metadata": {
        "colab": {
          "base_uri": "https://localhost:8080/"
        },
        "id": "KqbVAZK7geuS",
        "outputId": "8a34f5e6-a761-4f85-a115-ea45d11820e9"
      },
      "source": [
        "!pip install mne\n",
        "!pip install PyIF\n",
        "!pip install nose\n",
        "import nose\n",
        "import mne\n",
        "import numpy as np\n",
        "import os\n",
        "import pandas as pd\n",
        "import collections\n",
        "from matplotlib import pyplot as plt\n",
        "import cv2\n",
        "from sklearn import preprocessing"
      ],
      "execution_count": 1,
      "outputs": [
        {
          "output_type": "stream",
          "text": [
            "Collecting mne\n",
            "\u001b[?25l  Downloading https://files.pythonhosted.org/packages/60/f7/2bf5de3fad42b66d00ee27539bc3be0260b4e66fdecc12f740cdf2daf2e7/mne-0.23.0-py3-none-any.whl (6.9MB)\n",
            "\u001b[K     |████████████████████████████████| 7.0MB 10.7MB/s \n",
            "\u001b[?25hRequirement already satisfied: numpy>=1.15.4 in /usr/local/lib/python3.7/dist-packages (from mne) (1.19.5)\n",
            "Requirement already satisfied: scipy>=1.1.0 in /usr/local/lib/python3.7/dist-packages (from mne) (1.4.1)\n",
            "Installing collected packages: mne\n",
            "Successfully installed mne-0.23.0\n",
            "Collecting PyIF\n",
            "  Downloading https://files.pythonhosted.org/packages/1f/d9/91c5bcfae19e5dc1c1b96258cee8ad29695a43a25a9dc88d8a533e204128/PyIF-0.1-py3-none-any.whl\n",
            "Installing collected packages: PyIF\n",
            "Successfully installed PyIF-0.1\n",
            "Collecting nose\n",
            "\u001b[?25l  Downloading https://files.pythonhosted.org/packages/15/d8/dd071918c040f50fa1cf80da16423af51ff8ce4a0f2399b7bf8de45ac3d9/nose-1.3.7-py3-none-any.whl (154kB)\n",
            "\u001b[K     |████████████████████████████████| 163kB 12.7MB/s \n",
            "\u001b[?25hInstalling collected packages: nose\n",
            "Successfully installed nose-1.3.7\n"
          ],
          "name": "stdout"
        }
      ]
    },
    {
      "cell_type": "code",
      "metadata": {
        "id": "5SJSQsRw0sZp"
      },
      "source": [
        "######### MAIN CODE BEGINS ##############\n",
        "xlsx_file_name='/content/drive/MyDrive/TUH data/seizures_v36r.xlsx'"
      ],
      "execution_count": 2,
      "outputs": []
    },
    {
      "cell_type": "code",
      "metadata": {
        "id": "69j07EnR1Fs2"
      },
      "source": [
        "excel_file = os.path.join(xlsx_file_name)\n",
        "file_list = pd.read_excel(excel_file, sheet_name='dev', usecols=['Filename'])\n",
        "patient_id = pd.read_excel(excel_file, sheet_name='dev', usecols=['Patient'])\n",
        "seizure_type = pd.read_excel(excel_file, sheet_name='dev', usecols=['Seizure Type'])\n",
        "start_time=pd.read_excel(excel_file, sheet_name='dev', usecols=['Start'])\n",
        "start_time=(start_time.to_numpy())\n",
        "stop_time=pd.read_excel(excel_file, sheet_name='dev', usecols=['Stop'])\n",
        "stop_time=(stop_time.to_numpy())\n",
        "file_list=np.array(file_list)\n",
        "patient_id=np.array(patient_id)\n",
        "seizure_type=np.array(seizure_type)\n"
      ],
      "execution_count": 3,
      "outputs": []
    },
    {
      "cell_type": "code",
      "metadata": {
        "id": "ZFXaFN6lBbSz",
        "colab": {
          "base_uri": "https://localhost:8080/"
        },
        "outputId": "21e6aaad-0dc8-4abc-a4d3-f86babca6fff"
      },
      "source": [
        "#CHECK\n",
        "no=104 ##input the index \n",
        "no=no-2 ##adjusting with the seizure file list xlsx\n",
        "print('file_no:', no)\n",
        "print(file_list[no])\n",
        "print('seizure type:',seizure_type[no])\n",
        "print('start time',start_time[no])\n",
        "print('stop time',stop_time[no])"
      ],
      "execution_count": 9,
      "outputs": [
        {
          "output_type": "stream",
          "text": [
            "file_no: 102\n",
            "['./dev/01_tcp_ar/046/00004671/s008_2012_08_24/00004671_s008_t000.tse']\n",
            "seizure type: [nan]\n",
            "start time [nan]\n",
            "stop time [nan]\n"
          ],
          "name": "stdout"
        }
      ]
    },
    {
      "cell_type": "code",
      "metadata": {
        "colab": {
          "base_uri": "https://localhost:8080/"
        },
        "id": "-tsnHF7R0C8C",
        "outputId": "59a34298-de66-44ba-b41c-298d74a8d7bb"
      },
      "source": [
        "fpath=['intial']\n",
        "labels=[1]\n",
        "labels=np.array([labels])\n",
        "\n",
        "#in our case the initial file was a non seizure one so we initialized according, can be changed.\n",
        "#the multiplication of sampling freq must be considered so as to not exceed the length \n",
        "cl_st=[10]\n",
        "cl_en=[50]\n",
        "\n",
        "\n",
        "loc='/content/drive/MyDrive/TUH data' #for google colab\n",
        "#loc='C:/TUH/v1.1.0/edf' #for PC\n",
        "\n",
        "for i in range(1,1407):\n",
        "  if seizure_type[i]==['TCSZ'] or seizure_type[i]==['FNSZ'] or seizure_type[i]==['CPSZ'] or seizure_type[i]==['GNSZ']:\n",
        "    fl=(file_list[i])\n",
        "    fl=fl[0]\n",
        "    #print('Original path: ',fl)\n",
        "    #print('The file path after stripping: ',fl[6:])\n",
        "    fl=fl.replace('.tse','.edf')\n",
        "    s=os.path.join(loc,(fl[6:]))\n",
        "    #print('The modified path is: ',s) \n",
        "    #s=fl.replace(fl[:fl.index[6]],'/content/drive/MyDrive/TUH data')\n",
        "    if os.path.isfile(s)==True:\n",
        "      \n",
        "      fpath.append(s)\n",
        "      labels=np.append(labels, [[1]], axis=0)\n",
        "      check_neg=start_time[i]-20\n",
        "      if check_neg>0:\n",
        "        cl_st.append(float(start_time[i]-20))\n",
        "      else:\n",
        "        cl_st.append(0)  \n",
        "      cl_en.append(float(stop_time[i]))\n",
        "\n",
        "    \n",
        "  else:\n",
        "    fl=(file_list[i])\n",
        "    fl=fl[0]\n",
        "    #print('Original path: ',fl)\n",
        "    #print('The file path after stripping: ',fl[6:])\n",
        "    fl=fl.replace('.tse','.edf')\n",
        "    s=os.path.join(loc,(fl[6:]))\n",
        "    #print('The modified path is: ',s)\n",
        "    #fpath.append(str(file_list[i]).replace('.tse','.edf'))\n",
        "    if os.path.isfile(s)==True:\n",
        "      \n",
        "      fpath.append(s)\n",
        "      labels=np.append(labels, [[0]], axis=0)\n",
        "      cl_st.append(10)\n",
        "      cl_en.append(50)\n",
        "\n",
        "    \n",
        "\n",
        "fpath=fpath[1:]\n",
        "labels=labels[1:]\n",
        "cl_st=cl_st[1:]\n",
        "cl_en=cl_en[1:]\n",
        "\n",
        "#print('The modified paths are:',fpath)\n",
        "print('size of fpath:', len(fpath))\n",
        "#print('The modified labels are:',labels)\n",
        "train_labels=labels\n",
        "print(cl_st)\n",
        "print(cl_en)"
      ],
      "execution_count": 10,
      "outputs": [
        {
          "output_type": "stream",
          "text": [
            "size of fpath: 68\n",
            "[10, 10, 10, 10, 0, 0, 0, 187.9101, 10, 10, 14.055100000000003, 67.3375, 0, 10, 26.273400000000002, 99.1406, 146.8203, 179.3398, 229.0547, 277.7539, 324.8438, 397.4219, 450.0469, 500.55859999999996, 579.1484, 622.6211, 668.1211, 709.4531, 751.1211, 807.1211, 848.375, 891.1719, 933.0547, 982.0273, 1033.3477, 1074.7461, 1111.9414, 1159.0664, 1206.3477, 1267.9453, 1311.6914, 1352.2188, 1393.9688, 1471.8203, 1531.1211, 1568.793, 1627.0195, 1660.9453, 1704.3281, 1753.2461, 1790.8203, 1839.2188, 1886.8203, 10, 10, 10, 10, 10, 10, 10, 10, 10, 10, 10, 10, 10, 10, 10]\n",
            "[50, 50, 50, 50, 173.3791, 175.5054, 150.5157, 308.0, 50, 50, 162.3118, 223.0086, 154.51, 50, 52.0742, 125.8398, 172.9219, 208.5391, 256.3516, 303.1523, 351.4453, 425.1211, 477.1484, 527.5586, 605.6484, 649.5195, 695.4219, 736.5547, 779.2188, 833.6211, 875.9727, 918.0742, 960.5547, 1008.2266, 1058.6484, 1099.9453, 1138.8398, 1186.0664, 1232.1484, 1293.0469, 1336.5938, 1378.1211, 1420.0664, 1497.0195, 1556.0195, 1594.8945, 1652.2188, 1686.9453, 1729.9258, 1779.0469, 1816.9219, 1866.2188, 1913.6211, 50, 50, 50, 50, 50, 50, 50, 50, 50, 50, 50, 50, 50, 50, 50]\n"
          ],
          "name": "stdout"
        }
      ]
    },
    {
      "cell_type": "code",
      "metadata": {
        "colab": {
          "base_uri": "https://localhost:8080/"
        },
        "id": "eLOKoWKvojAu",
        "outputId": "5bbaa437-9e2e-46f7-c187-0a5bcf90ab97"
      },
      "source": [
        "#CHECK\n",
        "print(fpath[53])\n",
        "cl_st[53]\n",
        "cl_en[53]"
      ],
      "execution_count": 11,
      "outputs": [
        {
          "output_type": "stream",
          "text": [
            "/content/drive/MyDrive/TUH data/01_tcp_ar/046/00004671/s008_2012_08_24/00004671_s008_t000.edf\n"
          ],
          "name": "stdout"
        },
        {
          "output_type": "execute_result",
          "data": {
            "text/plain": [
              "50"
            ]
          },
          "metadata": {
            "tags": []
          },
          "execution_count": 11
        }
      ]
    },
    {
      "cell_type": "code",
      "metadata": {
        "id": "ygN-zo6jvnT_",
        "colab": {
          "base_uri": "https://localhost:8080/"
        },
        "outputId": "969c4ce1-3e97-4199-c121-921d7686efdc"
      },
      "source": [
        "### Sampling frequency part ###\n",
        "\n",
        "def convert(lst): \n",
        "    return (lst.split('\\t')) \n",
        "\n",
        "tse_file_path=[]\n",
        "fs=[]\n",
        "for f in fpath:\n",
        "  fa=f.replace('TUH data', 'seizure/tse')\n",
        "  fa=fa.replace('.edf','.tse')\n",
        "  annot_file_path=str(fa)\n",
        "  print('Path exists: ',os.path.exists(annot_file_path))\n",
        "  l=len(annot_file_path)\n",
        "  print('The length of the path is: ',l)\n",
        "  c=annot_file_path[l-2]\n",
        "  #print('the l-2 is:',c)\n",
        "  tse_file_path.append(annot_file_path)\n",
        "  '''  \n",
        "  if c=='x':\n",
        "    print('The file is already converted to a text file')\n",
        "  else:\n",
        "    print('Converting the TSE file to a txt file')\n",
        "    annot_file_path1=annot_file_path.replace('.tse','.txt')\n",
        "    print('The converted file path is: ',annot_file_path1)\n",
        "    #os.rename(annot_file_path,annot_file_path1)\n",
        "    annot_file_path=annot_file_path1 \n",
        "  '''\n",
        "  f1 = open(annot_file_path,'r+')\n",
        "  string_list=f1.readlines() #when using f.read() before f.readlines() the string_list generated due to readlines is shown blank\n",
        "  print(string_list[6])\n",
        "  annot=string_list[6]\n",
        "  f1.close()\n",
        "\n",
        "  con_annot=convert(annot)\n",
        "  st_time=float(con_annot[0])\n",
        "  en_time=float(con_annot[1])\n",
        "  type_of_seizure=con_annot[2]\n",
        "  duration=en_time-st_time\n",
        "\n",
        "  raw = mne.io.read_raw_edf(f, verbose=False)\n",
        "  channel_data=raw.get_data()\n",
        "  print('The shape of the data:',channel_data.shape)\n",
        "  sampling_freq=channel_data.shape[1]/duration\n",
        "  print('The sampling frequency of the file:',sampling_freq)\n",
        "  print('***********************************')\n",
        "  fs.append(sampling_freq)"
      ],
      "execution_count": 12,
      "outputs": [
        {
          "output_type": "stream",
          "text": [
            "Path exists:  True\n",
            "The length of the path is:  96\n",
            "0.0000\t20.0000\tbckg\t0.985839\n",
            "\n",
            "The shape of the data: (32, 8000)\n",
            "The sampling frequency of the file: 400.0\n",
            "***********************************\n",
            "Path exists:  True\n",
            "The length of the path is:  96\n",
            "0.0000\t272.0000\t0.301196\n",
            "\n",
            "The shape of the data: (32, 108800)\n",
            "The sampling frequency of the file: 400.0\n",
            "***********************************\n",
            "Path exists:  True\n",
            "The length of the path is:  96\n",
            "0.0000\t234.0000\tbckg\t0.594640\n",
            "\n",
            "The shape of the data: (32, 93600)\n",
            "The sampling frequency of the file: 400.0\n",
            "***********************************\n",
            "Path exists:  True\n",
            "The length of the path is:  96\n",
            "0.0000\t224.0000\tbckg\t0.386299\n",
            "\n",
            "The shape of the data: (32, 89600)\n",
            "The sampling frequency of the file: 400.0\n",
            "***********************************\n",
            "Path exists:  True\n",
            "The length of the path is:  96\n",
            "0.0000\t203.0000\tbckg\t0.229591\n",
            "\n",
            "The shape of the data: (32, 81200)\n",
            "The sampling frequency of the file: 400.0\n",
            "***********************************\n",
            "Path exists:  True\n",
            "The length of the path is:  96\n",
            "0.0000\t205.0000\tbckg\t0.361336\n",
            "\n",
            "The shape of the data: (32, 82000)\n",
            "The sampling frequency of the file: 400.0\n",
            "***********************************\n",
            "Path exists:  True\n",
            "The length of the path is:  96\n",
            "0.0000\t175.0000\tbckg\t0.354056\n",
            "\n",
            "The shape of the data: (32, 70000)\n",
            "The sampling frequency of the file: 400.0\n",
            "***********************************\n",
            "Path exists:  True\n",
            "The length of the path is:  96\n",
            "0.0000\t309.0000\tbckg\t0.977262\n",
            "\n",
            "The shape of the data: (32, 123600)\n",
            "The sampling frequency of the file: 400.0\n",
            "***********************************\n",
            "Path exists:  True\n",
            "The length of the path is:  96\n",
            "0.0000\t464.0000\tbckg\t0.577812\n",
            "\n",
            "The shape of the data: (32, 185600)\n",
            "The sampling frequency of the file: 400.0\n",
            "***********************************\n",
            "Path exists:  True\n",
            "The length of the path is:  96\n",
            "0.0000\t443.0000\tbckg\t0.672540\n",
            "\n",
            "The shape of the data: (32, 177200)\n",
            "The sampling frequency of the file: 400.0\n",
            "***********************************\n",
            "Path exists:  True\n",
            "The length of the path is:  96\n",
            "0.0000\t334.0000\tbckg\t0.583919\n",
            "\n",
            "The shape of the data: (32, 133600)\n",
            "The sampling frequency of the file: 400.0\n",
            "***********************************\n",
            "Path exists:  True\n",
            "The length of the path is:  96\n",
            "0.0000\t353.0000\tbckg\t0.522797\n",
            "\n",
            "The shape of the data: (32, 141200)\n",
            "The sampling frequency of the file: 400.0\n",
            "***********************************\n",
            "Path exists:  True\n",
            "The length of the path is:  96\n",
            "0.0000\t212.0000\tbckg\t0.555778\n",
            "\n",
            "The shape of the data: (32, 84800)\n",
            "The sampling frequency of the file: 400.0\n",
            "***********************************\n",
            "Path exists:  True\n",
            "The length of the path is:  96\n",
            "0.0000\t351.0000\tbckg\t0.958367\n",
            "\n",
            "The shape of the data: (32, 140400)\n",
            "The sampling frequency of the file: 400.0\n",
            "***********************************\n",
            "Path exists:  True\n",
            "The length of the path is:  96\n",
            "0.0000\t1930.0000\tbckg\t0.789016\n",
            "\n",
            "The shape of the data: (27, 494080)\n",
            "The sampling frequency of the file: 256.0\n",
            "***********************************\n",
            "Path exists:  True\n",
            "The length of the path is:  96\n",
            "0.0000\t1930.0000\tbckg\t0.789016\n",
            "\n",
            "The shape of the data: (27, 494080)\n",
            "The sampling frequency of the file: 256.0\n",
            "***********************************\n",
            "Path exists:  True\n",
            "The length of the path is:  96\n",
            "0.0000\t1930.0000\tbckg\t0.789016\n",
            "\n",
            "The shape of the data: (27, 494080)\n",
            "The sampling frequency of the file: 256.0\n",
            "***********************************\n",
            "Path exists:  True\n",
            "The length of the path is:  96\n",
            "0.0000\t1930.0000\tbckg\t0.789016\n",
            "\n",
            "The shape of the data: (27, 494080)\n",
            "The sampling frequency of the file: 256.0\n",
            "***********************************\n",
            "Path exists:  True\n",
            "The length of the path is:  96\n",
            "0.0000\t1930.0000\tbckg\t0.789016\n",
            "\n",
            "The shape of the data: (27, 494080)\n",
            "The sampling frequency of the file: 256.0\n",
            "***********************************\n",
            "Path exists:  True\n",
            "The length of the path is:  96\n",
            "0.0000\t1930.0000\tbckg\t0.789016\n",
            "\n",
            "The shape of the data: (27, 494080)\n",
            "The sampling frequency of the file: 256.0\n",
            "***********************************\n",
            "Path exists:  True\n",
            "The length of the path is:  96\n",
            "0.0000\t1930.0000\tbckg\t0.789016\n",
            "\n",
            "The shape of the data: (27, 494080)\n",
            "The sampling frequency of the file: 256.0\n",
            "***********************************\n",
            "Path exists:  True\n",
            "The length of the path is:  96\n",
            "0.0000\t1930.0000\tbckg\t0.789016\n",
            "\n",
            "The shape of the data: (27, 494080)\n",
            "The sampling frequency of the file: 256.0\n",
            "***********************************\n",
            "Path exists:  True\n",
            "The length of the path is:  96\n",
            "0.0000\t1930.0000\tbckg\t0.789016\n",
            "\n",
            "The shape of the data: (27, 494080)\n",
            "The sampling frequency of the file: 256.0\n",
            "***********************************\n",
            "Path exists:  True\n",
            "The length of the path is:  96\n",
            "0.0000\t1930.0000\tbckg\t0.789016\n",
            "\n",
            "The shape of the data: (27, 494080)\n",
            "The sampling frequency of the file: 256.0\n",
            "***********************************\n",
            "Path exists:  True\n",
            "The length of the path is:  96\n",
            "0.0000\t1930.0000\tbckg\t0.789016\n",
            "\n",
            "The shape of the data: (27, 494080)\n",
            "The sampling frequency of the file: 256.0\n",
            "***********************************\n",
            "Path exists:  True\n",
            "The length of the path is:  96\n",
            "0.0000\t1930.0000\tbckg\t0.789016\n",
            "\n",
            "The shape of the data: (27, 494080)\n",
            "The sampling frequency of the file: 256.0\n",
            "***********************************\n",
            "Path exists:  True\n",
            "The length of the path is:  96\n",
            "0.0000\t1930.0000\tbckg\t0.789016\n",
            "\n",
            "The shape of the data: (27, 494080)\n",
            "The sampling frequency of the file: 256.0\n",
            "***********************************\n",
            "Path exists:  True\n",
            "The length of the path is:  96\n",
            "0.0000\t1930.0000\tbckg\t0.789016\n",
            "\n",
            "The shape of the data: (27, 494080)\n",
            "The sampling frequency of the file: 256.0\n",
            "***********************************\n",
            "Path exists:  True\n",
            "The length of the path is:  96\n",
            "0.0000\t1930.0000\tbckg\t0.789016\n",
            "\n",
            "The shape of the data: (27, 494080)\n",
            "The sampling frequency of the file: 256.0\n",
            "***********************************\n",
            "Path exists:  True\n",
            "The length of the path is:  96\n",
            "0.0000\t1930.0000\tbckg\t0.789016\n",
            "\n",
            "The shape of the data: (27, 494080)\n",
            "The sampling frequency of the file: 256.0\n",
            "***********************************\n",
            "Path exists:  True\n",
            "The length of the path is:  96\n",
            "0.0000\t1930.0000\tbckg\t0.789016\n",
            "\n",
            "The shape of the data: (27, 494080)\n",
            "The sampling frequency of the file: 256.0\n",
            "***********************************\n",
            "Path exists:  True\n",
            "The length of the path is:  96\n",
            "0.0000\t1930.0000\tbckg\t0.789016\n",
            "\n",
            "The shape of the data: (27, 494080)\n",
            "The sampling frequency of the file: 256.0\n",
            "***********************************\n",
            "Path exists:  True\n",
            "The length of the path is:  96\n",
            "0.0000\t1930.0000\tbckg\t0.789016\n",
            "\n",
            "The shape of the data: (27, 494080)\n",
            "The sampling frequency of the file: 256.0\n",
            "***********************************\n",
            "Path exists:  True\n",
            "The length of the path is:  96\n",
            "0.0000\t1930.0000\tbckg\t0.789016\n",
            "\n",
            "The shape of the data: (27, 494080)\n",
            "The sampling frequency of the file: 256.0\n",
            "***********************************\n",
            "Path exists:  True\n",
            "The length of the path is:  96\n",
            "0.0000\t1930.0000\tbckg\t0.789016\n",
            "\n",
            "The shape of the data: (27, 494080)\n",
            "The sampling frequency of the file: 256.0\n",
            "***********************************\n",
            "Path exists:  True\n",
            "The length of the path is:  96\n",
            "0.0000\t1930.0000\tbckg\t0.789016\n",
            "\n",
            "The shape of the data: (27, 494080)\n",
            "The sampling frequency of the file: 256.0\n",
            "***********************************\n",
            "Path exists:  True\n",
            "The length of the path is:  96\n",
            "0.0000\t1930.0000\tbckg\t0.789016\n",
            "\n",
            "The shape of the data: (27, 494080)\n",
            "The sampling frequency of the file: 256.0\n",
            "***********************************\n",
            "Path exists:  True\n",
            "The length of the path is:  96\n",
            "0.0000\t1930.0000\tbckg\t0.789016\n",
            "\n",
            "The shape of the data: (27, 494080)\n",
            "The sampling frequency of the file: 256.0\n",
            "***********************************\n",
            "Path exists:  True\n",
            "The length of the path is:  96\n",
            "0.0000\t1930.0000\tbckg\t0.789016\n",
            "\n",
            "The shape of the data: (27, 494080)\n",
            "The sampling frequency of the file: 256.0\n",
            "***********************************\n",
            "Path exists:  True\n",
            "The length of the path is:  96\n",
            "0.0000\t1930.0000\tbckg\t0.789016\n",
            "\n",
            "The shape of the data: (27, 494080)\n",
            "The sampling frequency of the file: 256.0\n",
            "***********************************\n",
            "Path exists:  True\n",
            "The length of the path is:  96\n",
            "0.0000\t1930.0000\tbckg\t0.789016\n",
            "\n",
            "The shape of the data: (27, 494080)\n",
            "The sampling frequency of the file: 256.0\n",
            "***********************************\n",
            "Path exists:  True\n",
            "The length of the path is:  96\n",
            "0.0000\t1930.0000\tbckg\t0.789016\n",
            "\n",
            "The shape of the data: (27, 494080)\n",
            "The sampling frequency of the file: 256.0\n",
            "***********************************\n",
            "Path exists:  True\n",
            "The length of the path is:  96\n",
            "0.0000\t1930.0000\tbckg\t0.789016\n",
            "\n",
            "The shape of the data: (27, 494080)\n",
            "The sampling frequency of the file: 256.0\n",
            "***********************************\n",
            "Path exists:  True\n",
            "The length of the path is:  96\n",
            "0.0000\t1930.0000\tbckg\t0.789016\n",
            "\n",
            "The shape of the data: (27, 494080)\n",
            "The sampling frequency of the file: 256.0\n",
            "***********************************\n",
            "Path exists:  True\n",
            "The length of the path is:  96\n",
            "0.0000\t1930.0000\tbckg\t0.789016\n",
            "\n",
            "The shape of the data: (27, 494080)\n",
            "The sampling frequency of the file: 256.0\n",
            "***********************************\n",
            "Path exists:  True\n",
            "The length of the path is:  96\n",
            "0.0000\t1930.0000\tbckg\t0.789016\n",
            "\n",
            "The shape of the data: (27, 494080)\n",
            "The sampling frequency of the file: 256.0\n",
            "***********************************\n",
            "Path exists:  True\n",
            "The length of the path is:  96\n",
            "0.0000\t1930.0000\tbckg\t0.789016\n",
            "\n",
            "The shape of the data: (27, 494080)\n",
            "The sampling frequency of the file: 256.0\n",
            "***********************************\n",
            "Path exists:  True\n",
            "The length of the path is:  96\n",
            "0.0000\t1930.0000\tbckg\t0.789016\n",
            "\n",
            "The shape of the data: (27, 494080)\n",
            "The sampling frequency of the file: 256.0\n",
            "***********************************\n",
            "Path exists:  True\n",
            "The length of the path is:  96\n",
            "0.0000\t1930.0000\tbckg\t0.789016\n",
            "\n",
            "The shape of the data: (27, 494080)\n",
            "The sampling frequency of the file: 256.0\n",
            "***********************************\n",
            "Path exists:  True\n",
            "The length of the path is:  96\n",
            "0.0000\t1930.0000\tbckg\t0.789016\n",
            "\n",
            "The shape of the data: (27, 494080)\n",
            "The sampling frequency of the file: 256.0\n",
            "***********************************\n",
            "Path exists:  True\n",
            "The length of the path is:  96\n",
            "0.0000\t1930.0000\tbckg\t0.789016\n",
            "\n",
            "The shape of the data: (27, 494080)\n",
            "The sampling frequency of the file: 256.0\n",
            "***********************************\n",
            "Path exists:  True\n",
            "The length of the path is:  96\n",
            "0.0000\t1930.0000\tbckg\t0.789016\n",
            "\n",
            "The shape of the data: (27, 494080)\n",
            "The sampling frequency of the file: 256.0\n",
            "***********************************\n",
            "Path exists:  True\n",
            "The length of the path is:  96\n",
            "0.0000\t1930.0000\tbckg\t0.789016\n",
            "\n",
            "The shape of the data: (27, 494080)\n",
            "The sampling frequency of the file: 256.0\n",
            "***********************************\n",
            "Path exists:  True\n",
            "The length of the path is:  96\n",
            "0.0000\t1374.0000\tbckg\t0.464223\n",
            "\n",
            "The shape of the data: (30, 343500)\n",
            "The sampling frequency of the file: 250.0\n",
            "***********************************\n",
            "Path exists:  True\n",
            "The length of the path is:  96\n",
            "0.0000\t211.0000\tbckg\t0.214366\n",
            "\n",
            "The shape of the data: (27, 54016)\n",
            "The sampling frequency of the file: 256.0\n",
            "***********************************\n",
            "Path exists:  True\n",
            "The length of the path is:  96\n",
            "0.0000\t1187.0000\tbckg\t0.462700\n",
            "\n",
            "The shape of the data: (27, 303872)\n",
            "The sampling frequency of the file: 256.0\n",
            "***********************************\n",
            "Path exists:  True\n",
            "The length of the path is:  96\n",
            "0.0000\t1336.0000\tbckg\t0.384887\n",
            "\n",
            "The shape of the data: (33, 342016)\n",
            "The sampling frequency of the file: 256.0\n",
            "***********************************\n",
            "Path exists:  True\n",
            "The length of the path is:  96\n",
            "0.0000\t87.0000\tbckg\t0.280695\n",
            "\n",
            "The shape of the data: (33, 22272)\n",
            "The sampling frequency of the file: 256.0\n",
            "***********************************\n",
            "Path exists:  True\n",
            "The length of the path is:  96\n",
            "0.0000\t213.0000\tbckg\t0.253265\n",
            "\n",
            "The shape of the data: (33, 54528)\n",
            "The sampling frequency of the file: 256.0\n",
            "***********************************\n",
            "Path exists:  True\n",
            "The length of the path is:  96\n",
            "0.0000\t601.0000\tbckg\t0.616751\n",
            "\n",
            "The shape of the data: (33, 153856)\n",
            "The sampling frequency of the file: 256.0\n",
            "***********************************\n",
            "Path exists:  True\n",
            "The length of the path is:  96\n",
            "0.0000\t601.0000\tbckg\t0.341435\n",
            "\n",
            "The shape of the data: (33, 153856)\n",
            "The sampling frequency of the file: 256.0\n",
            "***********************************\n",
            "Path exists:  True\n",
            "The length of the path is:  96\n",
            "0.0000\t300.0000\tbckg\t0.267280\n",
            "\n",
            "The shape of the data: (33, 76800)\n",
            "The sampling frequency of the file: 256.0\n",
            "***********************************\n",
            "Path exists:  True\n",
            "The length of the path is:  96\n",
            "0.0000\t601.0000\tbckg\t0.764156\n",
            "\n",
            "The shape of the data: (33, 153856)\n",
            "The sampling frequency of the file: 256.0\n",
            "***********************************\n",
            "Path exists:  True\n",
            "The length of the path is:  96\n",
            "0.0000\t300.0000\tbckg\t0.322931\n",
            "\n",
            "The shape of the data: (33, 76800)\n",
            "The sampling frequency of the file: 256.0\n",
            "***********************************\n",
            "Path exists:  True\n",
            "The length of the path is:  96\n",
            "0.0000\t601.0000\tbckg\t0.484152\n",
            "\n",
            "The shape of the data: (33, 153856)\n",
            "The sampling frequency of the file: 256.0\n",
            "***********************************\n",
            "Path exists:  True\n",
            "The length of the path is:  96\n",
            "0.0000\t300.0000\tbckg\t0.155225\n",
            "\n",
            "The shape of the data: (33, 76800)\n",
            "The sampling frequency of the file: 256.0\n",
            "***********************************\n",
            "Path exists:  True\n",
            "The length of the path is:  96\n",
            "0.0000\t601.0000\tbckg\t0.284592\n",
            "\n",
            "The shape of the data: (33, 153856)\n",
            "The sampling frequency of the file: 256.0\n",
            "***********************************\n",
            "Path exists:  True\n",
            "The length of the path is:  96\n",
            "0.0000\t138.0000\tbckg\t0.974662\n",
            "\n",
            "The shape of the data: (33, 35328)\n",
            "The sampling frequency of the file: 256.0\n",
            "***********************************\n"
          ],
          "name": "stdout"
        }
      ]
    },
    {
      "cell_type": "code",
      "metadata": {
        "colab": {
          "base_uri": "https://localhost:8080/"
        },
        "id": "jLt1XmRWhq2p",
        "outputId": "1b23b891-c1ff-43b4-9a08-38ae09747ca0"
      },
      "source": [
        "#CHECK\n",
        "print(fs)"
      ],
      "execution_count": null,
      "outputs": [
        {
          "output_type": "stream",
          "text": [
            "[400.0, 400.0, 400.0, 400.0, 400.0, 400.0, 400.0, 400.0, 400.0, 400.0, 400.0, 400.0, 400.0, 400.0, 256.0, 256.0, 256.0, 256.0, 256.0, 256.0, 256.0, 256.0, 256.0, 256.0, 256.0, 256.0, 256.0, 256.0, 256.0, 256.0, 256.0, 256.0, 256.0, 256.0, 256.0, 256.0, 256.0, 256.0, 256.0, 256.0, 256.0, 256.0, 256.0, 256.0, 256.0, 256.0, 256.0, 256.0, 256.0, 256.0, 256.0, 256.0, 256.0, 250.0, 256.0, 256.0, 256.0, 256.0, 256.0, 256.0, 256.0, 256.0, 256.0, 256.0, 256.0, 256.0, 256.0, 256.0]\n"
          ],
          "name": "stdout"
        }
      ]
    },
    {
      "cell_type": "code",
      "metadata": {
        "id": "W1qxAlXlxHfa"
      },
      "source": [
        "#NOT TO BE EXECUTED IF ALREADY THE TSE FILES ARE MODIFIED#\n",
        "'''\n",
        "TSE file modification\n",
        "Some TUH-eeg annotation files(.tse files) are in a different format from the majority of the files\n",
        "The Sampling Freqency Part calculates the FS(sampling frequency) from the TSE files, hence before that we need to bring all to a common format\n",
        "This portion of the code is meant for modification, only to be executed if files are not modified already. Please note that modifications can\n",
        "also be made manually \n",
        "\n",
        "'''\n",
        "for i in fs:\n",
        "  if i!=float(256) or i!=float(400) or i!=float(250):\n",
        "    ii=fs.index(i)\n",
        "    fp=tse_file_path[ii]\n",
        "    f1 = open(fp,'r+')\n",
        "    string_list=f1.readlines() #when using f.read() before f.readlines() the string_list generated due to readlines is shown blank\n",
        "    \n",
        "    annot1=string_list[6]\n",
        "    annot2=string_list[8] \n",
        "    f1.close()\n",
        "\n",
        "    con_annot1=convert(annot1)\n",
        "    con_annot2=convert(annot2)\n",
        "    st_time=float(con_annot1[0])\n",
        "    en_time=float(con_annot2[1])\n",
        "    duration=en_time-st_time\n",
        "\n",
        "    raw = mne.io.read_raw_edf(fpath[ii], verbose=False)\n",
        "    channel_data=raw.get_data()\n",
        "    \n",
        "    sampling_freq=channel_data.shape[1]/duration\n",
        "    fs[ii]=sampling_freq "
      ],
      "execution_count": null,
      "outputs": []
    },
    {
      "cell_type": "code",
      "metadata": {
        "id": "z3ymvIFU1SrI"
      },
      "source": [
        "#CHECK\n",
        "print(np.sum(np.array(train_labels)))"
      ],
      "execution_count": null,
      "outputs": []
    },
    {
      "cell_type": "code",
      "metadata": {
        "id": "VlTaHIx3rbbz"
      },
      "source": [
        "#CHECK\n",
        "print(np.transpose(np.array(fpath[1:])))\n",
        "print(np.transpose(labels))\n",
        "print(cl_st)\n",
        "print(cl_en)\n",
        "\n",
        "#print(labels[1:])"
      ],
      "execution_count": null,
      "outputs": []
    },
    {
      "cell_type": "markdown",
      "metadata": {
        "id": "Qdw1lSiyhW3b"
      },
      "source": [
        "Next there are some algorithms mentioned, PCC, PLV, TE. By default PLV and TE are chosen and accordingly subsequent outputs will be fed to the MULTI CNN. Run only those which are required."
      ]
    },
    {
      "cell_type": "code",
      "metadata": {
        "id": "YyvjKCC1gxEP"
      },
      "source": [
        "## PCC ##\n",
        "\n",
        "train_data=[]\n",
        "for f in fpath:\n",
        "  print(f)\n",
        "  raw = mne.io.read_raw_edf(f, verbose=False)\n",
        "  channel_data=raw.get_data()\n",
        "  sh=channel_data.shape[0]\n",
        "  s=(sh, sh)\n",
        "  pcc2=np.zeros(s)\n",
        "  ch_ls=[]\n",
        "  for x in range(0, sh):\n",
        "    ch_ls.append(channel_data[x])\n",
        "    \n",
        "\n",
        "  #print(ch_ls)\n",
        "  pcc2=np.corrcoef(ch_ls)\n",
        "  if (np.any(np.isnan(pcc2)))==True:\n",
        "        pcc2=0\n",
        "  if (np.any(np.isinf(pcc2)))==True:\n",
        "        pcc2=1\n",
        "  pcc2=cv2.resize(pcc2, (32,32))\n",
        "  \n",
        "  #np.append(train_data,pcc2, axis=0)\n",
        "  \n",
        "  pcc2=preprocessing.normalize(pcc2)#additional normalization layer checks whether any data is NaN\n",
        "  train_data.append(pcc2)\n"
      ],
      "execution_count": null,
      "outputs": []
    },
    {
      "cell_type": "code",
      "metadata": {
        "colab": {
          "base_uri": "https://localhost:8080/"
        },
        "id": "vRxwJC03CedX",
        "outputId": "a329f870-103f-4bcb-f95c-6af3a5c15b0f"
      },
      "source": [
        "### FOR BANDPASS Filter##\n",
        "'Enter the upper and lower frequncy according to Delta '\n",
        "l_frequency=int(input('Enter the lower cutoff frequency: '))\n",
        "h_frequency=int(input('Enter the higher cutoff frequency: '))"
      ],
      "execution_count": 13,
      "outputs": [
        {
          "output_type": "stream",
          "text": [
            "Enter the lower cutoff frequency: 1\n",
            "Enter the higher cutoff frequency: 100\n"
          ],
          "name": "stdout"
        }
      ]
    },
    {
      "cell_type": "code",
      "metadata": {
        "colab": {
          "base_uri": "https://localhost:8080/"
        },
        "id": "82GfQCNinqDe",
        "outputId": "8943a83b-2d2a-48b7-9509-b9475d6dbcc3"
      },
      "source": [
        "## PLV ##\n",
        "import numpy as np\n",
        "import scipy.signal as sig\n",
        "\n",
        "def hilphase(y1,y2):\n",
        "    sig1_hill=sig.hilbert(y1)\n",
        "    sig2_hill=sig.hilbert(y2)\n",
        "    pdt=(np.inner(sig1_hill,np.conj(sig2_hill))/(np.sqrt(np.inner(sig1_hill,\n",
        "               np.conj(sig1_hill))*np.inner(sig2_hill,np.conj(sig2_hill)))))\n",
        "    phase = np.angle(pdt)\n",
        "\n",
        "    return phase\n",
        "\n",
        "train_data_plv=[]\n",
        "ii=0\n",
        "for f in fpath:\n",
        "  print(f, ii+1)\n",
        "  raw = mne.io.read_raw_edf(f, verbose=False)\n",
        "  ##\n",
        "  raw.load_data()\n",
        "  \n",
        "  raw=raw.filter(l_freq=l_frequency, h_freq=h_frequency)\n",
        "  ##\n",
        "  channel_data=raw.get_data()\n",
        "  #print(np.all(np.isnan(channel_data)))\n",
        "  #print(np.all(np.isinf(channel_data)))\n",
        "  channel_data=channel_data[:, int(cl_st[ii]*fs[ii]):int(cl_en[ii]*fs[ii])]\n",
        "  print('Starting and Ending point respectively: ',int(cl_st[ii]*fs[ii]),int(cl_en[ii]*fs[ii]))\n",
        "  sh=channel_data.shape[0]\n",
        "  ii=ii+1\n",
        "  \n",
        "  s=(sh, sh)\n",
        "  plv2=np.zeros(s)\n",
        "  ch_ls=[]\n",
        "  for i in range(0, sh):\n",
        "    for j in range(0,sh):\n",
        "      plv2[i][j]=hilphase(channel_data[i], channel_data[j])\n",
        "      if (np.any(np.isnan(plv2[i][j])))==True:\n",
        "        plv2[i][j]=0\n",
        "      if (np.any(np.isinf(plv2[i][j])))==True:\n",
        "        plv2[i][j]=1 \n",
        "\n",
        "  #np.append(train_data,pcc2, axis=0)\n",
        "  plv2=cv2.resize(plv2, (32,32))\n",
        "  \n",
        "  plv2=preprocessing.normalize(plv2)#additional normalization layer checks whether any data is NaN\n",
        "  train_data_plv.append(plv2)"
      ],
      "execution_count": 14,
      "outputs": [
        {
          "output_type": "stream",
          "text": [
            "/content/drive/MyDrive/TUH data/01_tcp_ar/002/00000258/s002_2003_07_21/00000258_s002_t000.edf 1\n",
            "4000 20000\n",
            "/content/drive/MyDrive/TUH data/01_tcp_ar/002/00000258/s002_2003_07_21/00000258_s002_t002.edf 2\n",
            "4000 20000\n",
            "/content/drive/MyDrive/TUH data/01_tcp_ar/002/00000258/s003_2003_07_22/00000258_s003_t000.edf 3\n",
            "4000 20000\n",
            "/content/drive/MyDrive/TUH data/01_tcp_ar/002/00000258/s003_2003_07_22/00000258_s003_t001.edf 4\n",
            "4000 20000\n",
            "/content/drive/MyDrive/TUH data/01_tcp_ar/002/00000258/s003_2003_07_22/00000258_s003_t002.edf 5\n",
            "0 69351\n",
            "/content/drive/MyDrive/TUH data/01_tcp_ar/002/00000258/s003_2003_07_22/00000258_s003_t003.edf 6\n",
            "0 70202\n",
            "/content/drive/MyDrive/TUH data/01_tcp_ar/002/00000258/s003_2003_07_22/00000258_s003_t004.edf 7\n",
            "0 60206\n",
            "/content/drive/MyDrive/TUH data/01_tcp_ar/002/00000258/s003_2003_07_22/00000258_s003_t005.edf 8\n",
            "75164 123200\n",
            "/content/drive/MyDrive/TUH data/01_tcp_ar/010/00001027/s003_2004_01_29/00001027_s003_t000.edf 9\n",
            "4000 20000\n",
            "/content/drive/MyDrive/TUH data/01_tcp_ar/010/00001027/s003_2004_01_29/00001027_s003_t001.edf 10\n",
            "4000 20000\n",
            "/content/drive/MyDrive/TUH data/01_tcp_ar/010/00001027/s004_2004_01_30/00001027_s004_t000.edf 11\n",
            "5622 64924\n",
            "/content/drive/MyDrive/TUH data/01_tcp_ar/010/00001027/s004_2004_01_30/00001027_s004_t001.edf 12\n",
            "26935 89203\n",
            "/content/drive/MyDrive/TUH data/01_tcp_ar/010/00001027/s004_2004_01_30/00001027_s004_t002.edf 13\n",
            "0 61804\n",
            "/content/drive/MyDrive/TUH data/01_tcp_ar/010/00001027/s004_2004_01_30/00001027_s004_t003.edf 14\n",
            "4000 20000\n",
            "/content/drive/MyDrive/TUH data/01_tcp_ar/046/00004671/s007_2012_08_04/00004671_s007_t000.edf 15\n",
            "6725 13330\n"
          ],
          "name": "stdout"
        },
        {
          "output_type": "stream",
          "text": [
            "/usr/local/lib/python3.7/dist-packages/ipykernel_launcher.py:9: RuntimeWarning: invalid value encountered in cdouble_scalars\n",
            "  if __name__ == '__main__':\n"
          ],
          "name": "stderr"
        },
        {
          "output_type": "stream",
          "text": [
            "/content/drive/MyDrive/TUH data/01_tcp_ar/046/00004671/s007_2012_08_04/00004671_s007_t000.edf 16\n",
            "25379 32214\n"
          ],
          "name": "stdout"
        },
        {
          "output_type": "stream",
          "text": [
            "/usr/local/lib/python3.7/dist-packages/ipykernel_launcher.py:9: RuntimeWarning: invalid value encountered in cdouble_scalars\n",
            "  if __name__ == '__main__':\n"
          ],
          "name": "stderr"
        },
        {
          "output_type": "stream",
          "text": [
            "/content/drive/MyDrive/TUH data/01_tcp_ar/046/00004671/s007_2012_08_04/00004671_s007_t000.edf 17\n",
            "37585 44268\n"
          ],
          "name": "stdout"
        },
        {
          "output_type": "stream",
          "text": [
            "/usr/local/lib/python3.7/dist-packages/ipykernel_launcher.py:9: RuntimeWarning: invalid value encountered in cdouble_scalars\n",
            "  if __name__ == '__main__':\n"
          ],
          "name": "stderr"
        },
        {
          "output_type": "stream",
          "text": [
            "/content/drive/MyDrive/TUH data/01_tcp_ar/046/00004671/s007_2012_08_04/00004671_s007_t000.edf 18\n",
            "45910 53386\n"
          ],
          "name": "stdout"
        },
        {
          "output_type": "stream",
          "text": [
            "/usr/local/lib/python3.7/dist-packages/ipykernel_launcher.py:9: RuntimeWarning: invalid value encountered in cdouble_scalars\n",
            "  if __name__ == '__main__':\n"
          ],
          "name": "stderr"
        },
        {
          "output_type": "stream",
          "text": [
            "/content/drive/MyDrive/TUH data/01_tcp_ar/046/00004671/s007_2012_08_04/00004671_s007_t000.edf 19\n",
            "58638 65626\n"
          ],
          "name": "stdout"
        },
        {
          "output_type": "stream",
          "text": [
            "/usr/local/lib/python3.7/dist-packages/ipykernel_launcher.py:9: RuntimeWarning: invalid value encountered in cdouble_scalars\n",
            "  if __name__ == '__main__':\n"
          ],
          "name": "stderr"
        },
        {
          "output_type": "stream",
          "text": [
            "/content/drive/MyDrive/TUH data/01_tcp_ar/046/00004671/s007_2012_08_04/00004671_s007_t000.edf 20\n",
            "71104 77606\n"
          ],
          "name": "stdout"
        },
        {
          "output_type": "stream",
          "text": [
            "/usr/local/lib/python3.7/dist-packages/ipykernel_launcher.py:9: RuntimeWarning: invalid value encountered in cdouble_scalars\n",
            "  if __name__ == '__main__':\n"
          ],
          "name": "stderr"
        },
        {
          "output_type": "stream",
          "text": [
            "/content/drive/MyDrive/TUH data/01_tcp_ar/046/00004671/s007_2012_08_04/00004671_s007_t000.edf 21\n",
            "83160 89969\n"
          ],
          "name": "stdout"
        },
        {
          "output_type": "stream",
          "text": [
            "/usr/local/lib/python3.7/dist-packages/ipykernel_launcher.py:9: RuntimeWarning: invalid value encountered in cdouble_scalars\n",
            "  if __name__ == '__main__':\n"
          ],
          "name": "stderr"
        },
        {
          "output_type": "stream",
          "text": [
            "/content/drive/MyDrive/TUH data/01_tcp_ar/046/00004671/s007_2012_08_04/00004671_s007_t000.edf 22\n",
            "101740 108831\n"
          ],
          "name": "stdout"
        },
        {
          "output_type": "stream",
          "text": [
            "/usr/local/lib/python3.7/dist-packages/ipykernel_launcher.py:9: RuntimeWarning: invalid value encountered in cdouble_scalars\n",
            "  if __name__ == '__main__':\n"
          ],
          "name": "stderr"
        },
        {
          "output_type": "stream",
          "text": [
            "/content/drive/MyDrive/TUH data/01_tcp_ar/046/00004671/s007_2012_08_04/00004671_s007_t000.edf 23\n",
            "115212 122149\n"
          ],
          "name": "stdout"
        },
        {
          "output_type": "stream",
          "text": [
            "/usr/local/lib/python3.7/dist-packages/ipykernel_launcher.py:9: RuntimeWarning: invalid value encountered in cdouble_scalars\n",
            "  if __name__ == '__main__':\n"
          ],
          "name": "stderr"
        },
        {
          "output_type": "stream",
          "text": [
            "/content/drive/MyDrive/TUH data/01_tcp_ar/046/00004671/s007_2012_08_04/00004671_s007_t000.edf 24\n",
            "128143 135055\n"
          ],
          "name": "stdout"
        },
        {
          "output_type": "stream",
          "text": [
            "/usr/local/lib/python3.7/dist-packages/ipykernel_launcher.py:9: RuntimeWarning: invalid value encountered in cdouble_scalars\n",
            "  if __name__ == '__main__':\n"
          ],
          "name": "stderr"
        },
        {
          "output_type": "stream",
          "text": [
            "/content/drive/MyDrive/TUH data/01_tcp_ar/046/00004671/s007_2012_08_04/00004671_s007_t000.edf 25\n",
            "148261 155045\n"
          ],
          "name": "stdout"
        },
        {
          "output_type": "stream",
          "text": [
            "/usr/local/lib/python3.7/dist-packages/ipykernel_launcher.py:9: RuntimeWarning: invalid value encountered in cdouble_scalars\n",
            "  if __name__ == '__main__':\n"
          ],
          "name": "stderr"
        },
        {
          "output_type": "stream",
          "text": [
            "/content/drive/MyDrive/TUH data/01_tcp_ar/046/00004671/s007_2012_08_04/00004671_s007_t000.edf 26\n",
            "159391 166276\n"
          ],
          "name": "stdout"
        },
        {
          "output_type": "stream",
          "text": [
            "/usr/local/lib/python3.7/dist-packages/ipykernel_launcher.py:9: RuntimeWarning: invalid value encountered in cdouble_scalars\n",
            "  if __name__ == '__main__':\n"
          ],
          "name": "stderr"
        },
        {
          "output_type": "stream",
          "text": [
            "/content/drive/MyDrive/TUH data/01_tcp_ar/046/00004671/s007_2012_08_04/00004671_s007_t000.edf 27\n",
            "171039 178028\n"
          ],
          "name": "stdout"
        },
        {
          "output_type": "stream",
          "text": [
            "/usr/local/lib/python3.7/dist-packages/ipykernel_launcher.py:9: RuntimeWarning: invalid value encountered in cdouble_scalars\n",
            "  if __name__ == '__main__':\n"
          ],
          "name": "stderr"
        },
        {
          "output_type": "stream",
          "text": [
            "/content/drive/MyDrive/TUH data/01_tcp_ar/046/00004671/s007_2012_08_04/00004671_s007_t000.edf 28\n",
            "181619 188558\n"
          ],
          "name": "stdout"
        },
        {
          "output_type": "stream",
          "text": [
            "/usr/local/lib/python3.7/dist-packages/ipykernel_launcher.py:9: RuntimeWarning: invalid value encountered in cdouble_scalars\n",
            "  if __name__ == '__main__':\n"
          ],
          "name": "stderr"
        },
        {
          "output_type": "stream",
          "text": [
            "/content/drive/MyDrive/TUH data/01_tcp_ar/046/00004671/s007_2012_08_04/00004671_s007_t000.edf 29\n",
            "192287 199480\n"
          ],
          "name": "stdout"
        },
        {
          "output_type": "stream",
          "text": [
            "/usr/local/lib/python3.7/dist-packages/ipykernel_launcher.py:9: RuntimeWarning: invalid value encountered in cdouble_scalars\n",
            "  if __name__ == '__main__':\n"
          ],
          "name": "stderr"
        },
        {
          "output_type": "stream",
          "text": [
            "/content/drive/MyDrive/TUH data/01_tcp_ar/046/00004671/s007_2012_08_04/00004671_s007_t000.edf 30\n",
            "206623 213407\n"
          ],
          "name": "stdout"
        },
        {
          "output_type": "stream",
          "text": [
            "/usr/local/lib/python3.7/dist-packages/ipykernel_launcher.py:9: RuntimeWarning: invalid value encountered in cdouble_scalars\n",
            "  if __name__ == '__main__':\n"
          ],
          "name": "stderr"
        },
        {
          "output_type": "stream",
          "text": [
            "/content/drive/MyDrive/TUH data/01_tcp_ar/046/00004671/s007_2012_08_04/00004671_s007_t000.edf 31\n",
            "217184 224249\n"
          ],
          "name": "stdout"
        },
        {
          "output_type": "stream",
          "text": [
            "/usr/local/lib/python3.7/dist-packages/ipykernel_launcher.py:9: RuntimeWarning: invalid value encountered in cdouble_scalars\n",
            "  if __name__ == '__main__':\n"
          ],
          "name": "stderr"
        },
        {
          "output_type": "stream",
          "text": [
            "/content/drive/MyDrive/TUH data/01_tcp_ar/046/00004671/s007_2012_08_04/00004671_s007_t000.edf 32\n",
            "228140 235026\n"
          ],
          "name": "stdout"
        },
        {
          "output_type": "stream",
          "text": [
            "/usr/local/lib/python3.7/dist-packages/ipykernel_launcher.py:9: RuntimeWarning: invalid value encountered in cdouble_scalars\n",
            "  if __name__ == '__main__':\n"
          ],
          "name": "stderr"
        },
        {
          "output_type": "stream",
          "text": [
            "/content/drive/MyDrive/TUH data/01_tcp_ar/046/00004671/s007_2012_08_04/00004671_s007_t000.edf 33\n",
            "238862 245902\n"
          ],
          "name": "stdout"
        },
        {
          "output_type": "stream",
          "text": [
            "/usr/local/lib/python3.7/dist-packages/ipykernel_launcher.py:9: RuntimeWarning: invalid value encountered in cdouble_scalars\n",
            "  if __name__ == '__main__':\n"
          ],
          "name": "stderr"
        },
        {
          "output_type": "stream",
          "text": [
            "/content/drive/MyDrive/TUH data/01_tcp_ar/046/00004671/s007_2012_08_04/00004671_s007_t000.edf 34\n",
            "251398 258106\n"
          ],
          "name": "stdout"
        },
        {
          "output_type": "stream",
          "text": [
            "/usr/local/lib/python3.7/dist-packages/ipykernel_launcher.py:9: RuntimeWarning: invalid value encountered in cdouble_scalars\n",
            "  if __name__ == '__main__':\n"
          ],
          "name": "stderr"
        },
        {
          "output_type": "stream",
          "text": [
            "/content/drive/MyDrive/TUH data/01_tcp_ar/046/00004671/s007_2012_08_04/00004671_s007_t000.edf 35\n",
            "264537 271013\n"
          ],
          "name": "stdout"
        },
        {
          "output_type": "stream",
          "text": [
            "/usr/local/lib/python3.7/dist-packages/ipykernel_launcher.py:9: RuntimeWarning: invalid value encountered in cdouble_scalars\n",
            "  if __name__ == '__main__':\n"
          ],
          "name": "stderr"
        },
        {
          "output_type": "stream",
          "text": [
            "/content/drive/MyDrive/TUH data/01_tcp_ar/046/00004671/s007_2012_08_04/00004671_s007_t000.edf 36\n",
            "275135 281585\n"
          ],
          "name": "stdout"
        },
        {
          "output_type": "stream",
          "text": [
            "/usr/local/lib/python3.7/dist-packages/ipykernel_launcher.py:9: RuntimeWarning: invalid value encountered in cdouble_scalars\n",
            "  if __name__ == '__main__':\n"
          ],
          "name": "stderr"
        },
        {
          "output_type": "stream",
          "text": [
            "/content/drive/MyDrive/TUH data/01_tcp_ar/046/00004671/s007_2012_08_04/00004671_s007_t000.edf 37\n",
            "284656 291542\n"
          ],
          "name": "stdout"
        },
        {
          "output_type": "stream",
          "text": [
            "/usr/local/lib/python3.7/dist-packages/ipykernel_launcher.py:9: RuntimeWarning: invalid value encountered in cdouble_scalars\n",
            "  if __name__ == '__main__':\n"
          ],
          "name": "stderr"
        },
        {
          "output_type": "stream",
          "text": [
            "/content/drive/MyDrive/TUH data/01_tcp_ar/046/00004671/s007_2012_08_04/00004671_s007_t000.edf 38\n",
            "296720 303632\n"
          ],
          "name": "stdout"
        },
        {
          "output_type": "stream",
          "text": [
            "/usr/local/lib/python3.7/dist-packages/ipykernel_launcher.py:9: RuntimeWarning: invalid value encountered in cdouble_scalars\n",
            "  if __name__ == '__main__':\n"
          ],
          "name": "stderr"
        },
        {
          "output_type": "stream",
          "text": [
            "/content/drive/MyDrive/TUH data/01_tcp_ar/046/00004671/s007_2012_08_04/00004671_s007_t000.edf 39\n",
            "308825 315429\n"
          ],
          "name": "stdout"
        },
        {
          "output_type": "stream",
          "text": [
            "/usr/local/lib/python3.7/dist-packages/ipykernel_launcher.py:9: RuntimeWarning: invalid value encountered in cdouble_scalars\n",
            "  if __name__ == '__main__':\n"
          ],
          "name": "stderr"
        },
        {
          "output_type": "stream",
          "text": [
            "/content/drive/MyDrive/TUH data/01_tcp_ar/046/00004671/s007_2012_08_04/00004671_s007_t000.edf 40\n",
            "324593 331020\n"
          ],
          "name": "stdout"
        },
        {
          "output_type": "stream",
          "text": [
            "/usr/local/lib/python3.7/dist-packages/ipykernel_launcher.py:9: RuntimeWarning: invalid value encountered in cdouble_scalars\n",
            "  if __name__ == '__main__':\n"
          ],
          "name": "stderr"
        },
        {
          "output_type": "stream",
          "text": [
            "/content/drive/MyDrive/TUH data/01_tcp_ar/046/00004671/s007_2012_08_04/00004671_s007_t000.edf 41\n",
            "335792 342168\n"
          ],
          "name": "stdout"
        },
        {
          "output_type": "stream",
          "text": [
            "/usr/local/lib/python3.7/dist-packages/ipykernel_launcher.py:9: RuntimeWarning: invalid value encountered in cdouble_scalars\n",
            "  if __name__ == '__main__':\n"
          ],
          "name": "stderr"
        },
        {
          "output_type": "stream",
          "text": [
            "/content/drive/MyDrive/TUH data/01_tcp_ar/046/00004671/s007_2012_08_04/00004671_s007_t000.edf 42\n",
            "346168 352799\n"
          ],
          "name": "stdout"
        },
        {
          "output_type": "stream",
          "text": [
            "/usr/local/lib/python3.7/dist-packages/ipykernel_launcher.py:9: RuntimeWarning: invalid value encountered in cdouble_scalars\n",
            "  if __name__ == '__main__':\n"
          ],
          "name": "stderr"
        },
        {
          "output_type": "stream",
          "text": [
            "/content/drive/MyDrive/TUH data/01_tcp_ar/046/00004671/s007_2012_08_04/00004671_s007_t000.edf 43\n",
            "356856 363536\n"
          ],
          "name": "stdout"
        },
        {
          "output_type": "stream",
          "text": [
            "/usr/local/lib/python3.7/dist-packages/ipykernel_launcher.py:9: RuntimeWarning: invalid value encountered in cdouble_scalars\n",
            "  if __name__ == '__main__':\n"
          ],
          "name": "stderr"
        },
        {
          "output_type": "stream",
          "text": [
            "/content/drive/MyDrive/TUH data/01_tcp_ar/046/00004671/s007_2012_08_04/00004671_s007_t000.edf 44\n",
            "376785 383236\n"
          ],
          "name": "stdout"
        },
        {
          "output_type": "stream",
          "text": [
            "/usr/local/lib/python3.7/dist-packages/ipykernel_launcher.py:9: RuntimeWarning: invalid value encountered in cdouble_scalars\n",
            "  if __name__ == '__main__':\n"
          ],
          "name": "stderr"
        },
        {
          "output_type": "stream",
          "text": [
            "/content/drive/MyDrive/TUH data/01_tcp_ar/046/00004671/s007_2012_08_04/00004671_s007_t000.edf 45\n",
            "391967 398340\n"
          ],
          "name": "stdout"
        },
        {
          "output_type": "stream",
          "text": [
            "/usr/local/lib/python3.7/dist-packages/ipykernel_launcher.py:9: RuntimeWarning: invalid value encountered in cdouble_scalars\n",
            "  if __name__ == '__main__':\n"
          ],
          "name": "stderr"
        },
        {
          "output_type": "stream",
          "text": [
            "/content/drive/MyDrive/TUH data/01_tcp_ar/046/00004671/s007_2012_08_04/00004671_s007_t000.edf 46\n",
            "401611 408292\n"
          ],
          "name": "stdout"
        },
        {
          "output_type": "stream",
          "text": [
            "/usr/local/lib/python3.7/dist-packages/ipykernel_launcher.py:9: RuntimeWarning: invalid value encountered in cdouble_scalars\n",
            "  if __name__ == '__main__':\n"
          ],
          "name": "stderr"
        },
        {
          "output_type": "stream",
          "text": [
            "/content/drive/MyDrive/TUH data/01_tcp_ar/046/00004671/s007_2012_08_04/00004671_s007_t000.edf 47\n",
            "416516 422968\n"
          ],
          "name": "stdout"
        },
        {
          "output_type": "stream",
          "text": [
            "/usr/local/lib/python3.7/dist-packages/ipykernel_launcher.py:9: RuntimeWarning: invalid value encountered in cdouble_scalars\n",
            "  if __name__ == '__main__':\n"
          ],
          "name": "stderr"
        },
        {
          "output_type": "stream",
          "text": [
            "/content/drive/MyDrive/TUH data/01_tcp_ar/046/00004671/s007_2012_08_04/00004671_s007_t000.edf 48\n",
            "425201 431857\n"
          ],
          "name": "stdout"
        },
        {
          "output_type": "stream",
          "text": [
            "/usr/local/lib/python3.7/dist-packages/ipykernel_launcher.py:9: RuntimeWarning: invalid value encountered in cdouble_scalars\n",
            "  if __name__ == '__main__':\n"
          ],
          "name": "stderr"
        },
        {
          "output_type": "stream",
          "text": [
            "/content/drive/MyDrive/TUH data/01_tcp_ar/046/00004671/s007_2012_08_04/00004671_s007_t000.edf 49\n",
            "436307 442861\n"
          ],
          "name": "stdout"
        },
        {
          "output_type": "stream",
          "text": [
            "/usr/local/lib/python3.7/dist-packages/ipykernel_launcher.py:9: RuntimeWarning: invalid value encountered in cdouble_scalars\n",
            "  if __name__ == '__main__':\n"
          ],
          "name": "stderr"
        },
        {
          "output_type": "stream",
          "text": [
            "/content/drive/MyDrive/TUH data/01_tcp_ar/046/00004671/s007_2012_08_04/00004671_s007_t000.edf 50\n",
            "448831 455436\n"
          ],
          "name": "stdout"
        },
        {
          "output_type": "stream",
          "text": [
            "/usr/local/lib/python3.7/dist-packages/ipykernel_launcher.py:9: RuntimeWarning: invalid value encountered in cdouble_scalars\n",
            "  if __name__ == '__main__':\n"
          ],
          "name": "stderr"
        },
        {
          "output_type": "stream",
          "text": [
            "/content/drive/MyDrive/TUH data/01_tcp_ar/046/00004671/s007_2012_08_04/00004671_s007_t000.edf 51\n",
            "458449 465132\n"
          ],
          "name": "stdout"
        },
        {
          "output_type": "stream",
          "text": [
            "/usr/local/lib/python3.7/dist-packages/ipykernel_launcher.py:9: RuntimeWarning: invalid value encountered in cdouble_scalars\n",
            "  if __name__ == '__main__':\n"
          ],
          "name": "stderr"
        },
        {
          "output_type": "stream",
          "text": [
            "/content/drive/MyDrive/TUH data/01_tcp_ar/046/00004671/s007_2012_08_04/00004671_s007_t000.edf 52\n",
            "470840 477752\n"
          ],
          "name": "stdout"
        },
        {
          "output_type": "stream",
          "text": [
            "/usr/local/lib/python3.7/dist-packages/ipykernel_launcher.py:9: RuntimeWarning: invalid value encountered in cdouble_scalars\n",
            "  if __name__ == '__main__':\n"
          ],
          "name": "stderr"
        },
        {
          "output_type": "stream",
          "text": [
            "/content/drive/MyDrive/TUH data/01_tcp_ar/046/00004671/s007_2012_08_04/00004671_s007_t000.edf 53\n",
            "483025 489887\n"
          ],
          "name": "stdout"
        },
        {
          "output_type": "stream",
          "text": [
            "/usr/local/lib/python3.7/dist-packages/ipykernel_launcher.py:9: RuntimeWarning: invalid value encountered in cdouble_scalars\n",
            "  if __name__ == '__main__':\n"
          ],
          "name": "stderr"
        },
        {
          "output_type": "stream",
          "text": [
            "/content/drive/MyDrive/TUH data/01_tcp_ar/046/00004671/s008_2012_08_24/00004671_s008_t000.edf 54\n",
            "2500 12500\n"
          ],
          "name": "stdout"
        },
        {
          "output_type": "stream",
          "text": [
            "/usr/local/lib/python3.7/dist-packages/ipykernel_launcher.py:9: RuntimeWarning: invalid value encountered in cdouble_scalars\n",
            "  if __name__ == '__main__':\n"
          ],
          "name": "stderr"
        },
        {
          "output_type": "stream",
          "text": [
            "/content/drive/MyDrive/TUH data/01_tcp_ar/046/00004671/s009_2012_09_17/00004671_s009_t000.edf 55\n",
            "2560 12800\n"
          ],
          "name": "stdout"
        },
        {
          "output_type": "stream",
          "text": [
            "/usr/local/lib/python3.7/dist-packages/ipykernel_launcher.py:9: RuntimeWarning: invalid value encountered in cdouble_scalars\n",
            "  if __name__ == '__main__':\n"
          ],
          "name": "stderr"
        },
        {
          "output_type": "stream",
          "text": [
            "/content/drive/MyDrive/TUH data/01_tcp_ar/046/00004671/s009_2012_09_17/00004671_s009_t001.edf 56\n",
            "2560 12800\n",
            "/content/drive/MyDrive/TUH data/01_tcp_ar/046/00004671/s010_2013_07_08/00004671_s010_t000.edf 57\n",
            "2560 12800\n"
          ],
          "name": "stdout"
        },
        {
          "output_type": "stream",
          "text": [
            "/usr/local/lib/python3.7/dist-packages/ipykernel_launcher.py:9: RuntimeWarning: invalid value encountered in cdouble_scalars\n",
            "  if __name__ == '__main__':\n"
          ],
          "name": "stderr"
        },
        {
          "output_type": "stream",
          "text": [
            "/content/drive/MyDrive/TUH data/01_tcp_ar/046/00004671/s011_2013_07_08/00004671_s011_t000.edf 58\n",
            "2560 12800\n"
          ],
          "name": "stdout"
        },
        {
          "output_type": "stream",
          "text": [
            "/usr/local/lib/python3.7/dist-packages/ipykernel_launcher.py:9: RuntimeWarning: invalid value encountered in cdouble_scalars\n",
            "  if __name__ == '__main__':\n"
          ],
          "name": "stderr"
        },
        {
          "output_type": "stream",
          "text": [
            "/content/drive/MyDrive/TUH data/01_tcp_ar/046/00004671/s011_2013_07_08/00004671_s011_t001.edf 59\n",
            "2560 12800\n"
          ],
          "name": "stdout"
        },
        {
          "output_type": "stream",
          "text": [
            "/usr/local/lib/python3.7/dist-packages/ipykernel_launcher.py:9: RuntimeWarning: invalid value encountered in cdouble_scalars\n",
            "  if __name__ == '__main__':\n"
          ],
          "name": "stderr"
        },
        {
          "output_type": "stream",
          "text": [
            "/content/drive/MyDrive/TUH data/01_tcp_ar/046/00004671/s011_2013_07_08/00004671_s011_t002.edf 60\n",
            "2560 12800\n",
            "/content/drive/MyDrive/TUH data/01_tcp_ar/046/00004671/s011_2013_07_08/00004671_s011_t003.edf 61\n",
            "2560 12800\n"
          ],
          "name": "stdout"
        },
        {
          "output_type": "stream",
          "text": [
            "/usr/local/lib/python3.7/dist-packages/ipykernel_launcher.py:9: RuntimeWarning: invalid value encountered in cdouble_scalars\n",
            "  if __name__ == '__main__':\n"
          ],
          "name": "stderr"
        },
        {
          "output_type": "stream",
          "text": [
            "/content/drive/MyDrive/TUH data/01_tcp_ar/046/00004671/s011_2013_07_08/00004671_s011_t004.edf 62\n",
            "2560 12800\n"
          ],
          "name": "stdout"
        },
        {
          "output_type": "stream",
          "text": [
            "/usr/local/lib/python3.7/dist-packages/ipykernel_launcher.py:9: RuntimeWarning: invalid value encountered in cdouble_scalars\n",
            "  if __name__ == '__main__':\n"
          ],
          "name": "stderr"
        },
        {
          "output_type": "stream",
          "text": [
            "/content/drive/MyDrive/TUH data/01_tcp_ar/046/00004671/s011_2013_07_08/00004671_s011_t005.edf 63\n",
            "2560 12800\n",
            "/content/drive/MyDrive/TUH data/01_tcp_ar/046/00004671/s011_2013_07_08/00004671_s011_t006.edf 64\n",
            "2560 12800\n",
            "/content/drive/MyDrive/TUH data/01_tcp_ar/046/00004671/s011_2013_07_08/00004671_s011_t007.edf 65\n",
            "2560 12800\n"
          ],
          "name": "stdout"
        },
        {
          "output_type": "stream",
          "text": [
            "/usr/local/lib/python3.7/dist-packages/ipykernel_launcher.py:9: RuntimeWarning: invalid value encountered in cdouble_scalars\n",
            "  if __name__ == '__main__':\n"
          ],
          "name": "stderr"
        },
        {
          "output_type": "stream",
          "text": [
            "/content/drive/MyDrive/TUH data/01_tcp_ar/046/00004671/s011_2013_07_08/00004671_s011_t008.edf 66\n",
            "2560 12800\n"
          ],
          "name": "stdout"
        },
        {
          "output_type": "stream",
          "text": [
            "/usr/local/lib/python3.7/dist-packages/ipykernel_launcher.py:9: RuntimeWarning: invalid value encountered in cdouble_scalars\n",
            "  if __name__ == '__main__':\n"
          ],
          "name": "stderr"
        },
        {
          "output_type": "stream",
          "text": [
            "/content/drive/MyDrive/TUH data/01_tcp_ar/046/00004671/s011_2013_07_08/00004671_s011_t009.edf 67\n",
            "2560 12800\n",
            "/content/drive/MyDrive/TUH data/01_tcp_ar/046/00004671/s011_2013_07_08/00004671_s011_t010.edf 68\n",
            "2560 12800\n"
          ],
          "name": "stdout"
        },
        {
          "output_type": "stream",
          "text": [
            "/usr/local/lib/python3.7/dist-packages/ipykernel_launcher.py:9: RuntimeWarning: invalid value encountered in cdouble_scalars\n",
            "  if __name__ == '__main__':\n"
          ],
          "name": "stderr"
        }
      ]
    },
    {
      "cell_type": "code",
      "metadata": {
        "id": "ShtEaKczZB5U"
      },
      "source": [
        "## TE ##\n",
        "from PyIF import te_compute as te\n",
        "\n",
        "train_data_te=[]\n",
        "ii=0\n",
        "for f in fpath:\n",
        "  print(f, ii+1)\n",
        "  raw = mne.io.read_raw_edf(f, verbose=False)\n",
        "  ##\n",
        "  raw.load_data()\n",
        "  \n",
        "  raw=raw.filter(l_freq=l_frequency, h_freq=h_frequency)\n",
        "  ##\n",
        "  \n",
        "  channel_data=raw.get_data()\n",
        "  channel_data=channel_data[:, int(cl_st[ii]*fs[ii]):int(cl_en[ii]*fs[ii])]\n",
        "  sh=channel_data.shape[0]\n",
        "  ii=ii+1\n",
        "  s=(sh, sh)\n",
        "  te2=np.zeros(s)\n",
        "  ch_ls=[]\n",
        "  for i in range(0, sh):\n",
        "    for j in range(0,sh):\n",
        "      te2[i][j]=te.te_compute(channel_data[i], channel_data[j], k=1, embedding =1, GPU=False)\n",
        "      if (np.any(np.isnan(te2[i][j])))==True:\n",
        "        te2[i][j]=0\n",
        "      if (np.any(np.isinf(te2[i][j])))==True:\n",
        "        te2[i][j]=1  \n",
        "\n",
        "  #np.append(train_data,pcc2, axis=0)\n",
        "  te2=cv2.resize(te2, (32,32))\n",
        "  te2=preprocessing.normalize(te2)#additional normalization layer checks whether any data is NaN\n",
        "  train_data_te.append(te2)"
      ],
      "execution_count": null,
      "outputs": []
    },
    {
      "cell_type": "code",
      "metadata": {
        "id": "W8ciZTbrxJcw"
      },
      "source": [
        "######### CNN SECTION ##########"
      ],
      "execution_count": null,
      "outputs": []
    },
    {
      "cell_type": "markdown",
      "metadata": {
        "id": "0p73_-aZxqbf"
      },
      "source": [
        "Next is the CNN section. Cells are marked separately for PLV and TE"
      ]
    },
    {
      "cell_type": "code",
      "metadata": {
        "colab": {
          "base_uri": "https://localhost:8080/"
        },
        "id": "ELUiAeU2-giC",
        "outputId": "061ff366-dbbc-4a2a-f6a6-f98f543d72e6"
      },
      "source": [
        "#for PLV\n",
        "train_data_plv=np.array(train_data_plv)\n",
        "\n",
        "#assert not np.any(np.isnan(train_data))\n",
        "print('The shape of the train data', train_data_plv.shape)"
      ],
      "execution_count": 15,
      "outputs": [
        {
          "output_type": "stream",
          "text": [
            "The shape of the train data (68, 32, 32)\n"
          ],
          "name": "stdout"
        }
      ]
    },
    {
      "cell_type": "code",
      "metadata": {
        "id": "gSDkHYaSnnKR"
      },
      "source": [
        "#for TE\n",
        "train_data_te=np.array(train_data_te)\n",
        "\n",
        "#assert not np.any(np.isnan(train_data))\n",
        "print('The shape of the train data', train_data_te.shape)"
      ],
      "execution_count": null,
      "outputs": []
    },
    {
      "cell_type": "code",
      "metadata": {
        "id": "vubJ8VXv_UYZ"
      },
      "source": [
        "#CHECK\n",
        "#optional for visualizing the data\n",
        "t=np.size(train_data, 0) \n",
        "for x in range(0,t):\n",
        "  print('The image of the correlation of file', x+1)\n",
        "  plt.subplot(1, t, x+1)\n",
        "  plt.imshow(train_data[x])\n",
        "  plt.title('Image:'+ str(x+1))\n",
        "\n",
        "plt.show() \n",
        "#plt.imshow(train_data[5])\n",
        "\n",
        "plt.plot(train_data[5])"
      ],
      "execution_count": null,
      "outputs": []
    },
    {
      "cell_type": "code",
      "metadata": {
        "id": "E0phaQlUB7Zn"
      },
      "source": [
        "import tensorflow as tf\n",
        "from tensorflow import keras\n",
        "from sklearn import preprocessing\n",
        "import numpy as np\n",
        "from keras.utils import np_utils\n",
        "from keras import backend as K\n",
        "from keras.models import Sequential, Model\n",
        "from keras.layers import concatenate, Input  \n",
        "from keras.layers.core import Dense, Flatten, Activation, Dropout\n",
        "from keras.layers.convolutional import Conv2D\n",
        "from keras.layers.convolutional import MaxPooling2D\n",
        "from keras.layers.normalization import BatchNormalization\n",
        "from keras.datasets import cifar10\n",
        "from keras.optimizers import Adam, RMSprop\n",
        "import matplotlib.pyplot as plt\n",
        "import cv2"
      ],
      "execution_count": 16,
      "outputs": []
    },
    {
      "cell_type": "code",
      "metadata": {
        "id": "kyhHCTbUJpA8"
      },
      "source": [
        "class MDC:\n",
        "  @staticmethod\n",
        "  def build(input_shape, classes):\n",
        "    #channel 1\n",
        "    input1=Input(shape=(input_shape))\n",
        "    conv11=Conv2D(128, kernel_size=5, padding='same', activation='relu')(input1)\n",
        "    conv12=Conv2D(128, kernel_size=5, padding='same', activation='relu')(conv11)\n",
        "    pool11=MaxPooling2D(pool_size=(2, 2))(conv12)\n",
        "    conv13=Conv2D(128, kernel_size=5, padding='same', activation='relu')(pool11)\n",
        "    conv14=Conv2D(128, kernel_size=5, padding='same', activation='relu')(conv13)\n",
        "    pool12=MaxPooling2D(pool_size=(2, 2))(conv14)\n",
        "    flat1=Flatten()(pool12)\n",
        "\n",
        "    #channel 2\n",
        "    input2=Input(shape=(input_shape))\n",
        "    conv21=Conv2D(128, kernel_size=5, padding='same', activation='relu')(input2)\n",
        "    conv22=Conv2D(128, kernel_size=5, padding='same', activation='relu')(conv21)\n",
        "    pool21=MaxPooling2D(pool_size=(2, 2))(conv22)\n",
        "    conv23=Conv2D(128, kernel_size=5, padding='same', activation='relu')(pool21)\n",
        "    conv24=Conv2D(128, kernel_size=5, padding='same', activation='relu')(conv23)\n",
        "    pool22=MaxPooling2D(pool_size=(2, 2))(conv24)\n",
        "    flat2=Flatten()(pool22)\n",
        "    #merge\n",
        "    \n",
        "    merged=concatenate([flat1, flat2])\n",
        "    dense1= Dense(500, activation='relu')(merged)\n",
        "    drop1=Dropout(0.1)(dense1)\n",
        "    \n",
        "    #Classifier\n",
        "    dense2=Dense(classes, activation='softmax')(drop1)\n",
        "    model=Model(inputs=[input1, input2], outputs=dense2)\n",
        "  \n",
        "    print(model.summary())\n",
        "    \n",
        "    return model"
      ],
      "execution_count": 17,
      "outputs": []
    },
    {
      "cell_type": "code",
      "metadata": {
        "colab": {
          "base_uri": "https://localhost:8080/"
        },
        "id": "aC1VzbFXJsRI",
        "outputId": "87e18753-3abf-4f6a-ced3-6eca30ea5a5f"
      },
      "source": [
        "#For PLV generates x_train1\n",
        "img_rows=32\n",
        "img_cols=32\n",
        "img_channels=1\n",
        "input_shape=(img_rows, img_cols, img_channels)\n",
        "classes=2\n",
        "\n",
        "x_train1=train_data_plv.astype('float32')\n",
        "\n",
        "y_train=train_labels\n",
        "y_train=np_utils.to_categorical(y_train, classes)\n",
        "\n",
        "#x_train=x_train\n",
        "x_train1=np.expand_dims(x_train1, axis=3)\n",
        "\n",
        "print('The shape of the train_data: ', x_train1.shape)"
      ],
      "execution_count": 18,
      "outputs": [
        {
          "output_type": "stream",
          "text": [
            "The shape of the train_data:  (68, 32, 32, 1)\n"
          ],
          "name": "stdout"
        }
      ]
    },
    {
      "cell_type": "code",
      "metadata": {
        "id": "NksJnEMKnjvf"
      },
      "source": [
        "#For TE generates x_train2\n",
        "img_rows=32\n",
        "img_cols=32\n",
        "img_channels=1\n",
        "input_shape=(img_rows, img_cols, img_channels)\n",
        "classes=2\n",
        "\n",
        "x_train2=train_data_te.astype('float32')\n",
        "\n",
        "y_train=train_labels\n",
        "y_train=np_utils.to_categorical(y_train, classes)\n",
        "\n",
        "x_train2=np.expand_dims(x_train2, axis=3)\n",
        "\n",
        "print('The shape of the train_data: ', x_train2.shape)"
      ],
      "execution_count": null,
      "outputs": []
    },
    {
      "cell_type": "code",
      "metadata": {
        "colab": {
          "base_uri": "https://localhost:8080/"
        },
        "id": "3CqMlR4_LLYq",
        "outputId": "b687394d-71c6-45d7-8869-73ab69bbee85"
      },
      "source": [
        "model=MDC.build(input_shape, classes)\n",
        "\n",
        "model.compile(loss='binary_crossentropy', optimizer=Adam(), metrics=['accuracy', 'TruePositives', 'FalseNegatives', 'TrueNegatives', 'FalsePositives'])\n",
        "history=model.fit([x_train1, x_train1], y_train, validation_split=0.1, batch_size=15, epochs=20, verbose=1)\n"
      ],
      "execution_count": 19,
      "outputs": [
        {
          "output_type": "stream",
          "text": [
            "Model: \"model\"\n",
            "__________________________________________________________________________________________________\n",
            "Layer (type)                    Output Shape         Param #     Connected to                     \n",
            "==================================================================================================\n",
            "input_1 (InputLayer)            [(None, 32, 32, 1)]  0                                            \n",
            "__________________________________________________________________________________________________\n",
            "input_2 (InputLayer)            [(None, 32, 32, 1)]  0                                            \n",
            "__________________________________________________________________________________________________\n",
            "conv2d (Conv2D)                 (None, 32, 32, 128)  3328        input_1[0][0]                    \n",
            "__________________________________________________________________________________________________\n",
            "conv2d_4 (Conv2D)               (None, 32, 32, 128)  3328        input_2[0][0]                    \n",
            "__________________________________________________________________________________________________\n",
            "conv2d_1 (Conv2D)               (None, 32, 32, 128)  409728      conv2d[0][0]                     \n",
            "__________________________________________________________________________________________________\n",
            "conv2d_5 (Conv2D)               (None, 32, 32, 128)  409728      conv2d_4[0][0]                   \n",
            "__________________________________________________________________________________________________\n",
            "max_pooling2d (MaxPooling2D)    (None, 16, 16, 128)  0           conv2d_1[0][0]                   \n",
            "__________________________________________________________________________________________________\n",
            "max_pooling2d_2 (MaxPooling2D)  (None, 16, 16, 128)  0           conv2d_5[0][0]                   \n",
            "__________________________________________________________________________________________________\n",
            "conv2d_2 (Conv2D)               (None, 16, 16, 128)  409728      max_pooling2d[0][0]              \n",
            "__________________________________________________________________________________________________\n",
            "conv2d_6 (Conv2D)               (None, 16, 16, 128)  409728      max_pooling2d_2[0][0]            \n",
            "__________________________________________________________________________________________________\n",
            "conv2d_3 (Conv2D)               (None, 16, 16, 128)  409728      conv2d_2[0][0]                   \n",
            "__________________________________________________________________________________________________\n",
            "conv2d_7 (Conv2D)               (None, 16, 16, 128)  409728      conv2d_6[0][0]                   \n",
            "__________________________________________________________________________________________________\n",
            "max_pooling2d_1 (MaxPooling2D)  (None, 8, 8, 128)    0           conv2d_3[0][0]                   \n",
            "__________________________________________________________________________________________________\n",
            "max_pooling2d_3 (MaxPooling2D)  (None, 8, 8, 128)    0           conv2d_7[0][0]                   \n",
            "__________________________________________________________________________________________________\n",
            "flatten (Flatten)               (None, 8192)         0           max_pooling2d_1[0][0]            \n",
            "__________________________________________________________________________________________________\n",
            "flatten_1 (Flatten)             (None, 8192)         0           max_pooling2d_3[0][0]            \n",
            "__________________________________________________________________________________________________\n",
            "concatenate (Concatenate)       (None, 16384)        0           flatten[0][0]                    \n",
            "                                                                 flatten_1[0][0]                  \n",
            "__________________________________________________________________________________________________\n",
            "dense (Dense)                   (None, 500)          8192500     concatenate[0][0]                \n",
            "__________________________________________________________________________________________________\n",
            "dropout (Dropout)               (None, 500)          0           dense[0][0]                      \n",
            "__________________________________________________________________________________________________\n",
            "dense_1 (Dense)                 (None, 2)            1002        dropout[0][0]                    \n",
            "==================================================================================================\n",
            "Total params: 10,658,526\n",
            "Trainable params: 10,658,526\n",
            "Non-trainable params: 0\n",
            "__________________________________________________________________________________________________\n",
            "None\n",
            "Epoch 1/20\n",
            "5/5 [==============================] - 31s 2s/step - loss: 0.7754 - accuracy: 0.6989 - true_positives: 32.1667 - false_negatives: 13.1667 - true_negatives: 32.1667 - false_positives: 13.1667 - val_loss: 0.6914 - val_accuracy: 1.0000 - val_true_positives: 7.0000 - val_false_negatives: 0.0000e+00 - val_true_negatives: 7.0000 - val_false_positives: 0.0000e+00\n",
            "Epoch 2/20\n",
            "5/5 [==============================] - 8s 2s/step - loss: 0.6840 - accuracy: 0.7597 - true_positives: 34.0000 - false_negatives: 11.3333 - true_negatives: 34.0000 - false_positives: 11.3333 - val_loss: 0.9877 - val_accuracy: 0.0000e+00 - val_true_positives: 0.0000e+00 - val_false_negatives: 7.0000 - val_true_negatives: 0.0000e+00 - val_false_positives: 7.0000\n",
            "Epoch 3/20\n",
            "5/5 [==============================] - 8s 2s/step - loss: 0.5356 - accuracy: 0.7606 - true_positives: 34.3333 - false_negatives: 11.0000 - true_negatives: 34.3333 - false_positives: 11.0000 - val_loss: 0.7694 - val_accuracy: 0.1429 - val_true_positives: 1.0000 - val_false_negatives: 6.0000 - val_true_negatives: 1.0000 - val_false_positives: 6.0000\n",
            "Epoch 4/20\n",
            "5/5 [==============================] - 8s 2s/step - loss: 0.5141 - accuracy: 0.7927 - true_positives: 36.5000 - false_negatives: 8.8333 - true_negatives: 36.5000 - false_positives: 8.8333 - val_loss: 0.7865 - val_accuracy: 0.2857 - val_true_positives: 2.0000 - val_false_negatives: 5.0000 - val_true_negatives: 2.0000 - val_false_positives: 5.0000\n",
            "Epoch 5/20\n",
            "5/5 [==============================] - 8s 2s/step - loss: 0.3153 - accuracy: 0.8409 - true_positives: 37.3333 - false_negatives: 8.0000 - true_negatives: 37.3333 - false_positives: 8.0000 - val_loss: 1.2138 - val_accuracy: 0.2857 - val_true_positives: 2.0000 - val_false_negatives: 5.0000 - val_true_negatives: 2.0000 - val_false_positives: 5.0000\n",
            "Epoch 6/20\n",
            "5/5 [==============================] - 8s 2s/step - loss: 0.2505 - accuracy: 0.8231 - true_positives: 37.8333 - false_negatives: 7.5000 - true_negatives: 37.8333 - false_positives: 7.5000 - val_loss: 0.3588 - val_accuracy: 1.0000 - val_true_positives: 7.0000 - val_false_negatives: 0.0000e+00 - val_true_negatives: 7.0000 - val_false_positives: 0.0000e+00\n",
            "Epoch 7/20\n",
            "5/5 [==============================] - 8s 2s/step - loss: 0.2030 - accuracy: 0.9180 - true_positives: 41.3333 - false_negatives: 4.0000 - true_negatives: 41.3333 - false_positives: 4.0000 - val_loss: 0.1715 - val_accuracy: 1.0000 - val_true_positives: 7.0000 - val_false_negatives: 0.0000e+00 - val_true_negatives: 7.0000 - val_false_positives: 0.0000e+00\n",
            "Epoch 8/20\n",
            "5/5 [==============================] - 9s 2s/step - loss: 0.1057 - accuracy: 0.9504 - true_positives: 42.6667 - false_negatives: 2.6667 - true_negatives: 42.6667 - false_positives: 2.6667 - val_loss: 0.0210 - val_accuracy: 1.0000 - val_true_positives: 7.0000 - val_false_negatives: 0.0000e+00 - val_true_negatives: 7.0000 - val_false_positives: 0.0000e+00\n",
            "Epoch 9/20\n",
            "5/5 [==============================] - 8s 2s/step - loss: 0.0781 - accuracy: 0.9631 - true_positives: 43.8333 - false_negatives: 1.5000 - true_negatives: 43.8333 - false_positives: 1.5000 - val_loss: 6.6993e-04 - val_accuracy: 1.0000 - val_true_positives: 7.0000 - val_false_negatives: 0.0000e+00 - val_true_negatives: 7.0000 - val_false_positives: 0.0000e+00\n",
            "Epoch 10/20\n",
            "5/5 [==============================] - 8s 2s/step - loss: 0.2444 - accuracy: 0.9393 - true_positives: 42.5000 - false_negatives: 2.8333 - true_negatives: 42.5000 - false_positives: 2.8333 - val_loss: 5.9367e-04 - val_accuracy: 1.0000 - val_true_positives: 7.0000 - val_false_negatives: 0.0000e+00 - val_true_negatives: 7.0000 - val_false_positives: 0.0000e+00\n",
            "Epoch 11/20\n",
            "5/5 [==============================] - 8s 2s/step - loss: 0.1680 - accuracy: 0.9419 - true_positives: 42.8333 - false_negatives: 2.5000 - true_negatives: 42.8333 - false_positives: 2.5000 - val_loss: 0.0638 - val_accuracy: 1.0000 - val_true_positives: 7.0000 - val_false_negatives: 0.0000e+00 - val_true_negatives: 7.0000 - val_false_positives: 0.0000e+00\n",
            "Epoch 12/20\n",
            "5/5 [==============================] - 8s 2s/step - loss: 0.0516 - accuracy: 0.9881 - true_positives: 44.6667 - false_negatives: 0.6667 - true_negatives: 44.6667 - false_positives: 0.6667 - val_loss: 0.1136 - val_accuracy: 1.0000 - val_true_positives: 7.0000 - val_false_negatives: 0.0000e+00 - val_true_negatives: 7.0000 - val_false_positives: 0.0000e+00\n",
            "Epoch 13/20\n",
            "5/5 [==============================] - 8s 2s/step - loss: 0.0506 - accuracy: 1.0000 - true_positives: 45.3333 - false_negatives: 0.0000e+00 - true_negatives: 45.3333 - false_positives: 0.0000e+00 - val_loss: 0.0100 - val_accuracy: 1.0000 - val_true_positives: 7.0000 - val_false_negatives: 0.0000e+00 - val_true_negatives: 7.0000 - val_false_positives: 0.0000e+00\n",
            "Epoch 14/20\n",
            "5/5 [==============================] - 8s 2s/step - loss: 0.0199 - accuracy: 1.0000 - true_positives: 45.3333 - false_negatives: 0.0000e+00 - true_negatives: 45.3333 - false_positives: 0.0000e+00 - val_loss: 2.3730e-04 - val_accuracy: 1.0000 - val_true_positives: 7.0000 - val_false_negatives: 0.0000e+00 - val_true_negatives: 7.0000 - val_false_positives: 0.0000e+00\n",
            "Epoch 15/20\n",
            "5/5 [==============================] - 8s 2s/step - loss: 0.0094 - accuracy: 0.9918 - true_positives: 44.8333 - false_negatives: 0.5000 - true_negatives: 44.8333 - false_positives: 0.5000 - val_loss: 1.7020e-05 - val_accuracy: 1.0000 - val_true_positives: 7.0000 - val_false_negatives: 0.0000e+00 - val_true_negatives: 7.0000 - val_false_positives: 0.0000e+00\n",
            "Epoch 16/20\n",
            "5/5 [==============================] - 8s 2s/step - loss: 0.0070 - accuracy: 1.0000 - true_positives: 45.3333 - false_negatives: 0.0000e+00 - true_negatives: 45.3333 - false_positives: 0.0000e+00 - val_loss: 5.5588e-05 - val_accuracy: 1.0000 - val_true_positives: 7.0000 - val_false_negatives: 0.0000e+00 - val_true_negatives: 7.0000 - val_false_positives: 0.0000e+00\n",
            "Epoch 17/20\n",
            "5/5 [==============================] - 8s 2s/step - loss: 8.9899e-04 - accuracy: 1.0000 - true_positives: 45.3333 - false_negatives: 0.0000e+00 - true_negatives: 45.3333 - false_positives: 0.0000e+00 - val_loss: 1.2933e-05 - val_accuracy: 1.0000 - val_true_positives: 7.0000 - val_false_negatives: 0.0000e+00 - val_true_negatives: 7.0000 - val_false_positives: 0.0000e+00\n",
            "Epoch 18/20\n",
            "5/5 [==============================] - 8s 2s/step - loss: 0.0014 - accuracy: 1.0000 - true_positives: 45.3333 - false_negatives: 0.0000e+00 - true_negatives: 45.3333 - false_positives: 0.0000e+00 - val_loss: 4.6698e-06 - val_accuracy: 1.0000 - val_true_positives: 7.0000 - val_false_negatives: 0.0000e+00 - val_true_negatives: 7.0000 - val_false_positives: 0.0000e+00\n",
            "Epoch 19/20\n",
            "5/5 [==============================] - 8s 2s/step - loss: 6.2607e-04 - accuracy: 1.0000 - true_positives: 45.3333 - false_negatives: 0.0000e+00 - true_negatives: 45.3333 - false_positives: 0.0000e+00 - val_loss: 2.1577e-06 - val_accuracy: 1.0000 - val_true_positives: 7.0000 - val_false_negatives: 0.0000e+00 - val_true_negatives: 7.0000 - val_false_positives: 0.0000e+00\n",
            "Epoch 20/20\n",
            "5/5 [==============================] - 8s 2s/step - loss: 4.9403e-04 - accuracy: 1.0000 - true_positives: 45.3333 - false_negatives: 0.0000e+00 - true_negatives: 45.3333 - false_positives: 0.0000e+00 - val_loss: 1.3834e-06 - val_accuracy: 1.0000 - val_true_positives: 7.0000 - val_false_negatives: 0.0000e+00 - val_true_negatives: 7.0000 - val_false_positives: 0.0000e+00\n"
          ],
          "name": "stdout"
        }
      ]
    },
    {
      "cell_type": "markdown",
      "metadata": {
        "id": "vZ-vQSJNP-W-"
      },
      "source": [
        ""
      ]
    },
    {
      "cell_type": "code",
      "metadata": {
        "colab": {
          "base_uri": "https://localhost:8080/",
          "height": 834
        },
        "id": "elEuiCX2-GxD",
        "outputId": "037adf29-3348-4057-e31f-e6d5fb6f1717"
      },
      "source": [
        "tp=np.array(history.history['true_positives'])\n",
        "fn=np.array(history.history['false_negatives'])\n",
        "tn=np.array(history.history['true_negatives'])\n",
        "fp=np.array(history.history['false_positives'])\n",
        "\n",
        "sensitivity=np.divide(tp,np.add(tp,fn))\n",
        "specificity=np.divide(tn,np.add(tn,fp))\n",
        "false_positive_rate=np.divide(fp,np.add(tn,fp))\n",
        "\n",
        "print('Accuracy: ', np.array(history.history['accuracy']))\n",
        "print('sensitivity: ', sensitivity)\n",
        "print('specificity: ', specificity)\n",
        "print('false_positive_rate: ', false_positive_rate)\n",
        "\n",
        "plt.subplot(1, 2, 1)\n",
        "plt.plot(sensitivity,'*')\n",
        "#plt.scatter(sensitivity)\n",
        "plt.title('sensitivity')\n",
        "\n",
        "plt.grid()\n",
        "\n",
        "plt.subplot(1, 2, 2)\n",
        "plt.plot(specificity, '*')\n",
        "#plt.scatter(specificity)\n",
        "plt.title('specificity')\n",
        "\n",
        "plt.grid()\n",
        "\n",
        "plt.show()\n",
        "\n",
        "plt.plot(history.history['accuracy'])\n",
        "plt.title('Accuracy')"
      ],
      "execution_count": 20,
      "outputs": [
        {
          "output_type": "stream",
          "text": [
            "Accuracy:  [0.70491803 0.75409836 0.75409836 0.81967211 0.80327868 0.83606559\n",
            " 0.91803277 0.93442625 0.96721309 0.93442625 0.95081967 0.98360658\n",
            " 1.         1.         0.98360658 1.         1.         1.\n",
            " 1.         1.        ]\n",
            "sensitivity:  [0.70491803 0.75409836 0.75409836 0.81967213 0.80327869 0.83606557\n",
            " 0.91803279 0.93442623 0.96721311 0.93442623 0.95081967 0.98360656\n",
            " 1.         1.         0.98360656 1.         1.         1.\n",
            " 1.         1.        ]\n",
            "specificity:  [0.70491803 0.75409836 0.75409836 0.81967213 0.80327869 0.83606557\n",
            " 0.91803279 0.93442623 0.96721311 0.93442623 0.95081967 0.98360656\n",
            " 1.         1.         0.98360656 1.         1.         1.\n",
            " 1.         1.        ]\n",
            "false_positive_rate:  [0.29508197 0.24590164 0.24590164 0.18032787 0.19672131 0.16393443\n",
            " 0.08196721 0.06557377 0.03278689 0.06557377 0.04918033 0.01639344\n",
            " 0.         0.         0.01639344 0.         0.         0.\n",
            " 0.         0.        ]\n"
          ],
          "name": "stdout"
        },
        {
          "output_type": "display_data",
          "data": {
            "image/png": "[encoded data removed]",
            "text/plain": [
              "<Figure size 432x288 with 2 Axes>"
            ]
          },
          "metadata": {
            "tags": [],
            "needs_background": "light"
          }
        },
        {
          "output_type": "execute_result",
          "data": {
            "text/plain": [
              "Text(0.5, 1.0, 'Accuracy')"
            ]
          },
          "metadata": {
            "tags": []
          },
          "execution_count": 20
        },
        {
          "output_type": "display_data",
          "data": {
            "image/png": "[encoded data removed]",
            "text/plain": [
              "<Figure size 432x288 with 1 Axes>"
            ]
          },
          "metadata": {
            "tags": [],
            "needs_background": "light"
          }
        }
      ]
    }
  ]
}