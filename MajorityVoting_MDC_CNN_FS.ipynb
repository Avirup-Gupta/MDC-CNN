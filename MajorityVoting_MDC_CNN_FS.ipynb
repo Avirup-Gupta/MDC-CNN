{
  "nbformat": 4,
  "nbformat_minor": 0,
  "metadata": {
    "colab": {
      "name": "MajorityVoting_MDC_CNN_FS.ipynb",
      "provenance": [],
      "collapsed_sections": [],
      "mount_file_id": "1qbKb1JR4_r1bJpFAj0LMfVx0qlksvDYU",
      "authorship_tag": "ABX9TyOkQpbQjBK4nVIUaiwvPCs2",
      "include_colab_link": true
    },
    "kernelspec": {
      "display_name": "Python 3",
      "name": "python3"
    }
  },
  "cells": [
    {
      "cell_type": "markdown",
      "metadata": {
        "id": "view-in-github",
        "colab_type": "text"
      },
      "source": [
        "<a href=\"https://colab.research.google.com/github/Avirup-Gupta/MDC-CNN/blob/main/MajorityVoting_MDC_CNN_FS.ipynb\" target=\"_parent\"><img src=\"https://colab.research.google.com/assets/colab-badge.svg\" alt=\"Open In Colab\"/></a>"
      ]
    },
    {
      "cell_type": "markdown",
      "metadata": {
        "id": "BRKPrvPjrtXA"
      },
      "source": [
        "Some cells are marked as #CHECK, ar for checking purposes. Some marked as #NOT TO BE EXECUTED should be avoided if not absolutely required "
      ]
    },
    {
      "cell_type": "code",
      "metadata": {
        "colab": {
          "base_uri": "https://localhost:8080/"
        },
        "id": "KqbVAZK7geuS",
        "outputId": "3aa50631-660f-47f0-d38a-88faf151ca2c"
      },
      "source": [
        "!pip install mne\n",
        "!pip install PyIF\n",
        "!pip install nose\n",
        "import nose\n",
        "import mne\n",
        "import numpy as np\n",
        "import os\n",
        "import pandas as pd\n",
        "import collections\n",
        "from matplotlib import pyplot as plt\n",
        "import cv2\n",
        "from sklearn import preprocessing"
      ],
      "execution_count": 1,
      "outputs": [
        {
          "output_type": "stream",
          "text": [
            "Collecting mne\n",
            "\u001b[?25l  Downloading https://files.pythonhosted.org/packages/60/f7/2bf5de3fad42b66d00ee27539bc3be0260b4e66fdecc12f740cdf2daf2e7/mne-0.23.0-py3-none-any.whl (6.9MB)\n",
            "\u001b[K     |████████████████████████████████| 7.0MB 7.5MB/s \n",
            "\u001b[?25hRequirement already satisfied: numpy>=1.15.4 in /usr/local/lib/python3.7/dist-packages (from mne) (1.19.5)\n",
            "Requirement already satisfied: scipy>=1.1.0 in /usr/local/lib/python3.7/dist-packages (from mne) (1.4.1)\n",
            "Installing collected packages: mne\n",
            "Successfully installed mne-0.23.0\n",
            "Collecting PyIF\n",
            "  Downloading https://files.pythonhosted.org/packages/1f/d9/91c5bcfae19e5dc1c1b96258cee8ad29695a43a25a9dc88d8a533e204128/PyIF-0.1-py3-none-any.whl\n",
            "Installing collected packages: PyIF\n",
            "Successfully installed PyIF-0.1\n",
            "Collecting nose\n",
            "\u001b[?25l  Downloading https://files.pythonhosted.org/packages/15/d8/dd071918c040f50fa1cf80da16423af51ff8ce4a0f2399b7bf8de45ac3d9/nose-1.3.7-py3-none-any.whl (154kB)\n",
            "\u001b[K     |████████████████████████████████| 163kB 7.6MB/s \n",
            "\u001b[?25hInstalling collected packages: nose\n",
            "Successfully installed nose-1.3.7\n"
          ],
          "name": "stdout"
        }
      ]
    },
    {
      "cell_type": "code",
      "metadata": {
        "id": "5SJSQsRw0sZp"
      },
      "source": [
        "######### MAIN CODE BEGINS ##############\n",
        "xlsx_file_name='/content/drive/MyDrive/TUH data/seizures_v36r.xlsx'"
      ],
      "execution_count": 2,
      "outputs": []
    },
    {
      "cell_type": "code",
      "metadata": {
        "id": "69j07EnR1Fs2"
      },
      "source": [
        "excel_file = os.path.join(xlsx_file_name)\n",
        "file_list = pd.read_excel(excel_file, sheet_name='dev', usecols=['Filename'])\n",
        "patient_id = pd.read_excel(excel_file, sheet_name='dev', usecols=['Patient'])\n",
        "seizure_type = pd.read_excel(excel_file, sheet_name='dev', usecols=['Seizure Type'])\n",
        "start_time=pd.read_excel(excel_file, sheet_name='dev', usecols=['Start'])\n",
        "start_time=(start_time.to_numpy())\n",
        "stop_time=pd.read_excel(excel_file, sheet_name='dev', usecols=['Stop'])\n",
        "stop_time=(stop_time.to_numpy())\n",
        "file_list=np.array(file_list)\n",
        "patient_id=np.array(patient_id)\n",
        "seizure_type=np.array(seizure_type)\n"
      ],
      "execution_count": 3,
      "outputs": []
    },
    {
      "cell_type": "code",
      "metadata": {
        "id": "ZFXaFN6lBbSz"
      },
      "source": [
        "#CHECK\n",
        "no=104 ##input the index \n",
        "no=no-2 ##adjusting with the seizure file list xlsx\n",
        "print('file_no:', no)\n",
        "print(file_list[no])\n",
        "print('seizure type:',seizure_type[no])\n",
        "print('start time',start_time[no])\n",
        "print('stop time',stop_time[no])"
      ],
      "execution_count": null,
      "outputs": []
    },
    {
      "cell_type": "code",
      "metadata": {
        "colab": {
          "base_uri": "https://localhost:8080/"
        },
        "id": "-tsnHF7R0C8C",
        "outputId": "7439f69a-7a98-4670-cc4b-d1a9a8026137"
      },
      "source": [
        "fpath=['intial']\n",
        "labels=[1]\n",
        "labels=np.array([labels])\n",
        "\n",
        "#in our case the initial file was a non seizure one so we initialized according, can be changed.\n",
        "#the multiplication of sampling freq must be considered so as to not exceed the length \n",
        "cl_st=[10]\n",
        "cl_en=[50]\n",
        "\n",
        "\n",
        "loc='/content/drive/MyDrive/TUH data' #for google colab\n",
        "#loc='C:/TUH/v1.1.0/edf' #for PC\n",
        "\n",
        "for i in range(1,1407):\n",
        "  if seizure_type[i]==['TCSZ'] or seizure_type[i]==['FNSZ'] or seizure_type[i]==['CPSZ'] or seizure_type[i]==['GNSZ']:\n",
        "    fl=(file_list[i])\n",
        "    fl=fl[0]\n",
        "    #print('Original path: ',fl)\n",
        "    #print('The file path after stripping: ',fl[6:])\n",
        "    fl=fl.replace('.tse','.edf')\n",
        "    s=os.path.join(loc,(fl[6:]))\n",
        "    #print('The modified path is: ',s) \n",
        "    #s=fl.replace(fl[:fl.index[6]],'/content/drive/MyDrive/TUH data')\n",
        "    if os.path.isfile(s)==True:\n",
        "      \n",
        "      fpath.append(s)\n",
        "      labels=np.append(labels, [[1]], axis=0)\n",
        "      check_neg=start_time[i]-20\n",
        "      if check_neg>0:\n",
        "        cl_st.append(float(start_time[i]-20))\n",
        "      else:\n",
        "        cl_st.append(0)  \n",
        "      cl_en.append(float(stop_time[i]))\n",
        "\n",
        "    \n",
        "  else:\n",
        "    fl=(file_list[i])\n",
        "    fl=fl[0]\n",
        "    #print('Original path: ',fl)\n",
        "    #print('The file path after stripping: ',fl[6:])\n",
        "    fl=fl.replace('.tse','.edf')\n",
        "    s=os.path.join(loc,(fl[6:]))\n",
        "    #print('The modified path is: ',s)\n",
        "    #fpath.append(str(file_list[i]).replace('.tse','.edf'))\n",
        "    if os.path.isfile(s)==True:\n",
        "      \n",
        "      fpath.append(s)\n",
        "      labels=np.append(labels, [[0]], axis=0)\n",
        "      cl_st.append(10)\n",
        "      cl_en.append(50)\n",
        "\n",
        "    \n",
        "\n",
        "fpath=fpath[1:]\n",
        "labels=labels[1:]\n",
        "cl_st=cl_st[1:]\n",
        "cl_en=cl_en[1:]\n",
        "\n",
        "#print('The modified paths are:',fpath)\n",
        "print('size of fpath:', len(fpath))\n",
        "#print('The modified labels are:',labels)\n",
        "train_labels=labels\n",
        "print(cl_st)\n",
        "print(cl_en)"
      ],
      "execution_count": 4,
      "outputs": [
        {
          "output_type": "stream",
          "text": [
            "size of fpath: 68\n",
            "[10, 10, 10, 10, 0, 0, 0, 187.9101, 10, 10, 14.055100000000003, 67.3375, 0, 10, 26.273400000000002, 99.1406, 146.8203, 179.3398, 229.0547, 277.7539, 324.8438, 397.4219, 450.0469, 500.55859999999996, 579.1484, 622.6211, 668.1211, 709.4531, 751.1211, 807.1211, 848.375, 891.1719, 933.0547, 982.0273, 1033.3477, 1074.7461, 1111.9414, 1159.0664, 1206.3477, 1267.9453, 1311.6914, 1352.2188, 1393.9688, 1471.8203, 1531.1211, 1568.793, 1627.0195, 1660.9453, 1704.3281, 1753.2461, 1790.8203, 1839.2188, 1886.8203, 10, 10, 10, 10, 10, 10, 10, 10, 10, 10, 10, 10, 10, 10, 10]\n",
            "[50, 50, 50, 50, 173.3791, 175.5054, 150.5157, 308.0, 50, 50, 162.3118, 223.0086, 154.51, 50, 52.0742, 125.8398, 172.9219, 208.5391, 256.3516, 303.1523, 351.4453, 425.1211, 477.1484, 527.5586, 605.6484, 649.5195, 695.4219, 736.5547, 779.2188, 833.6211, 875.9727, 918.0742, 960.5547, 1008.2266, 1058.6484, 1099.9453, 1138.8398, 1186.0664, 1232.1484, 1293.0469, 1336.5938, 1378.1211, 1420.0664, 1497.0195, 1556.0195, 1594.8945, 1652.2188, 1686.9453, 1729.9258, 1779.0469, 1816.9219, 1866.2188, 1913.6211, 50, 50, 50, 50, 50, 50, 50, 50, 50, 50, 50, 50, 50, 50, 50]\n"
          ],
          "name": "stdout"
        }
      ]
    },
    {
      "cell_type": "code",
      "metadata": {
        "colab": {
          "base_uri": "https://localhost:8080/"
        },
        "id": "eLOKoWKvojAu",
        "outputId": "5bbaa437-9e2e-46f7-c187-0a5bcf90ab97"
      },
      "source": [
        "#CHECK\n",
        "print(fpath[53])\n",
        "cl_st[53]\n",
        "cl_en[53]"
      ],
      "execution_count": null,
      "outputs": [
        {
          "output_type": "stream",
          "text": [
            "/content/drive/MyDrive/TUH data/01_tcp_ar/046/00004671/s008_2012_08_24/00004671_s008_t000.edf\n"
          ],
          "name": "stdout"
        },
        {
          "output_type": "execute_result",
          "data": {
            "text/plain": [
              "50"
            ]
          },
          "metadata": {
            "tags": []
          },
          "execution_count": 11
        }
      ]
    },
    {
      "cell_type": "code",
      "metadata": {
        "id": "ygN-zo6jvnT_",
        "colab": {
          "base_uri": "https://localhost:8080/"
        },
        "outputId": "24aecb40-025c-4b32-98b7-4bdb673789a1"
      },
      "source": [
        "### Sampling frequency part ###\n",
        "\n",
        "def convert(lst): \n",
        "    return (lst.split('\\t')) \n",
        "\n",
        "tse_file_path=[]\n",
        "fs=[]\n",
        "for f in fpath:\n",
        "  fa=f.replace('TUH data', 'seizure/tse')\n",
        "  fa=fa.replace('.edf','.tse')\n",
        "  annot_file_path=str(fa)\n",
        "  print('Path exists: ',os.path.exists(annot_file_path))\n",
        "  l=len(annot_file_path)\n",
        "  print('The length of the path is: ',l)\n",
        "  c=annot_file_path[l-2]\n",
        "  #print('the l-2 is:',c)\n",
        "  tse_file_path.append(annot_file_path)\n",
        "  '''  \n",
        "  if c=='x':\n",
        "    print('The file is already converted to a text file')\n",
        "  else:\n",
        "    print('Converting the TSE file to a txt file')\n",
        "    annot_file_path1=annot_file_path.replace('.tse','.txt')\n",
        "    print('The converted file path is: ',annot_file_path1)\n",
        "    #os.rename(annot_file_path,annot_file_path1)\n",
        "    annot_file_path=annot_file_path1 \n",
        "  '''\n",
        "  f1 = open(annot_file_path,'r+')\n",
        "  string_list=f1.readlines() #when using f.read() before f.readlines() the string_list generated due to readlines is shown blank\n",
        "  print(string_list[6])\n",
        "  annot=string_list[6]\n",
        "  f1.close()\n",
        "\n",
        "  con_annot=convert(annot)\n",
        "  st_time=float(con_annot[0])\n",
        "  en_time=float(con_annot[1])\n",
        "  type_of_seizure=con_annot[2]\n",
        "  duration=en_time-st_time\n",
        "\n",
        "  raw = mne.io.read_raw_edf(f, verbose=False)\n",
        "  channel_data=raw.get_data()\n",
        "  print('The shape of the data:',channel_data.shape)\n",
        "  sampling_freq=channel_data.shape[1]/duration\n",
        "  print('The sampling frequency of the file:',sampling_freq)\n",
        "  print('***********************************')\n",
        "  fs.append(sampling_freq)"
      ],
      "execution_count": 5,
      "outputs": [
        {
          "output_type": "stream",
          "text": [
            "Path exists:  True\n",
            "The length of the path is:  96\n",
            "0.0000\t20.0000\tbckg\t0.985839\n",
            "\n",
            "The shape of the data: (32, 8000)\n",
            "The sampling frequency of the file: 400.0\n",
            "***********************************\n",
            "Path exists:  True\n",
            "The length of the path is:  96\n",
            "0.0000\t272.0000\t0.301196\n",
            "\n",
            "The shape of the data: (32, 108800)\n",
            "The sampling frequency of the file: 400.0\n",
            "***********************************\n",
            "Path exists:  True\n",
            "The length of the path is:  96\n",
            "0.0000\t234.0000\tbckg\t0.594640\n",
            "\n",
            "The shape of the data: (32, 93600)\n",
            "The sampling frequency of the file: 400.0\n",
            "***********************************\n",
            "Path exists:  True\n",
            "The length of the path is:  96\n",
            "0.0000\t224.0000\tbckg\t0.386299\n",
            "\n",
            "The shape of the data: (32, 89600)\n",
            "The sampling frequency of the file: 400.0\n",
            "***********************************\n",
            "Path exists:  True\n",
            "The length of the path is:  96\n",
            "0.0000\t203.0000\tbckg\t0.229591\n",
            "\n",
            "The shape of the data: (32, 81200)\n",
            "The sampling frequency of the file: 400.0\n",
            "***********************************\n",
            "Path exists:  True\n",
            "The length of the path is:  96\n",
            "0.0000\t205.0000\tbckg\t0.361336\n",
            "\n",
            "The shape of the data: (32, 82000)\n",
            "The sampling frequency of the file: 400.0\n",
            "***********************************\n",
            "Path exists:  True\n",
            "The length of the path is:  96\n",
            "0.0000\t175.0000\tbckg\t0.354056\n",
            "\n",
            "The shape of the data: (32, 70000)\n",
            "The sampling frequency of the file: 400.0\n",
            "***********************************\n",
            "Path exists:  True\n",
            "The length of the path is:  96\n",
            "0.0000\t309.0000\tbckg\t0.977262\n",
            "\n",
            "The shape of the data: (32, 123600)\n",
            "The sampling frequency of the file: 400.0\n",
            "***********************************\n",
            "Path exists:  True\n",
            "The length of the path is:  96\n",
            "0.0000\t464.0000\tbckg\t0.577812\n",
            "\n",
            "The shape of the data: (32, 185600)\n",
            "The sampling frequency of the file: 400.0\n",
            "***********************************\n",
            "Path exists:  True\n",
            "The length of the path is:  96\n",
            "0.0000\t443.0000\tbckg\t0.672540\n",
            "\n",
            "The shape of the data: (32, 177200)\n",
            "The sampling frequency of the file: 400.0\n",
            "***********************************\n",
            "Path exists:  True\n",
            "The length of the path is:  96\n",
            "0.0000\t334.0000\tbckg\t0.583919\n",
            "\n",
            "The shape of the data: (32, 133600)\n",
            "The sampling frequency of the file: 400.0\n",
            "***********************************\n",
            "Path exists:  True\n",
            "The length of the path is:  96\n",
            "0.0000\t353.0000\tbckg\t0.522797\n",
            "\n",
            "The shape of the data: (32, 141200)\n",
            "The sampling frequency of the file: 400.0\n",
            "***********************************\n",
            "Path exists:  True\n",
            "The length of the path is:  96\n",
            "0.0000\t212.0000\tbckg\t0.555778\n",
            "\n",
            "The shape of the data: (32, 84800)\n",
            "The sampling frequency of the file: 400.0\n",
            "***********************************\n",
            "Path exists:  True\n",
            "The length of the path is:  96\n",
            "0.0000\t351.0000\tbckg\t0.958367\n",
            "\n",
            "The shape of the data: (32, 140400)\n",
            "The sampling frequency of the file: 400.0\n",
            "***********************************\n",
            "Path exists:  True\n",
            "The length of the path is:  96\n",
            "0.0000\t1930.0000\tbckg\t0.789016\n",
            "\n",
            "The shape of the data: (27, 494080)\n",
            "The sampling frequency of the file: 256.0\n",
            "***********************************\n",
            "Path exists:  True\n",
            "The length of the path is:  96\n",
            "0.0000\t1930.0000\tbckg\t0.789016\n",
            "\n",
            "The shape of the data: (27, 494080)\n",
            "The sampling frequency of the file: 256.0\n",
            "***********************************\n",
            "Path exists:  True\n",
            "The length of the path is:  96\n",
            "0.0000\t1930.0000\tbckg\t0.789016\n",
            "\n",
            "The shape of the data: (27, 494080)\n",
            "The sampling frequency of the file: 256.0\n",
            "***********************************\n",
            "Path exists:  True\n",
            "The length of the path is:  96\n",
            "0.0000\t1930.0000\tbckg\t0.789016\n",
            "\n",
            "The shape of the data: (27, 494080)\n",
            "The sampling frequency of the file: 256.0\n",
            "***********************************\n",
            "Path exists:  True\n",
            "The length of the path is:  96\n",
            "0.0000\t1930.0000\tbckg\t0.789016\n",
            "\n",
            "The shape of the data: (27, 494080)\n",
            "The sampling frequency of the file: 256.0\n",
            "***********************************\n",
            "Path exists:  True\n",
            "The length of the path is:  96\n",
            "0.0000\t1930.0000\tbckg\t0.789016\n",
            "\n",
            "The shape of the data: (27, 494080)\n",
            "The sampling frequency of the file: 256.0\n",
            "***********************************\n",
            "Path exists:  True\n",
            "The length of the path is:  96\n",
            "0.0000\t1930.0000\tbckg\t0.789016\n",
            "\n",
            "The shape of the data: (27, 494080)\n",
            "The sampling frequency of the file: 256.0\n",
            "***********************************\n",
            "Path exists:  True\n",
            "The length of the path is:  96\n",
            "0.0000\t1930.0000\tbckg\t0.789016\n",
            "\n",
            "The shape of the data: (27, 494080)\n",
            "The sampling frequency of the file: 256.0\n",
            "***********************************\n",
            "Path exists:  True\n",
            "The length of the path is:  96\n",
            "0.0000\t1930.0000\tbckg\t0.789016\n",
            "\n",
            "The shape of the data: (27, 494080)\n",
            "The sampling frequency of the file: 256.0\n",
            "***********************************\n",
            "Path exists:  True\n",
            "The length of the path is:  96\n",
            "0.0000\t1930.0000\tbckg\t0.789016\n",
            "\n",
            "The shape of the data: (27, 494080)\n",
            "The sampling frequency of the file: 256.0\n",
            "***********************************\n",
            "Path exists:  True\n",
            "The length of the path is:  96\n",
            "0.0000\t1930.0000\tbckg\t0.789016\n",
            "\n",
            "The shape of the data: (27, 494080)\n",
            "The sampling frequency of the file: 256.0\n",
            "***********************************\n",
            "Path exists:  True\n",
            "The length of the path is:  96\n",
            "0.0000\t1930.0000\tbckg\t0.789016\n",
            "\n",
            "The shape of the data: (27, 494080)\n",
            "The sampling frequency of the file: 256.0\n",
            "***********************************\n",
            "Path exists:  True\n",
            "The length of the path is:  96\n",
            "0.0000\t1930.0000\tbckg\t0.789016\n",
            "\n",
            "The shape of the data: (27, 494080)\n",
            "The sampling frequency of the file: 256.0\n",
            "***********************************\n",
            "Path exists:  True\n",
            "The length of the path is:  96\n",
            "0.0000\t1930.0000\tbckg\t0.789016\n",
            "\n",
            "The shape of the data: (27, 494080)\n",
            "The sampling frequency of the file: 256.0\n",
            "***********************************\n",
            "Path exists:  True\n",
            "The length of the path is:  96\n",
            "0.0000\t1930.0000\tbckg\t0.789016\n",
            "\n",
            "The shape of the data: (27, 494080)\n",
            "The sampling frequency of the file: 256.0\n",
            "***********************************\n",
            "Path exists:  True\n",
            "The length of the path is:  96\n",
            "0.0000\t1930.0000\tbckg\t0.789016\n",
            "\n",
            "The shape of the data: (27, 494080)\n",
            "The sampling frequency of the file: 256.0\n",
            "***********************************\n",
            "Path exists:  True\n",
            "The length of the path is:  96\n",
            "0.0000\t1930.0000\tbckg\t0.789016\n",
            "\n",
            "The shape of the data: (27, 494080)\n",
            "The sampling frequency of the file: 256.0\n",
            "***********************************\n",
            "Path exists:  True\n",
            "The length of the path is:  96\n",
            "0.0000\t1930.0000\tbckg\t0.789016\n",
            "\n",
            "The shape of the data: (27, 494080)\n",
            "The sampling frequency of the file: 256.0\n",
            "***********************************\n",
            "Path exists:  True\n",
            "The length of the path is:  96\n",
            "0.0000\t1930.0000\tbckg\t0.789016\n",
            "\n",
            "The shape of the data: (27, 494080)\n",
            "The sampling frequency of the file: 256.0\n",
            "***********************************\n",
            "Path exists:  True\n",
            "The length of the path is:  96\n",
            "0.0000\t1930.0000\tbckg\t0.789016\n",
            "\n",
            "The shape of the data: (27, 494080)\n",
            "The sampling frequency of the file: 256.0\n",
            "***********************************\n",
            "Path exists:  True\n",
            "The length of the path is:  96\n",
            "0.0000\t1930.0000\tbckg\t0.789016\n",
            "\n",
            "The shape of the data: (27, 494080)\n",
            "The sampling frequency of the file: 256.0\n",
            "***********************************\n",
            "Path exists:  True\n",
            "The length of the path is:  96\n",
            "0.0000\t1930.0000\tbckg\t0.789016\n",
            "\n",
            "The shape of the data: (27, 494080)\n",
            "The sampling frequency of the file: 256.0\n",
            "***********************************\n",
            "Path exists:  True\n",
            "The length of the path is:  96\n",
            "0.0000\t1930.0000\tbckg\t0.789016\n",
            "\n",
            "The shape of the data: (27, 494080)\n",
            "The sampling frequency of the file: 256.0\n",
            "***********************************\n",
            "Path exists:  True\n",
            "The length of the path is:  96\n",
            "0.0000\t1930.0000\tbckg\t0.789016\n",
            "\n",
            "The shape of the data: (27, 494080)\n",
            "The sampling frequency of the file: 256.0\n",
            "***********************************\n",
            "Path exists:  True\n",
            "The length of the path is:  96\n",
            "0.0000\t1930.0000\tbckg\t0.789016\n",
            "\n",
            "The shape of the data: (27, 494080)\n",
            "The sampling frequency of the file: 256.0\n",
            "***********************************\n",
            "Path exists:  True\n",
            "The length of the path is:  96\n",
            "0.0000\t1930.0000\tbckg\t0.789016\n",
            "\n",
            "The shape of the data: (27, 494080)\n",
            "The sampling frequency of the file: 256.0\n",
            "***********************************\n",
            "Path exists:  True\n",
            "The length of the path is:  96\n",
            "0.0000\t1930.0000\tbckg\t0.789016\n",
            "\n",
            "The shape of the data: (27, 494080)\n",
            "The sampling frequency of the file: 256.0\n",
            "***********************************\n",
            "Path exists:  True\n",
            "The length of the path is:  96\n",
            "0.0000\t1930.0000\tbckg\t0.789016\n",
            "\n",
            "The shape of the data: (27, 494080)\n",
            "The sampling frequency of the file: 256.0\n",
            "***********************************\n",
            "Path exists:  True\n",
            "The length of the path is:  96\n",
            "0.0000\t1930.0000\tbckg\t0.789016\n",
            "\n",
            "The shape of the data: (27, 494080)\n",
            "The sampling frequency of the file: 256.0\n",
            "***********************************\n",
            "Path exists:  True\n",
            "The length of the path is:  96\n",
            "0.0000\t1930.0000\tbckg\t0.789016\n",
            "\n",
            "The shape of the data: (27, 494080)\n",
            "The sampling frequency of the file: 256.0\n",
            "***********************************\n",
            "Path exists:  True\n",
            "The length of the path is:  96\n",
            "0.0000\t1930.0000\tbckg\t0.789016\n",
            "\n",
            "The shape of the data: (27, 494080)\n",
            "The sampling frequency of the file: 256.0\n",
            "***********************************\n",
            "Path exists:  True\n",
            "The length of the path is:  96\n",
            "0.0000\t1930.0000\tbckg\t0.789016\n",
            "\n",
            "The shape of the data: (27, 494080)\n",
            "The sampling frequency of the file: 256.0\n",
            "***********************************\n",
            "Path exists:  True\n",
            "The length of the path is:  96\n",
            "0.0000\t1930.0000\tbckg\t0.789016\n",
            "\n",
            "The shape of the data: (27, 494080)\n",
            "The sampling frequency of the file: 256.0\n",
            "***********************************\n",
            "Path exists:  True\n",
            "The length of the path is:  96\n",
            "0.0000\t1930.0000\tbckg\t0.789016\n",
            "\n",
            "The shape of the data: (27, 494080)\n",
            "The sampling frequency of the file: 256.0\n",
            "***********************************\n",
            "Path exists:  True\n",
            "The length of the path is:  96\n",
            "0.0000\t1930.0000\tbckg\t0.789016\n",
            "\n",
            "The shape of the data: (27, 494080)\n",
            "The sampling frequency of the file: 256.0\n",
            "***********************************\n",
            "Path exists:  True\n",
            "The length of the path is:  96\n",
            "0.0000\t1930.0000\tbckg\t0.789016\n",
            "\n",
            "The shape of the data: (27, 494080)\n",
            "The sampling frequency of the file: 256.0\n",
            "***********************************\n",
            "Path exists:  True\n",
            "The length of the path is:  96\n",
            "0.0000\t1930.0000\tbckg\t0.789016\n",
            "\n",
            "The shape of the data: (27, 494080)\n",
            "The sampling frequency of the file: 256.0\n",
            "***********************************\n",
            "Path exists:  True\n",
            "The length of the path is:  96\n",
            "0.0000\t1930.0000\tbckg\t0.789016\n",
            "\n",
            "The shape of the data: (27, 494080)\n",
            "The sampling frequency of the file: 256.0\n",
            "***********************************\n",
            "Path exists:  True\n",
            "The length of the path is:  96\n",
            "0.0000\t1930.0000\tbckg\t0.789016\n",
            "\n",
            "The shape of the data: (27, 494080)\n",
            "The sampling frequency of the file: 256.0\n",
            "***********************************\n",
            "Path exists:  True\n",
            "The length of the path is:  96\n",
            "0.0000\t1374.0000\tbckg\t0.464223\n",
            "\n",
            "The shape of the data: (30, 343500)\n",
            "The sampling frequency of the file: 250.0\n",
            "***********************************\n",
            "Path exists:  True\n",
            "The length of the path is:  96\n",
            "0.0000\t211.0000\tbckg\t0.214366\n",
            "\n",
            "The shape of the data: (27, 54016)\n",
            "The sampling frequency of the file: 256.0\n",
            "***********************************\n",
            "Path exists:  True\n",
            "The length of the path is:  96\n",
            "0.0000\t1187.0000\tbckg\t0.462700\n",
            "\n",
            "The shape of the data: (27, 303872)\n",
            "The sampling frequency of the file: 256.0\n",
            "***********************************\n",
            "Path exists:  True\n",
            "The length of the path is:  96\n",
            "0.0000\t1336.0000\tbckg\t0.384887\n",
            "\n",
            "The shape of the data: (33, 342016)\n",
            "The sampling frequency of the file: 256.0\n",
            "***********************************\n",
            "Path exists:  True\n",
            "The length of the path is:  96\n",
            "0.0000\t87.0000\tbckg\t0.280695\n",
            "\n",
            "The shape of the data: (33, 22272)\n",
            "The sampling frequency of the file: 256.0\n",
            "***********************************\n",
            "Path exists:  True\n",
            "The length of the path is:  96\n",
            "0.0000\t213.0000\tbckg\t0.253265\n",
            "\n",
            "The shape of the data: (33, 54528)\n",
            "The sampling frequency of the file: 256.0\n",
            "***********************************\n",
            "Path exists:  True\n",
            "The length of the path is:  96\n",
            "0.0000\t601.0000\tbckg\t0.616751\n",
            "\n",
            "The shape of the data: (33, 153856)\n",
            "The sampling frequency of the file: 256.0\n",
            "***********************************\n",
            "Path exists:  True\n",
            "The length of the path is:  96\n",
            "0.0000\t601.0000\tbckg\t0.341435\n",
            "\n",
            "The shape of the data: (33, 153856)\n",
            "The sampling frequency of the file: 256.0\n",
            "***********************************\n",
            "Path exists:  True\n",
            "The length of the path is:  96\n",
            "0.0000\t300.0000\tbckg\t0.267280\n",
            "\n",
            "The shape of the data: (33, 76800)\n",
            "The sampling frequency of the file: 256.0\n",
            "***********************************\n",
            "Path exists:  True\n",
            "The length of the path is:  96\n",
            "0.0000\t601.0000\tbckg\t0.764156\n",
            "\n",
            "The shape of the data: (33, 153856)\n",
            "The sampling frequency of the file: 256.0\n",
            "***********************************\n",
            "Path exists:  True\n",
            "The length of the path is:  96\n",
            "0.0000\t300.0000\tbckg\t0.322931\n",
            "\n",
            "The shape of the data: (33, 76800)\n",
            "The sampling frequency of the file: 256.0\n",
            "***********************************\n",
            "Path exists:  True\n",
            "The length of the path is:  96\n",
            "0.0000\t601.0000\tbckg\t0.484152\n",
            "\n",
            "The shape of the data: (33, 153856)\n",
            "The sampling frequency of the file: 256.0\n",
            "***********************************\n",
            "Path exists:  True\n",
            "The length of the path is:  96\n",
            "0.0000\t300.0000\tbckg\t0.155225\n",
            "\n",
            "The shape of the data: (33, 76800)\n",
            "The sampling frequency of the file: 256.0\n",
            "***********************************\n",
            "Path exists:  True\n",
            "The length of the path is:  96\n",
            "0.0000\t601.0000\tbckg\t0.284592\n",
            "\n",
            "The shape of the data: (33, 153856)\n",
            "The sampling frequency of the file: 256.0\n",
            "***********************************\n",
            "Path exists:  True\n",
            "The length of the path is:  96\n",
            "0.0000\t138.0000\tbckg\t0.974662\n",
            "\n",
            "The shape of the data: (33, 35328)\n",
            "The sampling frequency of the file: 256.0\n",
            "***********************************\n"
          ],
          "name": "stdout"
        }
      ]
    },
    {
      "cell_type": "code",
      "metadata": {
        "colab": {
          "base_uri": "https://localhost:8080/"
        },
        "id": "jLt1XmRWhq2p",
        "outputId": "1b23b891-c1ff-43b4-9a08-38ae09747ca0"
      },
      "source": [
        "#CHECK\n",
        "print(fs)"
      ],
      "execution_count": null,
      "outputs": [
        {
          "output_type": "stream",
          "text": [
            "[400.0, 400.0, 400.0, 400.0, 400.0, 400.0, 400.0, 400.0, 400.0, 400.0, 400.0, 400.0, 400.0, 400.0, 256.0, 256.0, 256.0, 256.0, 256.0, 256.0, 256.0, 256.0, 256.0, 256.0, 256.0, 256.0, 256.0, 256.0, 256.0, 256.0, 256.0, 256.0, 256.0, 256.0, 256.0, 256.0, 256.0, 256.0, 256.0, 256.0, 256.0, 256.0, 256.0, 256.0, 256.0, 256.0, 256.0, 256.0, 256.0, 256.0, 256.0, 256.0, 256.0, 250.0, 256.0, 256.0, 256.0, 256.0, 256.0, 256.0, 256.0, 256.0, 256.0, 256.0, 256.0, 256.0, 256.0, 256.0]\n"
          ],
          "name": "stdout"
        }
      ]
    },
    {
      "cell_type": "code",
      "metadata": {
        "id": "W1qxAlXlxHfa"
      },
      "source": [
        "#NOT TO BE EXECUTED IF ALREADY THE TSE FILES ARE MODIFIED#\n",
        "'''\n",
        "TSE file modification\n",
        "Some TUH-eeg annotation files(.tse files) are in a different format from the majority of the files\n",
        "The Sampling Freqency Part calculates the FS(sampling frequency) from the TSE files, hence before that we need to bring all to a common format\n",
        "This portion of the code is meant for modification, only to be executed if files are not modified already. Please note that modifications can\n",
        "also be made manually \n",
        "\n",
        "'''\n",
        "for i in fs:\n",
        "  if i!=float(256) or i!=float(400) or i!=float(250):\n",
        "    ii=fs.index(i)\n",
        "    fp=tse_file_path[ii]\n",
        "    f1 = open(fp,'r+')\n",
        "    string_list=f1.readlines() #when using f.read() before f.readlines() the string_list generated due to readlines is shown blank\n",
        "    \n",
        "    annot1=string_list[6]\n",
        "    annot2=string_list[8] \n",
        "    f1.close()\n",
        "\n",
        "    con_annot1=convert(annot1)\n",
        "    con_annot2=convert(annot2)\n",
        "    st_time=float(con_annot1[0])\n",
        "    en_time=float(con_annot2[1])\n",
        "    duration=en_time-st_time\n",
        "\n",
        "    raw = mne.io.read_raw_edf(fpath[ii], verbose=False)\n",
        "    channel_data=raw.get_data()\n",
        "    \n",
        "    sampling_freq=channel_data.shape[1]/duration\n",
        "    fs[ii]=sampling_freq "
      ],
      "execution_count": null,
      "outputs": []
    },
    {
      "cell_type": "code",
      "metadata": {
        "id": "z3ymvIFU1SrI"
      },
      "source": [
        "#CHECK\n",
        "print(np.sum(np.array(train_labels)))"
      ],
      "execution_count": null,
      "outputs": []
    },
    {
      "cell_type": "code",
      "metadata": {
        "id": "VlTaHIx3rbbz"
      },
      "source": [
        "#CHECK\n",
        "print(np.transpose(np.array(fpath[1:])))\n",
        "print(np.transpose(labels))\n",
        "print(cl_st)\n",
        "print(cl_en)\n",
        "\n",
        "#print(labels[1:])"
      ],
      "execution_count": null,
      "outputs": []
    },
    {
      "cell_type": "markdown",
      "metadata": {
        "id": "Qdw1lSiyhW3b"
      },
      "source": [
        "Next there are some algorithms mentioned, PCC, PLV, TE. By default PLV and TE are chosen and accordingly subsequent outputs will be fed to the MULTI CNN. Run only those which are required."
      ]
    },
    {
      "cell_type": "code",
      "metadata": {
        "colab": {
          "base_uri": "https://localhost:8080/"
        },
        "id": "vRxwJC03CedX",
        "outputId": "e3e9aea2-0d7c-41d2-b891-047825bf552b"
      },
      "source": [
        "### FOR BANDPASS Filter##\n",
        "'Enter the upper and lower frequncy of corresponding band '\n",
        "l_frequency=int(input('Enter the lower cutoff frequency: '))\n",
        "h_frequency=int(input('Enter the higher cutoff frequency: '))"
      ],
      "execution_count": 6,
      "outputs": [
        {
          "output_type": "stream",
          "text": [
            "Enter the lower cutoff frequency: 1\n",
            "Enter the higher cutoff frequency: 100\n"
          ],
          "name": "stdout"
        }
      ]
    },
    {
      "cell_type": "code",
      "metadata": {
        "colab": {
          "base_uri": "https://localhost:8080/"
        },
        "id": "82GfQCNinqDe",
        "outputId": "e06789de-0ac7-400b-fd97-b9d89ded4d84"
      },
      "source": [
        "## PLV ##\n",
        "import numpy as np\n",
        "import scipy.signal as sig\n",
        "\n",
        "def hilphase(y1,y2):\n",
        "    sig1_hill=sig.hilbert(y1)\n",
        "    sig2_hill=sig.hilbert(y2)\n",
        "    pdt=(np.inner(sig1_hill,np.conj(sig2_hill))/(np.sqrt(np.inner(sig1_hill,\n",
        "               np.conj(sig1_hill))*np.inner(sig2_hill,np.conj(sig2_hill)))))\n",
        "    phase = np.angle(pdt)\n",
        "\n",
        "    return phase\n",
        "\n",
        "train_data_plv=[]\n",
        "ii=0\n",
        "for f in fpath:\n",
        "  print(f, ii+1)\n",
        "  raw = mne.io.read_raw_edf(f, verbose=False)\n",
        "  ##\n",
        "  raw.load_data()\n",
        "  \n",
        "  raw=raw.filter(l_freq=l_frequency, h_freq=h_frequency)\n",
        "  ##\n",
        "  channel_data=raw.get_data()\n",
        "  #print(np.all(np.isnan(channel_data)))\n",
        "  #print(np.all(np.isinf(channel_data)))\n",
        "  channel_data=channel_data[:, int(cl_st[ii]*fs[ii]):int(cl_en[ii]*fs[ii])]\n",
        "  print('Starting and Ending point respectively: ',int(cl_st[ii]*fs[ii]),int(cl_en[ii]*fs[ii]))\n",
        "  sh=channel_data.shape[0]\n",
        "  ii=ii+1\n",
        "  \n",
        "  s=(sh, sh)\n",
        "  plv2=np.zeros(s)\n",
        "  ch_ls=[]\n",
        "  for i in range(0, sh):\n",
        "    for j in range(0,sh):\n",
        "      plv2[i][j]=hilphase(channel_data[i], channel_data[j])\n",
        "      if (np.any(np.isnan(plv2[i][j])))==True:\n",
        "        plv2[i][j]=0\n",
        "      if (np.any(np.isinf(plv2[i][j])))==True:\n",
        "        plv2[i][j]=1 \n",
        "\n",
        "  #np.append(train_data,pcc2, axis=0)\n",
        "  plv2=cv2.resize(plv2, (32,32))\n",
        "  \n",
        "  plv2=preprocessing.normalize(plv2)#additional normalization layer checks whether any data is NaN\n",
        "  train_data_plv.append(plv2)"
      ],
      "execution_count": 7,
      "outputs": [
        {
          "output_type": "stream",
          "text": [
            "/content/drive/MyDrive/TUH data/01_tcp_ar/002/00000258/s002_2003_07_21/00000258_s002_t000.edf 1\n",
            "Starting and Ending point respectively:  4000 20000\n",
            "/content/drive/MyDrive/TUH data/01_tcp_ar/002/00000258/s002_2003_07_21/00000258_s002_t002.edf 2\n",
            "Starting and Ending point respectively:  4000 20000\n",
            "/content/drive/MyDrive/TUH data/01_tcp_ar/002/00000258/s003_2003_07_22/00000258_s003_t000.edf 3\n",
            "Starting and Ending point respectively:  4000 20000\n",
            "/content/drive/MyDrive/TUH data/01_tcp_ar/002/00000258/s003_2003_07_22/00000258_s003_t001.edf 4\n",
            "Starting and Ending point respectively:  4000 20000\n",
            "/content/drive/MyDrive/TUH data/01_tcp_ar/002/00000258/s003_2003_07_22/00000258_s003_t002.edf 5\n",
            "Starting and Ending point respectively:  0 69351\n",
            "/content/drive/MyDrive/TUH data/01_tcp_ar/002/00000258/s003_2003_07_22/00000258_s003_t003.edf 6\n",
            "Starting and Ending point respectively:  0 70202\n",
            "/content/drive/MyDrive/TUH data/01_tcp_ar/002/00000258/s003_2003_07_22/00000258_s003_t004.edf 7\n",
            "Starting and Ending point respectively:  0 60206\n",
            "/content/drive/MyDrive/TUH data/01_tcp_ar/002/00000258/s003_2003_07_22/00000258_s003_t005.edf 8\n",
            "Starting and Ending point respectively:  75164 123200\n",
            "/content/drive/MyDrive/TUH data/01_tcp_ar/010/00001027/s003_2004_01_29/00001027_s003_t000.edf 9\n",
            "Starting and Ending point respectively:  4000 20000\n",
            "/content/drive/MyDrive/TUH data/01_tcp_ar/010/00001027/s003_2004_01_29/00001027_s003_t001.edf 10\n",
            "Starting and Ending point respectively:  4000 20000\n",
            "/content/drive/MyDrive/TUH data/01_tcp_ar/010/00001027/s004_2004_01_30/00001027_s004_t000.edf 11\n",
            "Starting and Ending point respectively:  5622 64924\n",
            "/content/drive/MyDrive/TUH data/01_tcp_ar/010/00001027/s004_2004_01_30/00001027_s004_t001.edf 12\n",
            "Starting and Ending point respectively:  26935 89203\n",
            "/content/drive/MyDrive/TUH data/01_tcp_ar/010/00001027/s004_2004_01_30/00001027_s004_t002.edf 13\n",
            "Starting and Ending point respectively:  0 61804\n",
            "/content/drive/MyDrive/TUH data/01_tcp_ar/010/00001027/s004_2004_01_30/00001027_s004_t003.edf 14\n",
            "Starting and Ending point respectively:  4000 20000\n",
            "/content/drive/MyDrive/TUH data/01_tcp_ar/046/00004671/s007_2012_08_04/00004671_s007_t000.edf 15\n",
            "Starting and Ending point respectively:  6725 13330\n"
          ],
          "name": "stdout"
        },
        {
          "output_type": "stream",
          "text": [
            "/usr/local/lib/python3.7/dist-packages/ipykernel_launcher.py:9: RuntimeWarning: invalid value encountered in cdouble_scalars\n",
            "  if __name__ == '__main__':\n"
          ],
          "name": "stderr"
        },
        {
          "output_type": "stream",
          "text": [
            "/content/drive/MyDrive/TUH data/01_tcp_ar/046/00004671/s007_2012_08_04/00004671_s007_t000.edf 16\n",
            "Starting and Ending point respectively:  25379 32214\n"
          ],
          "name": "stdout"
        },
        {
          "output_type": "stream",
          "text": [
            "/usr/local/lib/python3.7/dist-packages/ipykernel_launcher.py:9: RuntimeWarning: invalid value encountered in cdouble_scalars\n",
            "  if __name__ == '__main__':\n"
          ],
          "name": "stderr"
        },
        {
          "output_type": "stream",
          "text": [
            "/content/drive/MyDrive/TUH data/01_tcp_ar/046/00004671/s007_2012_08_04/00004671_s007_t000.edf 17\n",
            "Starting and Ending point respectively:  37585 44268\n"
          ],
          "name": "stdout"
        },
        {
          "output_type": "stream",
          "text": [
            "/usr/local/lib/python3.7/dist-packages/ipykernel_launcher.py:9: RuntimeWarning: invalid value encountered in cdouble_scalars\n",
            "  if __name__ == '__main__':\n"
          ],
          "name": "stderr"
        },
        {
          "output_type": "stream",
          "text": [
            "/content/drive/MyDrive/TUH data/01_tcp_ar/046/00004671/s007_2012_08_04/00004671_s007_t000.edf 18\n",
            "Starting and Ending point respectively:  45910 53386\n"
          ],
          "name": "stdout"
        },
        {
          "output_type": "stream",
          "text": [
            "/usr/local/lib/python3.7/dist-packages/ipykernel_launcher.py:9: RuntimeWarning: invalid value encountered in cdouble_scalars\n",
            "  if __name__ == '__main__':\n"
          ],
          "name": "stderr"
        },
        {
          "output_type": "stream",
          "text": [
            "/content/drive/MyDrive/TUH data/01_tcp_ar/046/00004671/s007_2012_08_04/00004671_s007_t000.edf 19\n",
            "Starting and Ending point respectively:  58638 65626\n"
          ],
          "name": "stdout"
        },
        {
          "output_type": "stream",
          "text": [
            "/usr/local/lib/python3.7/dist-packages/ipykernel_launcher.py:9: RuntimeWarning: invalid value encountered in cdouble_scalars\n",
            "  if __name__ == '__main__':\n"
          ],
          "name": "stderr"
        },
        {
          "output_type": "stream",
          "text": [
            "/content/drive/MyDrive/TUH data/01_tcp_ar/046/00004671/s007_2012_08_04/00004671_s007_t000.edf 20\n",
            "Starting and Ending point respectively:  71104 77606\n"
          ],
          "name": "stdout"
        },
        {
          "output_type": "stream",
          "text": [
            "/usr/local/lib/python3.7/dist-packages/ipykernel_launcher.py:9: RuntimeWarning: invalid value encountered in cdouble_scalars\n",
            "  if __name__ == '__main__':\n"
          ],
          "name": "stderr"
        },
        {
          "output_type": "stream",
          "text": [
            "/content/drive/MyDrive/TUH data/01_tcp_ar/046/00004671/s007_2012_08_04/00004671_s007_t000.edf 21\n",
            "Starting and Ending point respectively:  83160 89969\n"
          ],
          "name": "stdout"
        },
        {
          "output_type": "stream",
          "text": [
            "/usr/local/lib/python3.7/dist-packages/ipykernel_launcher.py:9: RuntimeWarning: invalid value encountered in cdouble_scalars\n",
            "  if __name__ == '__main__':\n"
          ],
          "name": "stderr"
        },
        {
          "output_type": "stream",
          "text": [
            "/content/drive/MyDrive/TUH data/01_tcp_ar/046/00004671/s007_2012_08_04/00004671_s007_t000.edf 22\n",
            "Starting and Ending point respectively:  101740 108831\n"
          ],
          "name": "stdout"
        },
        {
          "output_type": "stream",
          "text": [
            "/usr/local/lib/python3.7/dist-packages/ipykernel_launcher.py:9: RuntimeWarning: invalid value encountered in cdouble_scalars\n",
            "  if __name__ == '__main__':\n"
          ],
          "name": "stderr"
        },
        {
          "output_type": "stream",
          "text": [
            "/content/drive/MyDrive/TUH data/01_tcp_ar/046/00004671/s007_2012_08_04/00004671_s007_t000.edf 23\n",
            "Starting and Ending point respectively:  115212 122149\n"
          ],
          "name": "stdout"
        },
        {
          "output_type": "stream",
          "text": [
            "/usr/local/lib/python3.7/dist-packages/ipykernel_launcher.py:9: RuntimeWarning: invalid value encountered in cdouble_scalars\n",
            "  if __name__ == '__main__':\n"
          ],
          "name": "stderr"
        },
        {
          "output_type": "stream",
          "text": [
            "/content/drive/MyDrive/TUH data/01_tcp_ar/046/00004671/s007_2012_08_04/00004671_s007_t000.edf 24\n",
            "Starting and Ending point respectively:  128143 135055\n"
          ],
          "name": "stdout"
        },
        {
          "output_type": "stream",
          "text": [
            "/usr/local/lib/python3.7/dist-packages/ipykernel_launcher.py:9: RuntimeWarning: invalid value encountered in cdouble_scalars\n",
            "  if __name__ == '__main__':\n"
          ],
          "name": "stderr"
        },
        {
          "output_type": "stream",
          "text": [
            "/content/drive/MyDrive/TUH data/01_tcp_ar/046/00004671/s007_2012_08_04/00004671_s007_t000.edf 25\n",
            "Starting and Ending point respectively:  148261 155045\n"
          ],
          "name": "stdout"
        },
        {
          "output_type": "stream",
          "text": [
            "/usr/local/lib/python3.7/dist-packages/ipykernel_launcher.py:9: RuntimeWarning: invalid value encountered in cdouble_scalars\n",
            "  if __name__ == '__main__':\n"
          ],
          "name": "stderr"
        },
        {
          "output_type": "stream",
          "text": [
            "/content/drive/MyDrive/TUH data/01_tcp_ar/046/00004671/s007_2012_08_04/00004671_s007_t000.edf 26\n",
            "Starting and Ending point respectively:  159391 166276\n"
          ],
          "name": "stdout"
        },
        {
          "output_type": "stream",
          "text": [
            "/usr/local/lib/python3.7/dist-packages/ipykernel_launcher.py:9: RuntimeWarning: invalid value encountered in cdouble_scalars\n",
            "  if __name__ == '__main__':\n"
          ],
          "name": "stderr"
        },
        {
          "output_type": "stream",
          "text": [
            "/content/drive/MyDrive/TUH data/01_tcp_ar/046/00004671/s007_2012_08_04/00004671_s007_t000.edf 27\n",
            "Starting and Ending point respectively:  171039 178028\n"
          ],
          "name": "stdout"
        },
        {
          "output_type": "stream",
          "text": [
            "/usr/local/lib/python3.7/dist-packages/ipykernel_launcher.py:9: RuntimeWarning: invalid value encountered in cdouble_scalars\n",
            "  if __name__ == '__main__':\n"
          ],
          "name": "stderr"
        },
        {
          "output_type": "stream",
          "text": [
            "/content/drive/MyDrive/TUH data/01_tcp_ar/046/00004671/s007_2012_08_04/00004671_s007_t000.edf 28\n",
            "Starting and Ending point respectively:  181619 188558\n"
          ],
          "name": "stdout"
        },
        {
          "output_type": "stream",
          "text": [
            "/usr/local/lib/python3.7/dist-packages/ipykernel_launcher.py:9: RuntimeWarning: invalid value encountered in cdouble_scalars\n",
            "  if __name__ == '__main__':\n"
          ],
          "name": "stderr"
        },
        {
          "output_type": "stream",
          "text": [
            "/content/drive/MyDrive/TUH data/01_tcp_ar/046/00004671/s007_2012_08_04/00004671_s007_t000.edf 29\n",
            "Starting and Ending point respectively:  192287 199480\n"
          ],
          "name": "stdout"
        },
        {
          "output_type": "stream",
          "text": [
            "/usr/local/lib/python3.7/dist-packages/ipykernel_launcher.py:9: RuntimeWarning: invalid value encountered in cdouble_scalars\n",
            "  if __name__ == '__main__':\n"
          ],
          "name": "stderr"
        },
        {
          "output_type": "stream",
          "text": [
            "/content/drive/MyDrive/TUH data/01_tcp_ar/046/00004671/s007_2012_08_04/00004671_s007_t000.edf 30\n",
            "Starting and Ending point respectively:  206623 213407\n"
          ],
          "name": "stdout"
        },
        {
          "output_type": "stream",
          "text": [
            "/usr/local/lib/python3.7/dist-packages/ipykernel_launcher.py:9: RuntimeWarning: invalid value encountered in cdouble_scalars\n",
            "  if __name__ == '__main__':\n"
          ],
          "name": "stderr"
        },
        {
          "output_type": "stream",
          "text": [
            "/content/drive/MyDrive/TUH data/01_tcp_ar/046/00004671/s007_2012_08_04/00004671_s007_t000.edf 31\n",
            "Starting and Ending point respectively:  217184 224249\n"
          ],
          "name": "stdout"
        },
        {
          "output_type": "stream",
          "text": [
            "/usr/local/lib/python3.7/dist-packages/ipykernel_launcher.py:9: RuntimeWarning: invalid value encountered in cdouble_scalars\n",
            "  if __name__ == '__main__':\n"
          ],
          "name": "stderr"
        },
        {
          "output_type": "stream",
          "text": [
            "/content/drive/MyDrive/TUH data/01_tcp_ar/046/00004671/s007_2012_08_04/00004671_s007_t000.edf 32\n",
            "Starting and Ending point respectively:  228140 235026\n"
          ],
          "name": "stdout"
        },
        {
          "output_type": "stream",
          "text": [
            "/usr/local/lib/python3.7/dist-packages/ipykernel_launcher.py:9: RuntimeWarning: invalid value encountered in cdouble_scalars\n",
            "  if __name__ == '__main__':\n"
          ],
          "name": "stderr"
        },
        {
          "output_type": "stream",
          "text": [
            "/content/drive/MyDrive/TUH data/01_tcp_ar/046/00004671/s007_2012_08_04/00004671_s007_t000.edf 33\n",
            "Starting and Ending point respectively:  238862 245902\n"
          ],
          "name": "stdout"
        },
        {
          "output_type": "stream",
          "text": [
            "/usr/local/lib/python3.7/dist-packages/ipykernel_launcher.py:9: RuntimeWarning: invalid value encountered in cdouble_scalars\n",
            "  if __name__ == '__main__':\n"
          ],
          "name": "stderr"
        },
        {
          "output_type": "stream",
          "text": [
            "/content/drive/MyDrive/TUH data/01_tcp_ar/046/00004671/s007_2012_08_04/00004671_s007_t000.edf 34\n",
            "Starting and Ending point respectively:  251398 258106\n"
          ],
          "name": "stdout"
        },
        {
          "output_type": "stream",
          "text": [
            "/usr/local/lib/python3.7/dist-packages/ipykernel_launcher.py:9: RuntimeWarning: invalid value encountered in cdouble_scalars\n",
            "  if __name__ == '__main__':\n"
          ],
          "name": "stderr"
        },
        {
          "output_type": "stream",
          "text": [
            "/content/drive/MyDrive/TUH data/01_tcp_ar/046/00004671/s007_2012_08_04/00004671_s007_t000.edf 35\n",
            "Starting and Ending point respectively:  264537 271013\n"
          ],
          "name": "stdout"
        },
        {
          "output_type": "stream",
          "text": [
            "/usr/local/lib/python3.7/dist-packages/ipykernel_launcher.py:9: RuntimeWarning: invalid value encountered in cdouble_scalars\n",
            "  if __name__ == '__main__':\n"
          ],
          "name": "stderr"
        },
        {
          "output_type": "stream",
          "text": [
            "/content/drive/MyDrive/TUH data/01_tcp_ar/046/00004671/s007_2012_08_04/00004671_s007_t000.edf 36\n",
            "Starting and Ending point respectively:  275135 281585\n"
          ],
          "name": "stdout"
        },
        {
          "output_type": "stream",
          "text": [
            "/usr/local/lib/python3.7/dist-packages/ipykernel_launcher.py:9: RuntimeWarning: invalid value encountered in cdouble_scalars\n",
            "  if __name__ == '__main__':\n"
          ],
          "name": "stderr"
        },
        {
          "output_type": "stream",
          "text": [
            "/content/drive/MyDrive/TUH data/01_tcp_ar/046/00004671/s007_2012_08_04/00004671_s007_t000.edf 37\n",
            "Starting and Ending point respectively:  284656 291542\n"
          ],
          "name": "stdout"
        },
        {
          "output_type": "stream",
          "text": [
            "/usr/local/lib/python3.7/dist-packages/ipykernel_launcher.py:9: RuntimeWarning: invalid value encountered in cdouble_scalars\n",
            "  if __name__ == '__main__':\n"
          ],
          "name": "stderr"
        },
        {
          "output_type": "stream",
          "text": [
            "/content/drive/MyDrive/TUH data/01_tcp_ar/046/00004671/s007_2012_08_04/00004671_s007_t000.edf 38\n",
            "Starting and Ending point respectively:  296720 303632\n"
          ],
          "name": "stdout"
        },
        {
          "output_type": "stream",
          "text": [
            "/usr/local/lib/python3.7/dist-packages/ipykernel_launcher.py:9: RuntimeWarning: invalid value encountered in cdouble_scalars\n",
            "  if __name__ == '__main__':\n"
          ],
          "name": "stderr"
        },
        {
          "output_type": "stream",
          "text": [
            "/content/drive/MyDrive/TUH data/01_tcp_ar/046/00004671/s007_2012_08_04/00004671_s007_t000.edf 39\n",
            "Starting and Ending point respectively:  308825 315429\n"
          ],
          "name": "stdout"
        },
        {
          "output_type": "stream",
          "text": [
            "/usr/local/lib/python3.7/dist-packages/ipykernel_launcher.py:9: RuntimeWarning: invalid value encountered in cdouble_scalars\n",
            "  if __name__ == '__main__':\n"
          ],
          "name": "stderr"
        },
        {
          "output_type": "stream",
          "text": [
            "/content/drive/MyDrive/TUH data/01_tcp_ar/046/00004671/s007_2012_08_04/00004671_s007_t000.edf 40\n",
            "Starting and Ending point respectively:  324593 331020\n"
          ],
          "name": "stdout"
        },
        {
          "output_type": "stream",
          "text": [
            "/usr/local/lib/python3.7/dist-packages/ipykernel_launcher.py:9: RuntimeWarning: invalid value encountered in cdouble_scalars\n",
            "  if __name__ == '__main__':\n"
          ],
          "name": "stderr"
        },
        {
          "output_type": "stream",
          "text": [
            "/content/drive/MyDrive/TUH data/01_tcp_ar/046/00004671/s007_2012_08_04/00004671_s007_t000.edf 41\n",
            "Starting and Ending point respectively:  335792 342168\n"
          ],
          "name": "stdout"
        },
        {
          "output_type": "stream",
          "text": [
            "/usr/local/lib/python3.7/dist-packages/ipykernel_launcher.py:9: RuntimeWarning: invalid value encountered in cdouble_scalars\n",
            "  if __name__ == '__main__':\n"
          ],
          "name": "stderr"
        },
        {
          "output_type": "stream",
          "text": [
            "/content/drive/MyDrive/TUH data/01_tcp_ar/046/00004671/s007_2012_08_04/00004671_s007_t000.edf 42\n",
            "Starting and Ending point respectively:  346168 352799\n"
          ],
          "name": "stdout"
        },
        {
          "output_type": "stream",
          "text": [
            "/usr/local/lib/python3.7/dist-packages/ipykernel_launcher.py:9: RuntimeWarning: invalid value encountered in cdouble_scalars\n",
            "  if __name__ == '__main__':\n"
          ],
          "name": "stderr"
        },
        {
          "output_type": "stream",
          "text": [
            "/content/drive/MyDrive/TUH data/01_tcp_ar/046/00004671/s007_2012_08_04/00004671_s007_t000.edf 43\n",
            "Starting and Ending point respectively:  356856 363536\n"
          ],
          "name": "stdout"
        },
        {
          "output_type": "stream",
          "text": [
            "/usr/local/lib/python3.7/dist-packages/ipykernel_launcher.py:9: RuntimeWarning: invalid value encountered in cdouble_scalars\n",
            "  if __name__ == '__main__':\n"
          ],
          "name": "stderr"
        },
        {
          "output_type": "stream",
          "text": [
            "/content/drive/MyDrive/TUH data/01_tcp_ar/046/00004671/s007_2012_08_04/00004671_s007_t000.edf 44\n",
            "Starting and Ending point respectively:  376785 383236\n"
          ],
          "name": "stdout"
        },
        {
          "output_type": "stream",
          "text": [
            "/usr/local/lib/python3.7/dist-packages/ipykernel_launcher.py:9: RuntimeWarning: invalid value encountered in cdouble_scalars\n",
            "  if __name__ == '__main__':\n"
          ],
          "name": "stderr"
        },
        {
          "output_type": "stream",
          "text": [
            "/content/drive/MyDrive/TUH data/01_tcp_ar/046/00004671/s007_2012_08_04/00004671_s007_t000.edf 45\n",
            "Starting and Ending point respectively:  391967 398340\n"
          ],
          "name": "stdout"
        },
        {
          "output_type": "stream",
          "text": [
            "/usr/local/lib/python3.7/dist-packages/ipykernel_launcher.py:9: RuntimeWarning: invalid value encountered in cdouble_scalars\n",
            "  if __name__ == '__main__':\n"
          ],
          "name": "stderr"
        },
        {
          "output_type": "stream",
          "text": [
            "/content/drive/MyDrive/TUH data/01_tcp_ar/046/00004671/s007_2012_08_04/00004671_s007_t000.edf 46\n",
            "Starting and Ending point respectively:  401611 408292\n"
          ],
          "name": "stdout"
        },
        {
          "output_type": "stream",
          "text": [
            "/usr/local/lib/python3.7/dist-packages/ipykernel_launcher.py:9: RuntimeWarning: invalid value encountered in cdouble_scalars\n",
            "  if __name__ == '__main__':\n"
          ],
          "name": "stderr"
        },
        {
          "output_type": "stream",
          "text": [
            "/content/drive/MyDrive/TUH data/01_tcp_ar/046/00004671/s007_2012_08_04/00004671_s007_t000.edf 47\n",
            "Starting and Ending point respectively:  416516 422968\n"
          ],
          "name": "stdout"
        },
        {
          "output_type": "stream",
          "text": [
            "/usr/local/lib/python3.7/dist-packages/ipykernel_launcher.py:9: RuntimeWarning: invalid value encountered in cdouble_scalars\n",
            "  if __name__ == '__main__':\n"
          ],
          "name": "stderr"
        },
        {
          "output_type": "stream",
          "text": [
            "/content/drive/MyDrive/TUH data/01_tcp_ar/046/00004671/s007_2012_08_04/00004671_s007_t000.edf 48\n",
            "Starting and Ending point respectively:  425201 431857\n"
          ],
          "name": "stdout"
        },
        {
          "output_type": "stream",
          "text": [
            "/usr/local/lib/python3.7/dist-packages/ipykernel_launcher.py:9: RuntimeWarning: invalid value encountered in cdouble_scalars\n",
            "  if __name__ == '__main__':\n"
          ],
          "name": "stderr"
        },
        {
          "output_type": "stream",
          "text": [
            "/content/drive/MyDrive/TUH data/01_tcp_ar/046/00004671/s007_2012_08_04/00004671_s007_t000.edf 49\n",
            "Starting and Ending point respectively:  436307 442861\n"
          ],
          "name": "stdout"
        },
        {
          "output_type": "stream",
          "text": [
            "/usr/local/lib/python3.7/dist-packages/ipykernel_launcher.py:9: RuntimeWarning: invalid value encountered in cdouble_scalars\n",
            "  if __name__ == '__main__':\n"
          ],
          "name": "stderr"
        },
        {
          "output_type": "stream",
          "text": [
            "/content/drive/MyDrive/TUH data/01_tcp_ar/046/00004671/s007_2012_08_04/00004671_s007_t000.edf 50\n",
            "Starting and Ending point respectively:  448831 455436\n"
          ],
          "name": "stdout"
        },
        {
          "output_type": "stream",
          "text": [
            "/usr/local/lib/python3.7/dist-packages/ipykernel_launcher.py:9: RuntimeWarning: invalid value encountered in cdouble_scalars\n",
            "  if __name__ == '__main__':\n"
          ],
          "name": "stderr"
        },
        {
          "output_type": "stream",
          "text": [
            "/content/drive/MyDrive/TUH data/01_tcp_ar/046/00004671/s007_2012_08_04/00004671_s007_t000.edf 51\n",
            "Starting and Ending point respectively:  458449 465132\n"
          ],
          "name": "stdout"
        },
        {
          "output_type": "stream",
          "text": [
            "/usr/local/lib/python3.7/dist-packages/ipykernel_launcher.py:9: RuntimeWarning: invalid value encountered in cdouble_scalars\n",
            "  if __name__ == '__main__':\n"
          ],
          "name": "stderr"
        },
        {
          "output_type": "stream",
          "text": [
            "/content/drive/MyDrive/TUH data/01_tcp_ar/046/00004671/s007_2012_08_04/00004671_s007_t000.edf 52\n",
            "Starting and Ending point respectively:  470840 477752\n"
          ],
          "name": "stdout"
        },
        {
          "output_type": "stream",
          "text": [
            "/usr/local/lib/python3.7/dist-packages/ipykernel_launcher.py:9: RuntimeWarning: invalid value encountered in cdouble_scalars\n",
            "  if __name__ == '__main__':\n"
          ],
          "name": "stderr"
        },
        {
          "output_type": "stream",
          "text": [
            "/content/drive/MyDrive/TUH data/01_tcp_ar/046/00004671/s007_2012_08_04/00004671_s007_t000.edf 53\n",
            "Starting and Ending point respectively:  483025 489887\n"
          ],
          "name": "stdout"
        },
        {
          "output_type": "stream",
          "text": [
            "/usr/local/lib/python3.7/dist-packages/ipykernel_launcher.py:9: RuntimeWarning: invalid value encountered in cdouble_scalars\n",
            "  if __name__ == '__main__':\n"
          ],
          "name": "stderr"
        },
        {
          "output_type": "stream",
          "text": [
            "/content/drive/MyDrive/TUH data/01_tcp_ar/046/00004671/s008_2012_08_24/00004671_s008_t000.edf 54\n",
            "Starting and Ending point respectively:  2500 12500\n"
          ],
          "name": "stdout"
        },
        {
          "output_type": "stream",
          "text": [
            "/usr/local/lib/python3.7/dist-packages/ipykernel_launcher.py:9: RuntimeWarning: invalid value encountered in cdouble_scalars\n",
            "  if __name__ == '__main__':\n"
          ],
          "name": "stderr"
        },
        {
          "output_type": "stream",
          "text": [
            "/content/drive/MyDrive/TUH data/01_tcp_ar/046/00004671/s009_2012_09_17/00004671_s009_t000.edf 55\n",
            "Starting and Ending point respectively:  2560 12800\n"
          ],
          "name": "stdout"
        },
        {
          "output_type": "stream",
          "text": [
            "/usr/local/lib/python3.7/dist-packages/ipykernel_launcher.py:9: RuntimeWarning: invalid value encountered in cdouble_scalars\n",
            "  if __name__ == '__main__':\n"
          ],
          "name": "stderr"
        },
        {
          "output_type": "stream",
          "text": [
            "/content/drive/MyDrive/TUH data/01_tcp_ar/046/00004671/s009_2012_09_17/00004671_s009_t001.edf 56\n",
            "Starting and Ending point respectively:  2560 12800\n",
            "/content/drive/MyDrive/TUH data/01_tcp_ar/046/00004671/s010_2013_07_08/00004671_s010_t000.edf 57\n",
            "Starting and Ending point respectively:  2560 12800\n"
          ],
          "name": "stdout"
        },
        {
          "output_type": "stream",
          "text": [
            "/usr/local/lib/python3.7/dist-packages/ipykernel_launcher.py:9: RuntimeWarning: invalid value encountered in cdouble_scalars\n",
            "  if __name__ == '__main__':\n"
          ],
          "name": "stderr"
        },
        {
          "output_type": "stream",
          "text": [
            "/content/drive/MyDrive/TUH data/01_tcp_ar/046/00004671/s011_2013_07_08/00004671_s011_t000.edf 58\n",
            "Starting and Ending point respectively:  2560 12800\n"
          ],
          "name": "stdout"
        },
        {
          "output_type": "stream",
          "text": [
            "/usr/local/lib/python3.7/dist-packages/ipykernel_launcher.py:9: RuntimeWarning: invalid value encountered in cdouble_scalars\n",
            "  if __name__ == '__main__':\n"
          ],
          "name": "stderr"
        },
        {
          "output_type": "stream",
          "text": [
            "/content/drive/MyDrive/TUH data/01_tcp_ar/046/00004671/s011_2013_07_08/00004671_s011_t001.edf 59\n",
            "Starting and Ending point respectively:  2560 12800\n"
          ],
          "name": "stdout"
        },
        {
          "output_type": "stream",
          "text": [
            "/usr/local/lib/python3.7/dist-packages/ipykernel_launcher.py:9: RuntimeWarning: invalid value encountered in cdouble_scalars\n",
            "  if __name__ == '__main__':\n"
          ],
          "name": "stderr"
        },
        {
          "output_type": "stream",
          "text": [
            "/content/drive/MyDrive/TUH data/01_tcp_ar/046/00004671/s011_2013_07_08/00004671_s011_t002.edf 60\n",
            "Starting and Ending point respectively:  2560 12800\n",
            "/content/drive/MyDrive/TUH data/01_tcp_ar/046/00004671/s011_2013_07_08/00004671_s011_t003.edf 61\n",
            "Starting and Ending point respectively:  2560 12800\n"
          ],
          "name": "stdout"
        },
        {
          "output_type": "stream",
          "text": [
            "/usr/local/lib/python3.7/dist-packages/ipykernel_launcher.py:9: RuntimeWarning: invalid value encountered in cdouble_scalars\n",
            "  if __name__ == '__main__':\n"
          ],
          "name": "stderr"
        },
        {
          "output_type": "stream",
          "text": [
            "/content/drive/MyDrive/TUH data/01_tcp_ar/046/00004671/s011_2013_07_08/00004671_s011_t004.edf 62\n",
            "Starting and Ending point respectively:  2560 12800\n"
          ],
          "name": "stdout"
        },
        {
          "output_type": "stream",
          "text": [
            "/usr/local/lib/python3.7/dist-packages/ipykernel_launcher.py:9: RuntimeWarning: invalid value encountered in cdouble_scalars\n",
            "  if __name__ == '__main__':\n"
          ],
          "name": "stderr"
        },
        {
          "output_type": "stream",
          "text": [
            "/content/drive/MyDrive/TUH data/01_tcp_ar/046/00004671/s011_2013_07_08/00004671_s011_t005.edf 63\n",
            "Starting and Ending point respectively:  2560 12800\n",
            "/content/drive/MyDrive/TUH data/01_tcp_ar/046/00004671/s011_2013_07_08/00004671_s011_t006.edf 64\n",
            "Starting and Ending point respectively:  2560 12800\n",
            "/content/drive/MyDrive/TUH data/01_tcp_ar/046/00004671/s011_2013_07_08/00004671_s011_t007.edf 65\n",
            "Starting and Ending point respectively:  2560 12800\n"
          ],
          "name": "stdout"
        },
        {
          "output_type": "stream",
          "text": [
            "/usr/local/lib/python3.7/dist-packages/ipykernel_launcher.py:9: RuntimeWarning: invalid value encountered in cdouble_scalars\n",
            "  if __name__ == '__main__':\n"
          ],
          "name": "stderr"
        },
        {
          "output_type": "stream",
          "text": [
            "/content/drive/MyDrive/TUH data/01_tcp_ar/046/00004671/s011_2013_07_08/00004671_s011_t008.edf 66\n",
            "Starting and Ending point respectively:  2560 12800\n"
          ],
          "name": "stdout"
        },
        {
          "output_type": "stream",
          "text": [
            "/usr/local/lib/python3.7/dist-packages/ipykernel_launcher.py:9: RuntimeWarning: invalid value encountered in cdouble_scalars\n",
            "  if __name__ == '__main__':\n"
          ],
          "name": "stderr"
        },
        {
          "output_type": "stream",
          "text": [
            "/content/drive/MyDrive/TUH data/01_tcp_ar/046/00004671/s011_2013_07_08/00004671_s011_t009.edf 67\n",
            "Starting and Ending point respectively:  2560 12800\n",
            "/content/drive/MyDrive/TUH data/01_tcp_ar/046/00004671/s011_2013_07_08/00004671_s011_t010.edf 68\n",
            "Starting and Ending point respectively:  2560 12800\n"
          ],
          "name": "stdout"
        },
        {
          "output_type": "stream",
          "text": [
            "/usr/local/lib/python3.7/dist-packages/ipykernel_launcher.py:9: RuntimeWarning: invalid value encountered in cdouble_scalars\n",
            "  if __name__ == '__main__':\n"
          ],
          "name": "stderr"
        }
      ]
    },
    {
      "cell_type": "code",
      "metadata": {
        "id": "ShtEaKczZB5U"
      },
      "source": [
        "## TE ##\n",
        "from PyIF import te_compute as te\n",
        "\n",
        "train_data_te=[]\n",
        "ii=0\n",
        "for f in fpath:\n",
        "  print(f, ii+1)\n",
        "  raw = mne.io.read_raw_edf(f, verbose=False)\n",
        "  ##\n",
        "  raw.load_data()\n",
        "  \n",
        "  raw=raw.filter(l_freq=l_frequency, h_freq=h_frequency)\n",
        "  ##\n",
        "  \n",
        "  channel_data=raw.get_data()\n",
        "  channel_data=channel_data[:, int(cl_st[ii]*fs[ii]):int(cl_en[ii]*fs[ii])]\n",
        "  sh=channel_data.shape[0]\n",
        "  ii=ii+1\n",
        "  s=(sh, sh)\n",
        "  te2=np.zeros(s)\n",
        "  ch_ls=[]\n",
        "  for i in range(0, sh):\n",
        "    for j in range(0,sh):\n",
        "      te2[i][j]=te.te_compute(channel_data[i], channel_data[j], k=1, embedding =1, GPU=False)\n",
        "      if (np.any(np.isnan(te2[i][j])))==True:\n",
        "        te2[i][j]=0\n",
        "      if (np.any(np.isinf(te2[i][j])))==True:\n",
        "        te2[i][j]=1  \n",
        "\n",
        "  #np.append(train_data,pcc2, axis=0)\n",
        "  te2=cv2.resize(te2, (32,32))\n",
        "  te2=preprocessing.normalize(te2)#additional normalization layer checks whether any data is NaN\n",
        "  train_data_te.append(te2)"
      ],
      "execution_count": null,
      "outputs": []
    },
    {
      "cell_type": "code",
      "metadata": {
        "id": "W8ciZTbrxJcw"
      },
      "source": [
        "######### CNN SECTION ##########"
      ],
      "execution_count": null,
      "outputs": []
    },
    {
      "cell_type": "markdown",
      "metadata": {
        "id": "0p73_-aZxqbf"
      },
      "source": [
        "Next is the CNN section. Cells are marked separately for PLV and TE"
      ]
    },
    {
      "cell_type": "code",
      "metadata": {
        "colab": {
          "base_uri": "https://localhost:8080/"
        },
        "id": "ELUiAeU2-giC",
        "outputId": "137269b7-f8d0-409a-aaee-e1799346ff49"
      },
      "source": [
        "#for PLV\n",
        "train_data_plv=np.array(train_data_plv)\n",
        "\n",
        "#assert not np.any(np.isnan(train_data))\n",
        "print('The shape of the train data', train_data_plv.shape)"
      ],
      "execution_count": 8,
      "outputs": [
        {
          "output_type": "stream",
          "text": [
            "The shape of the train data (68, 32, 32)\n"
          ],
          "name": "stdout"
        }
      ]
    },
    {
      "cell_type": "code",
      "metadata": {
        "id": "gSDkHYaSnnKR"
      },
      "source": [
        "#for TE\n",
        "train_data_te=np.array(train_data_te)\n",
        "\n",
        "#assert not np.any(np.isnan(train_data))\n",
        "print('The shape of the train data', train_data_te.shape)"
      ],
      "execution_count": null,
      "outputs": []
    },
    {
      "cell_type": "code",
      "metadata": {
        "id": "vubJ8VXv_UYZ"
      },
      "source": [
        "#CHECK\n",
        "#optional for visualizing the data\n",
        "t=np.size(train_data, 0) \n",
        "for x in range(0,t):\n",
        "  print('The image of the correlation of file', x+1)\n",
        "  plt.subplot(1, t, x+1)\n",
        "  plt.imshow(train_data[x])\n",
        "  plt.title('Image:'+ str(x+1))\n",
        "\n",
        "plt.show() \n",
        "#plt.imshow(train_data[5])\n",
        "\n",
        "plt.plot(train_data[5])"
      ],
      "execution_count": null,
      "outputs": []
    },
    {
      "cell_type": "code",
      "metadata": {
        "id": "E0phaQlUB7Zn"
      },
      "source": [
        "import tensorflow as tf\n",
        "from tensorflow import keras\n",
        "from sklearn import preprocessing\n",
        "import numpy as np\n",
        "from keras.utils import np_utils\n",
        "from keras import backend as K\n",
        "from keras.models import Sequential, Model\n",
        "from keras.layers import concatenate, Input  \n",
        "from keras.layers.core import Dense, Flatten, Activation, Dropout\n",
        "from keras.layers.convolutional import Conv2D\n",
        "from keras.layers.convolutional import MaxPooling2D\n",
        "from keras.layers.normalization import BatchNormalization\n",
        "from keras.datasets import cifar10\n",
        "from keras.optimizers import Adam, RMSprop\n",
        "import matplotlib.pyplot as plt\n",
        "import cv2"
      ],
      "execution_count": 9,
      "outputs": []
    },
    {
      "cell_type": "code",
      "metadata": {
        "id": "kyhHCTbUJpA8"
      },
      "source": [
        "class LeNet:\n",
        "  @staticmethod\n",
        "  def build(input_shape, classes):\n",
        "    model=Sequential()\n",
        "    model.add(BatchNormalization(input_shape=input_shape))\n",
        "    #First convolution\n",
        "    model.add(Conv2D(32, kernel_size=9, padding='same'))\n",
        "    model.add(Activation('relu'))\n",
        "    model.add(Conv2D(32, kernel_size=7, padding='same'))\n",
        "    model.add(Activation('relu'))\n",
        "    model.add(MaxPooling2D(pool_size=(2, 2)))\n",
        "    \n",
        "    #Second convolution\n",
        "    model.add(Conv2D(64, kernel_size=9, padding='same'))\n",
        "    model.add(Activation('relu'))\n",
        "    model.add(Conv2D(64, kernel_size=7, padding='same'))\n",
        "    model.add(Activation('relu'))\n",
        "    model.add(MaxPooling2D(pool_size=(2, 2)))\n",
        "   \n",
        "    #Flattening\n",
        "    model.add(Flatten())\n",
        "    model.add(Dense(500))\n",
        "    model.add(Activation('relu'))\n",
        "    model.add(Dropout(0.3))\n",
        "    #Classifier\n",
        "    model.add(Dense(classes))\n",
        "    model.add(Activation('sigmoid'))\n",
        "    model.summary()\n",
        "    \n",
        "    return model"
      ],
      "execution_count": 10,
      "outputs": []
    },
    {
      "cell_type": "code",
      "metadata": {
        "colab": {
          "base_uri": "https://localhost:8080/"
        },
        "id": "aC1VzbFXJsRI",
        "outputId": "a46dd2d8-9d47-47f8-ba89-34a8e5c4dcec"
      },
      "source": [
        "#For PLV generates x_train1\n",
        "img_rows=32\n",
        "img_cols=32\n",
        "img_channels=1\n",
        "input_shape=(img_rows, img_cols, img_channels)\n",
        "classes=2\n",
        "\n",
        "x_train1=train_data_plv.astype('float32')\n",
        "\n",
        "y_train=train_labels\n",
        "y_train=np_utils.to_categorical(y_train, classes)\n",
        "\n",
        "#x_train=x_train\n",
        "x_train1=np.expand_dims(x_train1, axis=3)\n",
        "\n",
        "print('The shape of the train_data: ', x_train1.shape)"
      ],
      "execution_count": 11,
      "outputs": [
        {
          "output_type": "stream",
          "text": [
            "The shape of the train_data:  (68, 32, 32, 1)\n"
          ],
          "name": "stdout"
        }
      ]
    },
    {
      "cell_type": "code",
      "metadata": {
        "id": "NksJnEMKnjvf"
      },
      "source": [
        "#For TE generates x_train2\n",
        "img_rows=32\n",
        "img_cols=32\n",
        "img_channels=1\n",
        "input_shape=(img_rows, img_cols, img_channels)\n",
        "classes=2\n",
        "\n",
        "x_train2=train_data_te.astype('float32')\n",
        "\n",
        "y_train=train_labels\n",
        "y_train=np_utils.to_categorical(y_train, classes)\n",
        "\n",
        "x_train2=np.expand_dims(x_train2, axis=3)\n",
        "\n",
        "print('The shape of the train_data: ', x_train2.shape)"
      ],
      "execution_count": null,
      "outputs": []
    },
    {
      "cell_type": "code",
      "metadata": {
        "id": "sG66VGQ53BOA"
      },
      "source": [
        "## IF ONLY USING PLV RUN THIS PART ## SIMILARLY TE CAN ALSO BE USED BUT PLV IS FASTER\n",
        "x_train2=x_train1\n"
      ],
      "execution_count": 12,
      "outputs": []
    },
    {
      "cell_type": "code",
      "metadata": {
        "colab": {
          "base_uri": "https://localhost:8080/"
        },
        "id": "3CqMlR4_LLYq",
        "outputId": "7a25d555-a346-434e-c4de-5ccafe641e83"
      },
      "source": [
        "first=LeNet.build(input_shape, classes)\n",
        "\n",
        "first.compile(loss='binary_crossentropy', optimizer=Adam(), metrics=['accuracy', 'TruePositives', 'FalseNegatives', 'TrueNegatives', 'FalsePositives'])\n",
        "history1=first.fit(x_train1, y_train, validation_split=0.1, batch_size=15, epochs=20, verbose=1)\n",
        "\n",
        "second=LeNet.build(input_shape, classes)\n",
        "\n",
        "second.compile(loss='binary_crossentropy', optimizer=Adam(), metrics=['accuracy', 'TruePositives', 'FalseNegatives', 'TrueNegatives', 'FalsePositives'])\n",
        "history2=second.fit(x_train2, y_train, validation_split=0.1, batch_size=15, epochs=20, verbose=1)"
      ],
      "execution_count": 14,
      "outputs": [
        {
          "output_type": "stream",
          "text": [
            "Model: \"sequential_1\"\n",
            "_________________________________________________________________\n",
            "Layer (type)                 Output Shape              Param #   \n",
            "=================================================================\n",
            "batch_normalization_1 (Batch (None, 32, 32, 1)         4         \n",
            "_________________________________________________________________\n",
            "conv2d_4 (Conv2D)            (None, 32, 32, 32)        2624      \n",
            "_________________________________________________________________\n",
            "activation_6 (Activation)    (None, 32, 32, 32)        0         \n",
            "_________________________________________________________________\n",
            "conv2d_5 (Conv2D)            (None, 32, 32, 32)        50208     \n",
            "_________________________________________________________________\n",
            "activation_7 (Activation)    (None, 32, 32, 32)        0         \n",
            "_________________________________________________________________\n",
            "max_pooling2d_2 (MaxPooling2 (None, 16, 16, 32)        0         \n",
            "_________________________________________________________________\n",
            "conv2d_6 (Conv2D)            (None, 16, 16, 64)        165952    \n",
            "_________________________________________________________________\n",
            "activation_8 (Activation)    (None, 16, 16, 64)        0         \n",
            "_________________________________________________________________\n",
            "conv2d_7 (Conv2D)            (None, 16, 16, 64)        200768    \n",
            "_________________________________________________________________\n",
            "activation_9 (Activation)    (None, 16, 16, 64)        0         \n",
            "_________________________________________________________________\n",
            "max_pooling2d_3 (MaxPooling2 (None, 8, 8, 64)          0         \n",
            "_________________________________________________________________\n",
            "flatten_1 (Flatten)          (None, 4096)              0         \n",
            "_________________________________________________________________\n",
            "dense_2 (Dense)              (None, 500)               2048500   \n",
            "_________________________________________________________________\n",
            "activation_10 (Activation)   (None, 500)               0         \n",
            "_________________________________________________________________\n",
            "dropout_1 (Dropout)          (None, 500)               0         \n",
            "_________________________________________________________________\n",
            "dense_3 (Dense)              (None, 2)                 1002      \n",
            "_________________________________________________________________\n",
            "activation_11 (Activation)   (None, 2)                 0         \n",
            "=================================================================\n",
            "Total params: 2,469,058\n",
            "Trainable params: 2,469,056\n",
            "Non-trainable params: 2\n",
            "_________________________________________________________________\n",
            "Epoch 1/20\n",
            "5/5 [==============================] - 4s 486ms/step - loss: 0.9314 - accuracy: 0.7211 - true_positives: 34.5000 - false_negatives: 10.8333 - true_negatives: 24.5000 - false_positives: 20.8333 - val_loss: 0.6972 - val_accuracy: 0.0000e+00 - val_true_positives: 0.0000e+00 - val_false_negatives: 7.0000 - val_true_negatives: 0.0000e+00 - val_false_positives: 7.0000\n",
            "Epoch 2/20\n",
            "5/5 [==============================] - 1s 275ms/step - loss: 0.6868 - accuracy: 0.7838 - true_positives: 34.8333 - false_negatives: 10.5000 - true_negatives: 35.8333 - false_positives: 9.5000 - val_loss: 0.7170 - val_accuracy: 0.0000e+00 - val_true_positives: 0.0000e+00 - val_false_negatives: 7.0000 - val_true_negatives: 0.0000e+00 - val_false_positives: 7.0000\n",
            "Epoch 3/20\n",
            "5/5 [==============================] - 1s 275ms/step - loss: 0.6553 - accuracy: 0.7264 - true_positives: 33.5000 - false_negatives: 11.8333 - true_negatives: 33.5000 - false_positives: 11.8333 - val_loss: 0.9287 - val_accuracy: 0.0000e+00 - val_true_positives: 0.0000e+00 - val_false_negatives: 7.0000 - val_true_negatives: 0.0000e+00 - val_false_positives: 7.0000\n",
            "Epoch 4/20\n",
            "5/5 [==============================] - 1s 272ms/step - loss: 0.4967 - accuracy: 0.7504 - true_positives: 34.3333 - false_negatives: 11.0000 - true_negatives: 34.3333 - false_positives: 11.0000 - val_loss: 0.9474 - val_accuracy: 0.0000e+00 - val_true_positives: 0.0000e+00 - val_false_negatives: 7.0000 - val_true_negatives: 0.0000e+00 - val_false_positives: 7.0000\n",
            "Epoch 5/20\n",
            "5/5 [==============================] - 1s 272ms/step - loss: 0.4252 - accuracy: 0.7310 - true_positives: 34.0000 - false_negatives: 11.3333 - true_negatives: 34.0000 - false_positives: 11.3333 - val_loss: 0.8373 - val_accuracy: 0.0000e+00 - val_true_positives: 0.0000e+00 - val_false_negatives: 7.0000 - val_true_negatives: 0.0000e+00 - val_false_positives: 7.0000\n",
            "Epoch 6/20\n",
            "5/5 [==============================] - 1s 279ms/step - loss: 0.4167 - accuracy: 0.7504 - true_positives: 34.1667 - false_negatives: 11.1667 - true_negatives: 34.1667 - false_positives: 11.1667 - val_loss: 0.7869 - val_accuracy: 0.0000e+00 - val_true_positives: 0.0000e+00 - val_false_negatives: 7.0000 - val_true_negatives: 0.0000e+00 - val_false_positives: 7.0000\n",
            "Epoch 7/20\n",
            "5/5 [==============================] - 1s 275ms/step - loss: 0.3823 - accuracy: 0.8041 - true_positives: 35.3333 - false_negatives: 10.0000 - true_negatives: 35.3333 - false_positives: 10.0000 - val_loss: 0.8515 - val_accuracy: 0.0000e+00 - val_true_positives: 0.0000e+00 - val_false_negatives: 7.0000 - val_true_negatives: 0.0000e+00 - val_false_positives: 7.0000\n",
            "Epoch 8/20\n",
            "5/5 [==============================] - 1s 272ms/step - loss: 0.3312 - accuracy: 0.7430 - true_positives: 33.8333 - false_negatives: 11.5000 - true_negatives: 33.8333 - false_positives: 11.5000 - val_loss: 0.8384 - val_accuracy: 0.0000e+00 - val_true_positives: 0.0000e+00 - val_false_negatives: 7.0000 - val_true_negatives: 0.0000e+00 - val_false_positives: 7.0000\n",
            "Epoch 9/20\n",
            "5/5 [==============================] - 1s 272ms/step - loss: 0.2702 - accuracy: 0.7690 - true_positives: 34.5000 - false_negatives: 10.8333 - true_negatives: 35.0000 - false_positives: 10.3333 - val_loss: 0.7474 - val_accuracy: 0.0000e+00 - val_true_positives: 0.0000e+00 - val_false_negatives: 7.0000 - val_true_negatives: 0.0000e+00 - val_false_positives: 7.0000\n",
            "Epoch 10/20\n",
            "5/5 [==============================] - 1s 272ms/step - loss: 0.2315 - accuracy: 0.8361 - true_positives: 38.0000 - false_negatives: 7.3333 - true_negatives: 39.1667 - false_positives: 6.1667 - val_loss: 0.6869 - val_accuracy: 1.0000 - val_true_positives: 6.0000 - val_false_negatives: 1.0000 - val_true_negatives: 7.0000 - val_false_positives: 0.0000e+00\n",
            "Epoch 11/20\n",
            "5/5 [==============================] - 1s 270ms/step - loss: 0.2286 - accuracy: 0.8590 - true_positives: 38.8333 - false_negatives: 6.5000 - true_negatives: 39.5000 - false_positives: 5.8333 - val_loss: 0.6121 - val_accuracy: 1.0000 - val_true_positives: 7.0000 - val_false_negatives: 0.0000e+00 - val_true_negatives: 7.0000 - val_false_positives: 0.0000e+00\n",
            "Epoch 12/20\n",
            "5/5 [==============================] - 1s 277ms/step - loss: 0.1732 - accuracy: 0.9475 - true_positives: 43.0000 - false_negatives: 2.3333 - true_negatives: 43.0000 - false_positives: 2.3333 - val_loss: 0.3567 - val_accuracy: 1.0000 - val_true_positives: 7.0000 - val_false_negatives: 0.0000e+00 - val_true_negatives: 7.0000 - val_false_positives: 0.0000e+00\n",
            "Epoch 13/20\n",
            "5/5 [==============================] - 1s 281ms/step - loss: 0.1177 - accuracy: 0.9475 - true_positives: 43.0000 - false_negatives: 2.3333 - true_negatives: 43.0000 - false_positives: 2.3333 - val_loss: 0.1497 - val_accuracy: 1.0000 - val_true_positives: 7.0000 - val_false_negatives: 0.0000e+00 - val_true_negatives: 7.0000 - val_false_positives: 0.0000e+00\n",
            "Epoch 14/20\n",
            "5/5 [==============================] - 1s 272ms/step - loss: 0.1210 - accuracy: 0.9448 - true_positives: 42.5000 - false_negatives: 2.8333 - true_negatives: 41.8333 - false_positives: 3.5000 - val_loss: 0.0982 - val_accuracy: 1.0000 - val_true_positives: 7.0000 - val_false_negatives: 0.0000e+00 - val_true_negatives: 7.0000 - val_false_positives: 0.0000e+00\n",
            "Epoch 15/20\n",
            "5/5 [==============================] - 1s 276ms/step - loss: 0.0734 - accuracy: 0.9586 - true_positives: 43.1667 - false_negatives: 2.1667 - true_negatives: 43.1667 - false_positives: 2.1667 - val_loss: 0.2971 - val_accuracy: 1.0000 - val_true_positives: 7.0000 - val_false_negatives: 0.0000e+00 - val_true_negatives: 7.0000 - val_false_positives: 0.0000e+00\n",
            "Epoch 16/20\n",
            "5/5 [==============================] - 1s 275ms/step - loss: 0.3319 - accuracy: 0.9162 - true_positives: 41.5000 - false_negatives: 3.8333 - true_negatives: 41.5000 - false_positives: 3.8333 - val_loss: 0.1747 - val_accuracy: 1.0000 - val_true_positives: 7.0000 - val_false_negatives: 0.0000e+00 - val_true_negatives: 7.0000 - val_false_positives: 0.0000e+00\n",
            "Epoch 17/20\n",
            "5/5 [==============================] - 1s 274ms/step - loss: 0.2035 - accuracy: 0.9098 - true_positives: 41.0000 - false_negatives: 4.3333 - true_negatives: 41.0000 - false_positives: 4.3333 - val_loss: 0.2259 - val_accuracy: 1.0000 - val_true_positives: 7.0000 - val_false_negatives: 0.0000e+00 - val_true_negatives: 7.0000 - val_false_positives: 0.0000e+00\n",
            "Epoch 18/20\n",
            "5/5 [==============================] - 1s 277ms/step - loss: 0.1363 - accuracy: 0.9244 - true_positives: 42.0000 - false_negatives: 3.3333 - true_negatives: 42.0000 - false_positives: 3.3333 - val_loss: 0.2708 - val_accuracy: 1.0000 - val_true_positives: 7.0000 - val_false_negatives: 0.0000e+00 - val_true_negatives: 7.0000 - val_false_positives: 0.0000e+00\n",
            "Epoch 19/20\n",
            "5/5 [==============================] - 1s 276ms/step - loss: 0.0617 - accuracy: 0.9623 - true_positives: 43.3333 - false_negatives: 2.0000 - true_negatives: 43.3333 - false_positives: 2.0000 - val_loss: 0.3797 - val_accuracy: 0.8571 - val_true_positives: 6.0000 - val_false_negatives: 1.0000 - val_true_negatives: 6.0000 - val_false_positives: 1.0000\n",
            "Epoch 20/20\n",
            "5/5 [==============================] - 1s 273ms/step - loss: 0.0543 - accuracy: 0.9743 - true_positives: 43.0000 - false_negatives: 2.3333 - true_negatives: 44.5000 - false_positives: 0.8333 - val_loss: 0.1240 - val_accuracy: 1.0000 - val_true_positives: 7.0000 - val_false_negatives: 0.0000e+00 - val_true_negatives: 7.0000 - val_false_positives: 0.0000e+00\n"
          ],
          "name": "stdout"
        }
      ]
    },
    {
      "cell_type": "code",
      "metadata": {
        "id": "FKUB3-3lmzp4"
      },
      "source": [
        "\n"
      ],
      "execution_count": null,
      "outputs": []
    },
    {
      "cell_type": "markdown",
      "metadata": {
        "id": "vZ-vQSJNP-W-"
      },
      "source": [
        ""
      ]
    },
    {
      "cell_type": "code",
      "metadata": {
        "id": "D84_QSbXyz5L"
      },
      "source": [
        "x_test1=x_train1\n",
        "x_test2=x_train2\n",
        "\n",
        "y_test=y_train"
      ],
      "execution_count": 15,
      "outputs": []
    },
    {
      "cell_type": "code",
      "metadata": {
        "id": "sd_yEkOJvLw3"
      },
      "source": [
        "def predictions(model, x_test):\n",
        "  yhats=model.predict(x_test)\n",
        "  yhats=np.array(yhats)\n",
        "\n",
        "  return yhats"
      ],
      "execution_count": 22,
      "outputs": []
    },
    {
      "cell_type": "code",
      "metadata": {
        "id": "5FoeBN2J1OfK"
      },
      "source": [
        "yhats1=predictions(first, x_test1)\n",
        "yhats2=predictions(second, x_test2)"
      ],
      "execution_count": 23,
      "outputs": []
    },
    {
      "cell_type": "code",
      "metadata": {
        "id": "3wncHEZ55DBw"
      },
      "source": [
        "#CHECK\n",
        "print('Predictions of the 1st model', yhats1)\n",
        "print('Predictions of the 2nd model', yhats2)"
      ],
      "execution_count": null,
      "outputs": []
    },
    {
      "cell_type": "code",
      "metadata": {
        "id": "6Htbi-Xq74oe"
      },
      "source": [
        "i1=np.add(yhats1, yhats2)\n",
        "predicted_labels=np.array(np.argmax(i1, axis=1))"
      ],
      "execution_count": 29,
      "outputs": []
    },
    {
      "cell_type": "code",
      "metadata": {
        "id": "DnL-x5vYFVAI"
      },
      "source": [
        "#CHECK\n",
        "print(yhats1[1],yhats2[1],i1[1])"
      ],
      "execution_count": null,
      "outputs": []
    },
    {
      "cell_type": "code",
      "metadata": {
        "colab": {
          "base_uri": "https://localhost:8080/"
        },
        "id": "rmqD8SFl_5_p",
        "outputId": "dfba08aa-17c2-4ea5-ad01-fb065214734e"
      },
      "source": [
        "print('predicted_labels:',predicted_labels)\n",
        "label_test=np.transpose(np.array(labels))\n",
        "label_test=label_test[0] #Converting from [[labels]] to[labels] \n",
        "print('labels:', label_test)\n"
      ],
      "execution_count": 37,
      "outputs": [
        {
          "output_type": "stream",
          "text": [
            "[0.93892825 0.06810161] [0.9959717  0.01570031] [1.9348999  0.08380193]\n",
            "predicted_labels: [0 0 0 0 1 1 1 1 0 0 1 1 1 0 1 1 1 1 1 1 1 1 1 1 1 1 1 1 1 1 1 1 1 1 1 1 1\n",
            " 1 1 1 1 1 1 1 1 1 1 1 1 1 1 1 1 0 0 0 0 0 0 0 0 0 0 0 0 0 0 0]\n",
            "labels: [0 0 0 0 1 1 1 1 0 0 1 1 1 0 1 1 1 1 1 1 1 1 1 1 1 1 1 1 1 1 1 1 1 1 1 1 1\n",
            " 1 1 1 1 1 1 1 1 1 1 1 1 1 1 1 1 0 0 0 0 0 0 0 0 0 0 0 0 0 0 0]\n"
          ],
          "name": "stdout"
        }
      ]
    },
    {
      "cell_type": "code",
      "metadata": {
        "colab": {
          "base_uri": "https://localhost:8080/"
        },
        "id": "CF54V-8RDB4A",
        "outputId": "7b2ff9e7-838b-4ae9-b3b5-93dc3e413ae5"
      },
      "source": [
        "correct=0\n",
        "incorrect=0\n",
        "for i in range(0,np.size(label_test)):\n",
        "  if predicted_labels[i]==label_test[i]:\n",
        "    correct=correct+1\n",
        "\n",
        "  else:\n",
        "    incorrect=incorrect+1\n",
        "\n",
        "print('The Prediction accuracy of the model: ', correct/np.size(label_test))"
      ],
      "execution_count": 42,
      "outputs": [
        {
          "output_type": "stream",
          "text": [
            "The Prediction accuracy of the model:  1.0\n"
          ],
          "name": "stdout"
        }
      ]
    }
  ]
}