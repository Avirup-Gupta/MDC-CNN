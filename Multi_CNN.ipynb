{
  "nbformat": 4,
  "nbformat_minor": 0,
  "metadata": {
    "colab": {
      "name": "Multi_CNN.ipynb",
      "provenance": [],
      "collapsed_sections": []
    },
    "kernelspec": {
      "display_name": "Python 3",
      "name": "python3"
    }
  },
  "cells": [
    {
      "cell_type": "code",
      "metadata": {
        "colab": {
          "base_uri": "https://localhost:8080/"
        },
        "id": "KqbVAZK7geuS",
        "outputId": "04366884-a600-4a8e-fec6-1bda2acefcfc"
      },
      "source": [
        "!pip install mne\n",
        "!pip install PyIF\n",
        "!pip install nose\n",
        "import nose\n",
        "import mne\n",
        "import numpy as np\n",
        "import os\n",
        "import pandas as pd\n",
        "import collections\n",
        "from matplotlib import pyplot as plt\n",
        "import cv2\n",
        "from sklearn import preprocessing"
      ],
      "execution_count": null,
      "outputs": [
        {
          "output_type": "stream",
          "text": [
            "Collecting mne\n",
            "\u001b[?25l  Downloading https://files.pythonhosted.org/packages/60/f7/2bf5de3fad42b66d00ee27539bc3be0260b4e66fdecc12f740cdf2daf2e7/mne-0.23.0-py3-none-any.whl (6.9MB)\n",
            "\u001b[K     |████████████████████████████████| 7.0MB 6.7MB/s \n",
            "\u001b[?25hRequirement already satisfied: numpy>=1.15.4 in /usr/local/lib/python3.7/dist-packages (from mne) (1.19.5)\n",
            "Requirement already satisfied: scipy>=1.1.0 in /usr/local/lib/python3.7/dist-packages (from mne) (1.4.1)\n",
            "Installing collected packages: mne\n",
            "Successfully installed mne-0.23.0\n",
            "Collecting PyIF\n",
            "  Downloading https://files.pythonhosted.org/packages/1f/d9/91c5bcfae19e5dc1c1b96258cee8ad29695a43a25a9dc88d8a533e204128/PyIF-0.1-py3-none-any.whl\n",
            "Installing collected packages: PyIF\n",
            "Successfully installed PyIF-0.1\n",
            "Collecting nose\n",
            "\u001b[?25l  Downloading https://files.pythonhosted.org/packages/15/d8/dd071918c040f50fa1cf80da16423af51ff8ce4a0f2399b7bf8de45ac3d9/nose-1.3.7-py3-none-any.whl (154kB)\n",
            "\u001b[K     |████████████████████████████████| 163kB 7.6MB/s \n",
            "\u001b[?25hInstalling collected packages: nose\n",
            "Successfully installed nose-1.3.7\n"
          ],
          "name": "stdout"
        }
      ]
    },
    {
      "cell_type": "code",
      "metadata": {
        "id": "5SJSQsRw0sZp"
      },
      "source": [
        "######### MAIN CODE BEGINS ##############\n",
        "xlsx_file_name='/content/drive/MyDrive/TUH data/seizures_v36r.xlsx'"
      ],
      "execution_count": null,
      "outputs": []
    },
    {
      "cell_type": "code",
      "metadata": {
        "id": "69j07EnR1Fs2"
      },
      "source": [
        "excel_file = os.path.join(xlsx_file_name)\n",
        "file_list = pd.read_excel(excel_file, sheet_name='dev', usecols=['Filename'])\n",
        "patient_id = pd.read_excel(excel_file, sheet_name='dev', usecols=['Patient'])\n",
        "seizure_type = pd.read_excel(excel_file, sheet_name='dev', usecols=['Seizure Type'])\n",
        "start_time=pd.read_excel(excel_file, sheet_name='dev', usecols=['Start'])\n",
        "start_time=(start_time.to_numpy())\n",
        "stop_time=pd.read_excel(excel_file, sheet_name='dev', usecols=['Stop'])\n",
        "stop_time=(stop_time.to_numpy())\n",
        "file_list=np.array(file_list)\n",
        "patient_id=np.array(patient_id)\n",
        "seizure_type=np.array(seizure_type)\n"
      ],
      "execution_count": null,
      "outputs": []
    },
    {
      "cell_type": "code",
      "metadata": {
        "id": "hYv564-GACLp"
      },
      "source": [
        ""
      ],
      "execution_count": null,
      "outputs": []
    },
    {
      "cell_type": "code",
      "metadata": {
        "id": "ZFXaFN6lBbSz",
        "colab": {
          "base_uri": "https://localhost:8080/"
        },
        "outputId": "ee7cc968-a507-4beb-a3a0-8ccb470f578a"
      },
      "source": [
        "no=104 ##input the index \n",
        "no=no-2 ##adjusting with the seizure file list xlsx\n",
        "print(file_list[no])\n",
        "print(seizure_type[no])\n",
        "print('start time',start_time[no])\n",
        "print('stop time',stop_time[no])"
      ],
      "execution_count": null,
      "outputs": [
        {
          "output_type": "stream",
          "text": [
            "['./dev/01_tcp_ar/046/00004671/s008_2012_08_24/00004671_s008_t000.tse']\n",
            "[nan]\n",
            "start time [nan]\n",
            "stop time [nan]\n"
          ],
          "name": "stdout"
        }
      ]
    },
    {
      "cell_type": "code",
      "metadata": {
        "colab": {
          "base_uri": "https://localhost:8080/"
        },
        "id": "-tsnHF7R0C8C",
        "outputId": "7682565c-a811-4c5b-e92d-ab3599c80eb7"
      },
      "source": [
        "fpath=['intial']\n",
        "labels=[1]\n",
        "labels=np.array([labels])\n",
        "\n",
        "#in our case the initial file was a non seizure one so we initialized according, can be changed.\n",
        "#the multiplication of sampling freq must be considered so as to not exceed the length \n",
        "cl_st=[10]\n",
        "cl_en=[50]\n",
        "\n",
        "\n",
        "loc='/content/drive/MyDrive/TUH data' #for google colab\n",
        "#loc='C:/TUH/v1.1.0/edf' #for PC\n",
        "\n",
        "for i in range(1,1407):\n",
        "  if seizure_type[i]==['TCSZ'] or seizure_type[i]==['FNSZ'] or seizure_type[i]==['CPSZ'] or seizure_type[i]==['GNSZ']:\n",
        "    fl=(file_list[i])\n",
        "    fl=fl[0]\n",
        "    #print('Original path: ',fl)\n",
        "    #print('The file path after stripping: ',fl[6:])\n",
        "    fl=fl.replace('.tse','.edf')\n",
        "    s=os.path.join(loc,(fl[6:]))\n",
        "    #print('The modified path is: ',s) \n",
        "    #s=fl.replace(fl[:fl.index[6]],'/content/drive/MyDrive/TUH data')\n",
        "    if os.path.isfile(s)==True:\n",
        "      \n",
        "      fpath.append(s)\n",
        "      labels=np.append(labels, [[1]], axis=0)\n",
        "      check_neg=start_time[i]-20\n",
        "      if check_neg>0:\n",
        "        cl_st.append(float(start_time[i]-20))\n",
        "      else:\n",
        "        cl_st.append(0)  \n",
        "      cl_en.append(float(stop_time[i]))\n",
        "\n",
        "    \n",
        "  else:\n",
        "    fl=(file_list[i])\n",
        "    fl=fl[0]\n",
        "    #print('Original path: ',fl)\n",
        "    #print('The file path after stripping: ',fl[6:])\n",
        "    fl=fl.replace('.tse','.edf')\n",
        "    s=os.path.join(loc,(fl[6:]))\n",
        "    #print('The modified path is: ',s)\n",
        "    #fpath.append(str(file_list[i]).replace('.tse','.edf'))\n",
        "    if os.path.isfile(s)==True:\n",
        "      \n",
        "      fpath.append(s)\n",
        "      labels=np.append(labels, [[0]], axis=0)\n",
        "      cl_st.append(10)\n",
        "      cl_en.append(50)\n",
        "\n",
        "    \n",
        "\n",
        "fpath=fpath[1:]\n",
        "labels=labels[1:]\n",
        "\n",
        "#print('The modified paths are:',fpath)\n",
        "print('size of fpath:', len(fpath))\n",
        "#print('The modified labels are:',labels)\n",
        "train_labels=labels\n",
        "print(cl_st)\n",
        "print(cl_en)"
      ],
      "execution_count": null,
      "outputs": [
        {
          "output_type": "stream",
          "text": [
            "size of fpath: 68\n",
            "[10, 10, 10, 10, 10, 0, 0, 0, 187.9101, 10, 10, 14.055100000000003, 67.3375, 0, 10, 26.273400000000002, 99.1406, 146.8203, 179.3398, 229.0547, 277.7539, 324.8438, 397.4219, 450.0469, 500.55859999999996, 579.1484, 622.6211, 668.1211, 709.4531, 751.1211, 807.1211, 848.375, 891.1719, 933.0547, 982.0273, 1033.3477, 1074.7461, 1111.9414, 1159.0664, 1206.3477, 1267.9453, 1311.6914, 1352.2188, 1393.9688, 1471.8203, 1531.1211, 1568.793, 1627.0195, 1660.9453, 1704.3281, 1753.2461, 1790.8203, 1839.2188, 1886.8203, 10, 10, 10, 10, 10, 10, 10, 10, 10, 10, 10, 10, 10, 10, 10]\n",
            "[50, 50, 50, 50, 50, 173.3791, 175.5054, 150.5157, 308.0, 50, 50, 162.3118, 223.0086, 154.51, 50, 52.0742, 125.8398, 172.9219, 208.5391, 256.3516, 303.1523, 351.4453, 425.1211, 477.1484, 527.5586, 605.6484, 649.5195, 695.4219, 736.5547, 779.2188, 833.6211, 875.9727, 918.0742, 960.5547, 1008.2266, 1058.6484, 1099.9453, 1138.8398, 1186.0664, 1232.1484, 1293.0469, 1336.5938, 1378.1211, 1420.0664, 1497.0195, 1556.0195, 1594.8945, 1652.2188, 1686.9453, 1729.9258, 1779.0469, 1816.9219, 1866.2188, 1913.6211, 50, 50, 50, 50, 50, 50, 50, 50, 50, 50, 50, 50, 50, 50, 50]\n"
          ],
          "name": "stdout"
        }
      ]
    },
    {
      "cell_type": "code",
      "metadata": {
        "colab": {
          "base_uri": "https://localhost:8080/"
        },
        "id": "eLOKoWKvojAu",
        "outputId": "3b3444e5-c4aa-4bdc-baa2-3c98509de910"
      },
      "source": [
        "print(fpath[53])\n",
        "cl_st[53]\n",
        "cl_en[53]"
      ],
      "execution_count": null,
      "outputs": [
        {
          "output_type": "stream",
          "text": [
            "/content/drive/MyDrive/TUH data/01_tcp_ar/046/00004671/s008_2012_08_24/00004671_s008_t000.edf\n"
          ],
          "name": "stdout"
        },
        {
          "output_type": "execute_result",
          "data": {
            "text/plain": [
              "1913.6211"
            ]
          },
          "metadata": {
            "tags": []
          },
          "execution_count": 36
        }
      ]
    },
    {
      "cell_type": "code",
      "metadata": {
        "id": "z3ymvIFU1SrI"
      },
      "source": [
        "print(np.sum(np.array(train_labels)))"
      ],
      "execution_count": null,
      "outputs": []
    },
    {
      "cell_type": "code",
      "metadata": {
        "id": "VlTaHIx3rbbz"
      },
      "source": [
        "print(np.transpose(np.array(fpath[1:])))\n",
        "print(np.transpose(labels))\n",
        "print(cl_st)\n",
        "print(cl_en)\n",
        "\n",
        "#print(labels[1:])"
      ],
      "execution_count": null,
      "outputs": []
    },
    {
      "cell_type": "code",
      "metadata": {
        "id": "2GO-TDXh3hwA"
      },
      "source": [
        "########################\n",
        "#file_path=['/content/drive/MyDrive/TUH data/01_tcp_ar/002/00000258/s003_2003_07_22/00000258_s003_t002.edf','/content/drive/MyDrive/TUH data/01_tcp_ar/002/00000258/s003_2003_07_22/00000258_s003_t003.edf','/content/drive/MyDrive/TUH data/01_tcp_ar/002/00000258/s003_2003_07_22/00000258_s003_t004.edf','/content/drive/MyDrive/TUH data/01_tcp_ar/000/00000006/s002_2002_10_21/00000006_s002_t000.edf','/content/drive/MyDrive/TUH data/01_tcp_ar/000/00000006/s002_2002_10_21/00000006_s002_t001.edf']\n",
        "#train_labels=np.array([[1],[1],[1],[0],[0]])"
      ],
      "execution_count": null,
      "outputs": []
    },
    {
      "cell_type": "code",
      "metadata": {
        "id": "YyvjKCC1gxEP"
      },
      "source": [
        "## PCC ##\n",
        "\n",
        "train_data=[]\n",
        "for f in fpath:\n",
        "  print(f)\n",
        "  raw = mne.io.read_raw_edf(f, verbose=False)\n",
        "  channel_data=raw.get_data()\n",
        "  sh=channel_data.shape[0]\n",
        "  s=(sh, sh)\n",
        "  pcc2=np.zeros(s)\n",
        "  ch_ls=[]\n",
        "  for x in range(0, sh):\n",
        "    ch_ls.append(channel_data[x])\n",
        "    \n",
        "\n",
        "  #print(ch_ls)\n",
        "  pcc2=np.corrcoef(ch_ls)\n",
        "  if (np.any(np.isnan(pcc2)))==True:\n",
        "        pcc2=0\n",
        "  if (np.any(np.isinf(pcc2)))==True:\n",
        "        pcc2=1\n",
        "  pcc2=cv2.resize(pcc2, (32,32))\n",
        "  \n",
        "  #np.append(train_data,pcc2, axis=0)\n",
        "  \n",
        "  pcc2=preprocessing.normalize(pcc2)#additional normalization layer checks whether any data is NaN\n",
        "  train_data.append(pcc2)\n"
      ],
      "execution_count": null,
      "outputs": []
    },
    {
      "cell_type": "code",
      "metadata": {
        "colab": {
          "base_uri": "https://localhost:8080/"
        },
        "id": "vRxwJC03CedX",
        "outputId": "01ad6423-62a7-47dc-a955-a0657629584b"
      },
      "source": [
        "### For BANDPASS Filter##\n",
        "l_frequency=int(input('Enter the lower cutoff frequency: '))\n",
        "h_frequency=int(input('Enter the higher cutoff frequency: '))"
      ],
      "execution_count": null,
      "outputs": [
        {
          "output_type": "stream",
          "text": [
            "Enter the lower cutoff frequency: 0\n",
            "Enter the higher cutoff frequency: 100\n"
          ],
          "name": "stdout"
        }
      ]
    },
    {
      "cell_type": "code",
      "metadata": {
        "id": "82GfQCNinqDe"
      },
      "source": [
        "## PLV ##\n",
        "import numpy as np\n",
        "import scipy.signal as sig\n",
        "\n",
        "def hilphase(y1,y2):\n",
        "    sig1_hill=sig.hilbert(y1)\n",
        "    sig2_hill=sig.hilbert(y2)\n",
        "    pdt=(np.inner(sig1_hill,np.conj(sig2_hill))/(np.sqrt(np.inner(sig1_hill,\n",
        "               np.conj(sig1_hill))*np.inner(sig2_hill,np.conj(sig2_hill)))))\n",
        "    phase = np.angle(pdt)\n",
        "\n",
        "    return phase\n",
        "\n",
        "train_data_plv=[]\n",
        "ii=0\n",
        "for f in fpath:\n",
        "  print(f, ii+1)\n",
        "  raw = mne.io.read_raw_edf(f, verbose=False)\n",
        "  ##\n",
        "  raw.load_data()\n",
        "  \n",
        "  raw=raw.filter(l_freq=l_frequency, h_freq=h_frequency)\n",
        "  ##\n",
        "  channel_data=raw.get_data()\n",
        "  #print(np.all(np.isnan(channel_data)))\n",
        "  #print(np.all(np.isinf(channel_data)))\n",
        "  channel_data=channel_data[:, int(cl_st[ii]):int(cl_en[ii])]\n",
        "  print(int(cl_st[ii]*fs[ii]),int(cl_en[ii]))\n",
        "  sh=channel_data.shape[0]\n",
        "  ii=ii+1\n",
        "  \n",
        "  s=(sh, sh)\n",
        "  plv2=np.zeros(s)\n",
        "  ch_ls=[]\n",
        "  for i in range(0, sh):\n",
        "    for j in range(0,sh):\n",
        "      plv2[i][j]=hilphase(channel_data[i], channel_data[j])\n",
        "      if (np.any(np.isnan(plv2[i][j])))==True:\n",
        "        plv2[i][j]=0\n",
        "      if (np.any(np.isinf(plv2[i][j])))==True:\n",
        "        plv2[i][j]=1 \n",
        "\n",
        "  #np.append(train_data,pcc2, axis=0)\n",
        "  plv2=cv2.resize(plv2, (32,32))\n",
        "  \n",
        "  plv2=preprocessing.normalize(plv2)#additional normalization layer checks whether any data is NaN\n",
        "  train_data_plv.append(plv2)"
      ],
      "execution_count": null,
      "outputs": []
    },
    {
      "cell_type": "code",
      "metadata": {
        "id": "ShtEaKczZB5U"
      },
      "source": [
        "## TE ##\n",
        "from PyIF import te_compute as te\n",
        "\n",
        "train_data_te=[]\n",
        "ii=0\n",
        "for f in fpath:\n",
        "  print(f, ii+1)\n",
        "  raw = mne.io.read_raw_edf(f, verbose=False)\n",
        "  ##\n",
        "  raw.load_data()\n",
        "  \n",
        "  raw=raw.filter(l_freq=l_frequency, h_freq=h_frequency)\n",
        "  ##\n",
        "  \n",
        "  channel_data=raw.get_data()\n",
        "  channel_data=channel_data[:, int(cl_st[ii]):int(cl_en[ii])]\n",
        "  sh=channel_data.shape[0]\n",
        "  ii=ii+1\n",
        "  s=(sh, sh)\n",
        "  te2=np.zeros(s)\n",
        "  ch_ls=[]\n",
        "  for i in range(0, sh):\n",
        "    for j in range(0,sh):\n",
        "      te2[i][j]=te.te_compute(channel_data[i], channel_data[j], k=1, embedding =1, GPU=False)\n",
        "      if (np.any(np.isnan(te2[i][j])))==True:\n",
        "        te2[i][j]=0\n",
        "      if (np.any(np.isinf(te2[i][j])))==True:\n",
        "        te2[i][j]=1  \n",
        "\n",
        "  #np.append(train_data,pcc2, axis=0)\n",
        "  te2=cv2.resize(te2, (32,32))\n",
        "  te2=preprocessing.normalize(te2)#additional normalization layer checks whether any data is NaN\n",
        "  train_data_te.append(te2)"
      ],
      "execution_count": null,
      "outputs": []
    },
    {
      "cell_type": "code",
      "metadata": {
        "colab": {
          "base_uri": "https://localhost:8080/"
        },
        "id": "ELUiAeU2-giC",
        "outputId": "82aaf80f-cf00-408f-ac00-a9bea81c18b0"
      },
      "source": [
        "######### CNN SECTION ##########\n",
        "train_data_plv=np.array(train_data_plv)\n",
        "\n",
        "#assert not np.any(np.isnan(train_data))\n",
        "print('The shape of the train data', train_data_plv.shape)"
      ],
      "execution_count": null,
      "outputs": [
        {
          "output_type": "stream",
          "text": [
            "The shape of the train data (68, 32, 32)\n"
          ],
          "name": "stdout"
        }
      ]
    },
    {
      "cell_type": "code",
      "metadata": {
        "id": "gSDkHYaSnnKR"
      },
      "source": [
        "train_data_te=np.array(train_data_te)\n",
        "\n",
        "#assert not np.any(np.isnan(train_data))\n",
        "print('The shape of the train data', train_data_te.shape)"
      ],
      "execution_count": null,
      "outputs": []
    },
    {
      "cell_type": "code",
      "metadata": {
        "id": "vubJ8VXv_UYZ"
      },
      "source": [
        "##optional for visualizing the data\n",
        "t=np.size(train_data, 0) \n",
        "for x in range(0,t):\n",
        "  print('The image of the correlation of file', x+1)\n",
        "  plt.subplot(1, t, x+1)\n",
        "  plt.imshow(train_data[x])\n",
        "  plt.title('Image:'+ str(x+1))\n",
        "\n",
        "plt.show() \n",
        "#plt.imshow(train_data[5])\n",
        "\n",
        "plt.plot(train_data[5])"
      ],
      "execution_count": null,
      "outputs": []
    },
    {
      "cell_type": "code",
      "metadata": {
        "id": "E0phaQlUB7Zn"
      },
      "source": [
        "import tensorflow as tf\n",
        "from tensorflow import keras\n",
        "from sklearn import preprocessing\n",
        "import numpy as np\n",
        "from keras.utils import np_utils\n",
        "from keras import backend as K\n",
        "from keras.models import Sequential, Model\n",
        "from keras.layers import concatenate, Input  \n",
        "from keras.layers.core import Dense, Flatten, Activation, Dropout\n",
        "from keras.layers.convolutional import Conv2D\n",
        "from keras.layers.convolutional import MaxPooling2D\n",
        "from keras.layers.normalization import BatchNormalization\n",
        "from keras.datasets import cifar10\n",
        "from keras.optimizers import Adam, RMSprop\n",
        "import matplotlib.pyplot as plt\n",
        "import cv2"
      ],
      "execution_count": null,
      "outputs": []
    },
    {
      "cell_type": "code",
      "metadata": {
        "id": "kyhHCTbUJpA8"
      },
      "source": [
        "class MDC:\n",
        "  @staticmethod\n",
        "  def build(input_shape, classes):\n",
        "    #channel 1\n",
        "    input1=Input(shape=(input_shape))\n",
        "    conv11=Conv2D(128, kernel_size=5, padding='same', activation='relu')(input1)\n",
        "    conv12=Conv2D(128, kernel_size=5, padding='same', activation='relu')(conv11)\n",
        "    pool11=MaxPooling2D(pool_size=(2, 2))(conv12)\n",
        "    conv13=Conv2D(128, kernel_size=5, padding='same', activation='relu')(pool11)\n",
        "    conv14=Conv2D(128, kernel_size=5, padding='same', activation='relu')(conv13)\n",
        "    pool12=MaxPooling2D(pool_size=(2, 2))(conv14)\n",
        "    flat1=Flatten()(pool12)\n",
        "\n",
        "    #channel 2\n",
        "    input2=Input(shape=(input_shape))\n",
        "    conv21=Conv2D(128, kernel_size=5, padding='same', activation='relu')(input2)\n",
        "    conv22=Conv2D(128, kernel_size=5, padding='same', activation='relu')(conv21)\n",
        "    pool21=MaxPooling2D(pool_size=(2, 2))(conv22)\n",
        "    conv23=Conv2D(128, kernel_size=5, padding='same', activation='relu')(pool21)\n",
        "    conv24=Conv2D(128, kernel_size=5, padding='same', activation='relu')(conv23)\n",
        "    pool22=MaxPooling2D(pool_size=(2, 2))(conv24)\n",
        "    flat2=Flatten()(pool22)\n",
        "    #merge\n",
        "    \n",
        "    merged=concatenate([flat1, flat2])\n",
        "    dense1= Dense(500, activation='relu')(merged)\n",
        "    drop1=Dropout(0.1)(dense1)\n",
        "    \n",
        "    #Classifier\n",
        "    dense2=Dense(classes, activation='softmax')(drop1)\n",
        "    model=Model(inputs=[input1, input2], outputs=dense2)\n",
        "  \n",
        "    print(model.summary())\n",
        "    \n",
        "    return model"
      ],
      "execution_count": null,
      "outputs": []
    },
    {
      "cell_type": "code",
      "metadata": {
        "colab": {
          "base_uri": "https://localhost:8080/"
        },
        "id": "aC1VzbFXJsRI",
        "outputId": "9d9c7503-6cf8-4f49-e1a7-64410fde3f55"
      },
      "source": [
        "img_rows=32\n",
        "img_cols=32\n",
        "img_channels=1\n",
        "input_shape=(img_rows, img_cols, img_channels)\n",
        "classes=2\n",
        "\n",
        "x_train1=train_data_plv.astype('float32')\n",
        "\n",
        "y_train=train_labels\n",
        "y_train=np_utils.to_categorical(y_train, classes)\n",
        "\n",
        "#x_train=x_train\n",
        "x_train1=np.expand_dims(x_train1, axis=3)\n",
        "\n",
        "print('The shape of the train_data: ', x_train1.shape)"
      ],
      "execution_count": null,
      "outputs": [
        {
          "output_type": "stream",
          "text": [
            "The shape of the train_data:  (68, 32, 32, 1)\n"
          ],
          "name": "stdout"
        }
      ]
    },
    {
      "cell_type": "code",
      "metadata": {
        "id": "NksJnEMKnjvf"
      },
      "source": [
        "img_rows=32\n",
        "img_cols=32\n",
        "img_channels=1\n",
        "input_shape=(img_rows, img_cols, img_channels)\n",
        "classes=2\n",
        "\n",
        "x_train2=train_data_te.astype('float32')\n",
        "\n",
        "y_train=train_labels\n",
        "y_train=np_utils.to_categorical(y_train, classes)\n",
        "\n",
        "#x_train=x_train\n",
        "x_train2=np.expand_dims(x_train2, axis=3)\n",
        "\n",
        "print('The shape of the train_data: ', x_train2.shape)"
      ],
      "execution_count": null,
      "outputs": []
    },
    {
      "cell_type": "code",
      "metadata": {
        "id": "eysEBQkqTQOI"
      },
      "source": [
        "print(x_train[1]+1)"
      ],
      "execution_count": null,
      "outputs": []
    },
    {
      "cell_type": "code",
      "metadata": {
        "colab": {
          "base_uri": "https://localhost:8080/"
        },
        "id": "3CqMlR4_LLYq",
        "outputId": "507645d2-2567-46b3-db09-b09c203d8255"
      },
      "source": [
        "model=MDC.build(input_shape, classes)\n",
        "\n",
        "model.compile(loss='binary_crossentropy', optimizer=Adam(), metrics=['accuracy', 'TruePositives', 'FalseNegatives', 'TrueNegatives', 'FalsePositives'])\n",
        "history=model.fit([x_train1, x_train2], y_train, validation_split=0.1, batch_size=15, epochs=20, verbose=1)\n"
      ],
      "execution_count": null,
      "outputs": [
        {
          "output_type": "stream",
          "text": [
            "Model: \"model_1\"\n",
            "__________________________________________________________________________________________________\n",
            "Layer (type)                    Output Shape         Param #     Connected to                     \n",
            "==================================================================================================\n",
            "input_3 (InputLayer)            [(None, 32, 32, 1)]  0                                            \n",
            "__________________________________________________________________________________________________\n",
            "input_4 (InputLayer)            [(None, 32, 32, 1)]  0                                            \n",
            "__________________________________________________________________________________________________\n",
            "conv2d_4 (Conv2D)               (None, 32, 32, 128)  3328        input_3[0][0]                    \n",
            "__________________________________________________________________________________________________\n",
            "conv2d_8 (Conv2D)               (None, 32, 32, 128)  3328        input_4[0][0]                    \n",
            "__________________________________________________________________________________________________\n",
            "conv2d_5 (Conv2D)               (None, 32, 32, 128)  409728      conv2d_4[0][0]                   \n",
            "__________________________________________________________________________________________________\n",
            "conv2d_9 (Conv2D)               (None, 32, 32, 128)  409728      conv2d_8[0][0]                   \n",
            "__________________________________________________________________________________________________\n",
            "max_pooling2d_2 (MaxPooling2D)  (None, 16, 16, 128)  0           conv2d_5[0][0]                   \n",
            "__________________________________________________________________________________________________\n",
            "max_pooling2d_4 (MaxPooling2D)  (None, 16, 16, 128)  0           conv2d_9[0][0]                   \n",
            "__________________________________________________________________________________________________\n",
            "conv2d_6 (Conv2D)               (None, 16, 16, 128)  409728      max_pooling2d_2[0][0]            \n",
            "__________________________________________________________________________________________________\n",
            "conv2d_10 (Conv2D)              (None, 16, 16, 128)  409728      max_pooling2d_4[0][0]            \n",
            "__________________________________________________________________________________________________\n",
            "conv2d_7 (Conv2D)               (None, 16, 16, 128)  409728      conv2d_6[0][0]                   \n",
            "__________________________________________________________________________________________________\n",
            "conv2d_11 (Conv2D)              (None, 16, 16, 128)  409728      conv2d_10[0][0]                  \n",
            "__________________________________________________________________________________________________\n",
            "max_pooling2d_3 (MaxPooling2D)  (None, 8, 8, 128)    0           conv2d_7[0][0]                   \n",
            "__________________________________________________________________________________________________\n",
            "max_pooling2d_5 (MaxPooling2D)  (None, 8, 8, 128)    0           conv2d_11[0][0]                  \n",
            "__________________________________________________________________________________________________\n",
            "flatten_2 (Flatten)             (None, 8192)         0           max_pooling2d_3[0][0]            \n",
            "__________________________________________________________________________________________________\n",
            "flatten_3 (Flatten)             (None, 8192)         0           max_pooling2d_5[0][0]            \n",
            "__________________________________________________________________________________________________\n",
            "concatenate_1 (Concatenate)     (None, 16384)        0           flatten_2[0][0]                  \n",
            "                                                                 flatten_3[0][0]                  \n",
            "__________________________________________________________________________________________________\n",
            "dense_2 (Dense)                 (None, 500)          8192500     concatenate_1[0][0]              \n",
            "__________________________________________________________________________________________________\n",
            "dropout_1 (Dropout)             (None, 500)          0           dense_2[0][0]                    \n",
            "__________________________________________________________________________________________________\n",
            "dense_3 (Dense)                 (None, 2)            1002        dropout_1[0][0]                  \n",
            "==================================================================================================\n",
            "Total params: 10,658,526\n",
            "Trainable params: 10,658,526\n",
            "Non-trainable params: 0\n",
            "__________________________________________________________________________________________________\n",
            "None\n",
            "Epoch 1/20\n",
            "5/5 [==============================] - 10s 2s/step - loss: 0.6032 - accuracy: 0.6119 - true_positives: 29.5000 - false_negatives: 15.8333 - true_negatives: 29.5000 - false_positives: 15.8333 - val_loss: 0.6773 - val_accuracy: 0.8571 - val_true_positives: 6.0000 - val_false_negatives: 1.0000 - val_true_negatives: 6.0000 - val_false_positives: 1.0000\n",
            "Epoch 2/20\n",
            "5/5 [==============================] - 8s 2s/step - loss: 0.5549 - accuracy: 0.7457 - true_positives: 34.3333 - false_negatives: 11.0000 - true_negatives: 34.3333 - false_positives: 11.0000 - val_loss: 1.9317 - val_accuracy: 0.0000e+00 - val_true_positives: 0.0000e+00 - val_false_negatives: 7.0000 - val_true_negatives: 0.0000e+00 - val_false_positives: 7.0000\n",
            "Epoch 3/20\n",
            "5/5 [==============================] - 8s 2s/step - loss: 0.4128 - accuracy: 0.7846 - true_positives: 35.3333 - false_negatives: 10.0000 - true_negatives: 35.3333 - false_positives: 10.0000 - val_loss: 1.0350 - val_accuracy: 0.1429 - val_true_positives: 1.0000 - val_false_negatives: 6.0000 - val_true_negatives: 1.0000 - val_false_positives: 6.0000\n",
            "Epoch 4/20\n",
            "5/5 [==============================] - 8s 2s/step - loss: 0.2799 - accuracy: 0.8841 - true_positives: 39.6667 - false_negatives: 5.6667 - true_negatives: 39.6667 - false_positives: 5.6667 - val_loss: 0.1324 - val_accuracy: 1.0000 - val_true_positives: 7.0000 - val_false_negatives: 0.0000e+00 - val_true_negatives: 7.0000 - val_false_positives: 0.0000e+00\n",
            "Epoch 5/20\n",
            "5/5 [==============================] - 8s 2s/step - loss: 0.2773 - accuracy: 0.8470 - true_positives: 38.8333 - false_negatives: 6.5000 - true_negatives: 38.8333 - false_positives: 6.5000 - val_loss: 3.5675 - val_accuracy: 0.0000e+00 - val_true_positives: 0.0000e+00 - val_false_negatives: 7.0000 - val_true_negatives: 0.0000e+00 - val_false_positives: 7.0000\n",
            "Epoch 6/20\n",
            "5/5 [==============================] - 8s 2s/step - loss: 0.4085 - accuracy: 0.7824 - true_positives: 36.8333 - false_negatives: 8.5000 - true_negatives: 36.8333 - false_positives: 8.5000 - val_loss: 0.4606 - val_accuracy: 0.8571 - val_true_positives: 6.0000 - val_false_negatives: 1.0000 - val_true_negatives: 6.0000 - val_false_positives: 1.0000\n",
            "Epoch 7/20\n",
            "5/5 [==============================] - 8s 2s/step - loss: 0.1879 - accuracy: 0.9376 - true_positives: 41.8333 - false_negatives: 3.5000 - true_negatives: 41.8333 - false_positives: 3.5000 - val_loss: 0.9273 - val_accuracy: 0.4286 - val_true_positives: 3.0000 - val_false_negatives: 4.0000 - val_true_negatives: 3.0000 - val_false_positives: 4.0000\n",
            "Epoch 8/20\n",
            "5/5 [==============================] - 8s 2s/step - loss: 0.1766 - accuracy: 0.9226 - true_positives: 42.1667 - false_negatives: 3.1667 - true_negatives: 42.1667 - false_positives: 3.1667 - val_loss: 2.0334 - val_accuracy: 0.4286 - val_true_positives: 3.0000 - val_false_negatives: 4.0000 - val_true_negatives: 3.0000 - val_false_positives: 4.0000\n",
            "Epoch 9/20\n",
            "5/5 [==============================] - 8s 2s/step - loss: 0.1405 - accuracy: 0.9244 - true_positives: 42.0000 - false_negatives: 3.3333 - true_negatives: 42.0000 - false_positives: 3.3333 - val_loss: 0.9518 - val_accuracy: 0.7143 - val_true_positives: 5.0000 - val_false_negatives: 2.0000 - val_true_negatives: 5.0000 - val_false_positives: 2.0000\n",
            "Epoch 10/20\n",
            "5/5 [==============================] - 8s 2s/step - loss: 0.0857 - accuracy: 0.9522 - true_positives: 42.6667 - false_negatives: 2.6667 - true_negatives: 42.6667 - false_positives: 2.6667 - val_loss: 1.2448 - val_accuracy: 0.7143 - val_true_positives: 5.0000 - val_false_negatives: 2.0000 - val_true_negatives: 5.0000 - val_false_positives: 2.0000\n",
            "Epoch 11/20\n",
            "5/5 [==============================] - 8s 2s/step - loss: 0.0585 - accuracy: 0.9679 - true_positives: 43.5000 - false_negatives: 1.8333 - true_negatives: 43.5000 - false_positives: 1.8333 - val_loss: 1.7247 - val_accuracy: 0.5714 - val_true_positives: 4.0000 - val_false_negatives: 3.0000 - val_true_negatives: 4.0000 - val_false_positives: 3.0000\n",
            "Epoch 12/20\n",
            "5/5 [==============================] - 8s 2s/step - loss: 0.0184 - accuracy: 0.9945 - true_positives: 45.0000 - false_negatives: 0.3333 - true_negatives: 45.0000 - false_positives: 0.3333 - val_loss: 1.2468 - val_accuracy: 0.7143 - val_true_positives: 5.0000 - val_false_negatives: 2.0000 - val_true_negatives: 5.0000 - val_false_positives: 2.0000\n",
            "Epoch 13/20\n",
            "5/5 [==============================] - 8s 2s/step - loss: 0.0990 - accuracy: 0.9835 - true_positives: 44.3333 - false_negatives: 1.0000 - true_negatives: 44.3333 - false_positives: 1.0000 - val_loss: 4.1670 - val_accuracy: 0.4286 - val_true_positives: 3.0000 - val_false_negatives: 4.0000 - val_true_negatives: 3.0000 - val_false_positives: 4.0000\n",
            "Epoch 14/20\n",
            "5/5 [==============================] - 8s 2s/step - loss: 0.0669 - accuracy: 0.9825 - true_positives: 44.5000 - false_negatives: 0.8333 - true_negatives: 44.5000 - false_positives: 0.8333 - val_loss: 5.4006 - val_accuracy: 0.5714 - val_true_positives: 4.0000 - val_false_negatives: 3.0000 - val_true_negatives: 4.0000 - val_false_positives: 3.0000\n",
            "Epoch 15/20\n",
            "5/5 [==============================] - 8s 2s/step - loss: 0.0364 - accuracy: 0.9881 - true_positives: 44.6667 - false_negatives: 0.6667 - true_negatives: 44.6667 - false_positives: 0.6667 - val_loss: 9.8164 - val_accuracy: 0.5714 - val_true_positives: 4.0000 - val_false_negatives: 3.0000 - val_true_negatives: 4.0000 - val_false_positives: 3.0000\n",
            "Epoch 16/20\n",
            "5/5 [==============================] - 8s 2s/step - loss: 0.0199 - accuracy: 1.0000 - true_positives: 45.3333 - false_negatives: 0.0000e+00 - true_negatives: 45.3333 - false_positives: 0.0000e+00 - val_loss: 6.1961 - val_accuracy: 0.5714 - val_true_positives: 4.0000 - val_false_negatives: 3.0000 - val_true_negatives: 4.0000 - val_false_positives: 3.0000\n",
            "Epoch 17/20\n",
            "5/5 [==============================] - 8s 2s/step - loss: 0.1479 - accuracy: 0.9881 - true_positives: 44.6667 - false_negatives: 0.6667 - true_negatives: 44.6667 - false_positives: 0.6667 - val_loss: 3.7557 - val_accuracy: 0.4286 - val_true_positives: 3.0000 - val_false_negatives: 4.0000 - val_true_negatives: 3.0000 - val_false_positives: 4.0000\n",
            "Epoch 18/20\n",
            "5/5 [==============================] - 8s 2s/step - loss: 0.4281 - accuracy: 0.9743 - true_positives: 44.0000 - false_negatives: 1.3333 - true_negatives: 44.0000 - false_positives: 1.3333 - val_loss: 1.8517 - val_accuracy: 0.7143 - val_true_positives: 5.0000 - val_false_negatives: 2.0000 - val_true_negatives: 5.0000 - val_false_positives: 2.0000\n",
            "Epoch 19/20\n",
            "5/5 [==============================] - 8s 2s/step - loss: 0.1447 - accuracy: 0.9475 - true_positives: 43.0000 - false_negatives: 2.3333 - true_negatives: 43.0000 - false_positives: 2.3333 - val_loss: 1.3502 - val_accuracy: 0.7143 - val_true_positives: 5.0000 - val_false_negatives: 2.0000 - val_true_negatives: 5.0000 - val_false_positives: 2.0000\n",
            "Epoch 20/20\n",
            "5/5 [==============================] - 8s 2s/step - loss: 0.0410 - accuracy: 0.9714 - true_positives: 44.3333 - false_negatives: 1.0000 - true_negatives: 44.3333 - false_positives: 1.0000 - val_loss: 4.1548 - val_accuracy: 0.4286 - val_true_positives: 3.0000 - val_false_negatives: 4.0000 - val_true_negatives: 3.0000 - val_false_positives: 4.0000\n"
          ],
          "name": "stdout"
        }
      ]
    },
    {
      "cell_type": "code",
      "metadata": {
        "id": "p81S182Mh1OM"
      },
      "source": [
        "#np.add(tp,fn)"
      ],
      "execution_count": null,
      "outputs": []
    },
    {
      "cell_type": "markdown",
      "metadata": {
        "id": "vZ-vQSJNP-W-"
      },
      "source": [
        ""
      ]
    },
    {
      "cell_type": "code",
      "metadata": {
        "colab": {
          "base_uri": "https://localhost:8080/",
          "height": 854
        },
        "id": "elEuiCX2-GxD",
        "outputId": "35133edc-98e2-4004-9385-f9134268db0b"
      },
      "source": [
        "tp=np.array(history.history['true_positives'])\n",
        "fn=np.array(history.history['false_negatives'])\n",
        "tn=np.array(history.history['true_negatives'])\n",
        "fp=np.array(history.history['false_positives'])\n",
        "\n",
        "sensitivity=np.divide(tp,np.add(tp,fn))\n",
        "specificity=np.divide(tn,np.add(tn,fp))\n",
        "false_positive_rate=np.divide(fp,np.add(tn,fp))\n",
        "\n",
        "print('Accuracy: ', np.array(history.history['accuracy']))\n",
        "print('sensitivity: ', sensitivity)\n",
        "print('specificity: ', specificity)\n",
        "print('false_positive_rate: ', false_positive_rate)\n",
        "\n",
        "plt.subplot(1, 2, 1)\n",
        "plt.plot(sensitivity,'*')\n",
        "#plt.scatter(sensitivity)\n",
        "plt.title('sensitivity')\n",
        "\n",
        "plt.grid()\n",
        "\n",
        "plt.subplot(1, 2, 2)\n",
        "plt.plot(specificity, '*')\n",
        "#plt.scatter(specificity)\n",
        "plt.title('specificity')\n",
        "\n",
        "plt.grid()\n",
        "\n",
        "plt.show()\n",
        "\n",
        "plt.plot(history.history['accuracy'])\n",
        "plt.title('Accuracy')"
      ],
      "execution_count": null,
      "outputs": [
        {
          "output_type": "stream",
          "text": [
            "Accuracy:  [0.6885246  0.77049178 0.77049178 0.86885244 0.86885244 0.83606559\n",
            " 0.90163934 0.93442625 0.93442625 0.93442625 0.95081967 0.98360658\n",
            " 0.96721309 0.98360658 0.98360658 1.         0.98360658 0.96721309\n",
            " 0.95081967 0.98360658]\n",
            "sensitivity:  [0.68852459 0.7704918  0.7704918  0.86885246 0.86885246 0.83606557\n",
            " 0.90163934 0.93442623 0.93442623 0.93442623 0.95081967 0.98360656\n",
            " 0.96721311 0.98360656 0.98360656 1.         0.98360656 0.96721311\n",
            " 0.95081967 0.98360656]\n",
            "specificity:  [0.68852459 0.7704918  0.7704918  0.86885246 0.86885246 0.83606557\n",
            " 0.90163934 0.93442623 0.93442623 0.93442623 0.95081967 0.98360656\n",
            " 0.96721311 0.98360656 0.98360656 1.         0.98360656 0.96721311\n",
            " 0.95081967 0.98360656]\n",
            "false_positive_rate:  [0.31147541 0.2295082  0.2295082  0.13114754 0.13114754 0.16393443\n",
            " 0.09836066 0.06557377 0.06557377 0.06557377 0.04918033 0.01639344\n",
            " 0.03278689 0.01639344 0.01639344 0.         0.01639344 0.03278689\n",
            " 0.04918033 0.01639344]\n"
          ],
          "name": "stdout"
        },
        {
          "output_type": "display_data",
          "data": {
            "image/png": "[encoded data removed]",
            "text/plain": [
              "<Figure size 432x288 with 2 Axes>"
            ]
          },
          "metadata": {
            "tags": [],
            "needs_background": "light"
          }
        },
        {
          "output_type": "execute_result",
          "data": {
            "text/plain": [
              "Text(0.5, 1.0, 'Accuracy')"
            ]
          },
          "metadata": {
            "tags": []
          },
          "execution_count": 19
        },
        {
          "output_type": "display_data",
          "data": {
            "image/png": "[encoded data removed]",
            "text/plain": [
              "<Figure size 432x288 with 1 Axes>"
            ]
          },
          "metadata": {
            "tags": [],
            "needs_background": "light"
          }
        }
      ]
    },
    {
      "cell_type": "code",
      "metadata": {
        "colab": {
          "base_uri": "https://localhost:8080/"
        },
        "id": "kKSYj0uRnR4I",
        "outputId": "cecd10ec-7d11-4e0d-d517-659b7d6921ab"
      },
      "source": [
        "## TEST ##\n",
        "path=input('Enter the path of the Test File: ')\n",
        "files=str(path)\n",
        "raw = mne.io.read_raw_edf(files, verbose=False)\n",
        "channel_data=raw.get_data()"
      ],
      "execution_count": null,
      "outputs": [
        {
          "output_type": "stream",
          "text": [
            "Enter the path of the Test File: /content/drive/MyDrive/TUH data/01_tcp_ar/000/00000006/s002_2002_10_21/00000006_s002_t000.edf\n"
          ],
          "name": "stdout"
        }
      ]
    },
    {
      "cell_type": "code",
      "metadata": {
        "colab": {
          "base_uri": "https://localhost:8080/"
        },
        "id": "ZDQMVy4EnW1m",
        "outputId": "0ae33544-dc45-4eda-eab1-00dcc7f506c4"
      },
      "source": [
        "sh=channel_data.shape[0]\n",
        "s=(sh, sh)\n",
        "pcc2=np.zeros(s)\n",
        "ch_ls=[]\n",
        "print('shape of the channel_data: ', sh)\n",
        "for x in range(0, sh):\n",
        "  ch_ls.append(channel_data[x])\n",
        "\n",
        "#print(ch_ls)\n",
        "pcc_test=np.corrcoef(ch_ls)\n",
        "pcc_test=cv2.resize(pcc2, (32,32))"
      ],
      "execution_count": null,
      "outputs": [
        {
          "output_type": "stream",
          "text": [
            "shape of the channel_data:  32\n"
          ],
          "name": "stdout"
        }
      ]
    },
    {
      "cell_type": "code",
      "metadata": {
        "colab": {
          "base_uri": "https://localhost:8080/"
        },
        "id": "DdazBlYcn4V1",
        "outputId": "2f2c2cfb-48aa-4e77-c1c4-0fed8898706d"
      },
      "source": [
        "print(pcc_test.shape)\n",
        "pcc_test=pcc_test+1\n",
        "pcc_test=np.expand_dims(pcc_test, axis=0)\n",
        "pcc_test=np.expand_dims(pcc_test, axis=3)\n",
        "print(pcc_test.shape)"
      ],
      "execution_count": null,
      "outputs": [
        {
          "output_type": "stream",
          "text": [
            "(32, 32)\n",
            "(1, 32, 32, 1)\n"
          ],
          "name": "stdout"
        }
      ]
    },
    {
      "cell_type": "code",
      "metadata": {
        "colab": {
          "base_uri": "https://localhost:8080/"
        },
        "id": "dB5q8CpX2XLA",
        "outputId": "6f346b24-8bf6-4068-b951-aea5a742f8b2"
      },
      "source": [
        "model.predict(pcc_test)"
      ],
      "execution_count": null,
      "outputs": [
        {
          "output_type": "execute_result",
          "data": {
            "text/plain": [
              "array([[0.30548242, 0.68509996]], dtype=float32)"
            ]
          },
          "metadata": {
            "tags": []
          },
          "execution_count": 41
        }
      ]
    },
    {
      "cell_type": "code",
      "metadata": {
        "id": "mxOBx3jSLW6j"
      },
      "source": [
        "score=model.evaluate(x_test1, y_test1, verbose=1, batch_size=128)\n",
        "\n",
        "print('Test Score', score[0])\n",
        "print('Test Accuracy', score[1])"
      ],
      "execution_count": null,
      "outputs": []
    },
    {
      "cell_type": "code",
      "metadata": {
        "colab": {
          "base_uri": "https://localhost:8080/"
        },
        "id": "FyJ7ULMtXnZO",
        "outputId": "abeda83b-30de-418d-b8b6-d62148954d30"
      },
      "source": [
        "import multiprocessing \n",
        "multiprocessing.cpu_count()"
      ],
      "execution_count": null,
      "outputs": [
        {
          "output_type": "execute_result",
          "data": {
            "text/plain": [
              "2"
            ]
          },
          "metadata": {
            "tags": []
          },
          "execution_count": 3
        }
      ]
    }
  ]
}